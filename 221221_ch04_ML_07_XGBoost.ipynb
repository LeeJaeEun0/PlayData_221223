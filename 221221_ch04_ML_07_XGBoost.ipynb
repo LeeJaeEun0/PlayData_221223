{
  "nbformat": 4,
  "nbformat_minor": 0,
  "metadata": {
    "colab": {
      "provenance": [],
      "authorship_tag": "ABX9TyNJ0WW2fLKfrX/U5EYzHfgI",
      "include_colab_link": true
    },
    "kernelspec": {
      "name": "python3",
      "display_name": "Python 3"
    },
    "language_info": {
      "name": "python"
    }
  },
  "cells": [
    {
      "cell_type": "markdown",
      "metadata": {
        "id": "view-in-github",
        "colab_type": "text"
      },
      "source": [
        "<a href=\"https://colab.research.google.com/github/LeeJaeEun0/st1223/blob/main/221221_ch04_ML_07_XGBoost.ipynb\" target=\"_parent\"><img src=\"https://colab.research.google.com/assets/colab-badge.svg\" alt=\"Open In Colab\"/></a>"
      ]
    },
    {
      "cell_type": "markdown",
      "source": [
        "# 부스팅 모델\n",
        "* 순차적으로 트리를 만들어 이전트리보다 더 나은 트리를 만들어내는 알고리즘\n",
        "  * 랜덤트리 포레스트\n",
        "* XG부스트(XGBoost), 라이트GBM\n",
        "\n",
        "* 부스팅\n",
        "  * 랜덤 포레스트 = 트리를 만들어 랜덤으로 사용 =꼭 좋은 결과만 나오지 않음\n",
        "  * 부스터는 순차적으로 만들어 \n",
        "\n",
        "* XGBoost\n",
        "  * 성능이 검증된 부스팅 모델\n",
        "  * 구글 - 참고할만한 자료가 많음\n",
        "  * 이미지, 자연어가 아닌 경우 거의 모든 상황에서 사용 가능함\n",
        "\n",
        "* 장점\n",
        "  * 속도가 상당히 빠르고 예측력이 좋음\n",
        "  * 변수 종류가 많고 데이터가 클수록 상대적으로 뛰어난 성능을 보여줌\n",
        "\n",
        "* 단점\n",
        "  * 복잡한 모델인만큼 해석이 어려움\n",
        "    * 선형회귀 같은 설명이 가능한 방법도 같이 사용하면 좋다.\n",
        "  * 더 나은 성능을 위한 하이퍼파라미터 튜닝이 어려움\n",
        "    * 이미 좋은 결과가 나와서 더 개선하기 어려움"
      ],
      "metadata": {
        "id": "raRpSQGJvglm"
      }
    },
    {
      "cell_type": "markdown",
      "source": [
        "## Speed Dating Experiment"
      ],
      "metadata": {
        "id": "amI1VKnJfIv7"
      }
    },
    {
      "cell_type": "code",
      "execution_count": null,
      "metadata": {
        "id": "lpzXGw5wUaPs"
      },
      "outputs": [],
      "source": [
        "import numpy as np\n",
        "import pandas as pd\n",
        "import matplotlib.pyplot as plt\n",
        "import seaborn as sns"
      ]
    },
    {
      "cell_type": "code",
      "source": [
        "# https://www.kaggle.com/datasets/annavictoria/speed-dating-experiment\n",
        "# https://raw.githubusercontent.com/bigdata-young/ai_26th/main/data/dating.csv\n",
        "df = pd.read_csv(\"https://raw.githubusercontent.com/bigdata-young/ai_26th/main/data/dating.csv\")\n",
        "df"
      ],
      "metadata": {
        "colab": {
          "base_uri": "https://localhost:8080/",
          "height": 661
        },
        "id": "i0NBUvPmxntk",
        "outputId": "ec8a8d99-3369-4c9b-dfc1-c768a194d7f4"
      },
      "execution_count": null,
      "outputs": [
        {
          "output_type": "execute_result",
          "data": {
            "text/plain": [
              "      has_null  gender   age  age_o                                  race  \\\n",
              "0            0  female 21.00  27.00  Asian/PacificIslander/Asian-American   \n",
              "1            0  female 21.00  22.00  Asian/PacificIslander/Asian-American   \n",
              "2            1  female 21.00  22.00  Asian/PacificIslander/Asian-American   \n",
              "3            0  female 21.00  23.00  Asian/PacificIslander/Asian-American   \n",
              "4            0  female 21.00  24.00  Asian/PacificIslander/Asian-American   \n",
              "...        ...     ...   ...    ...                                   ...   \n",
              "8373         1    male 25.00  26.00           European/Caucasian-American   \n",
              "8374         1    male 25.00  24.00           European/Caucasian-American   \n",
              "8375         1    male 25.00  29.00           European/Caucasian-American   \n",
              "8376         1    male 25.00  22.00           European/Caucasian-American   \n",
              "8377         1    male 25.00  22.00           European/Caucasian-American   \n",
              "\n",
              "                                    race_o  importance_same_race  \\\n",
              "0              European/Caucasian-American                  2.00   \n",
              "1              European/Caucasian-American                  2.00   \n",
              "2     Asian/PacificIslander/Asian-American                  2.00   \n",
              "3              European/Caucasian-American                  2.00   \n",
              "4                  Latino/HispanicAmerican                  2.00   \n",
              "...                                    ...                   ...   \n",
              "8373               Latino/HispanicAmerican                  1.00   \n",
              "8374                                 Other                  1.00   \n",
              "8375               Latino/HispanicAmerican                  1.00   \n",
              "8376  Asian/PacificIslander/Asian-American                  1.00   \n",
              "8377  Asian/PacificIslander/Asian-American                  1.00   \n",
              "\n",
              "      importance_same_religion  pref_o_attractive  pref_o_sincere  ...  \\\n",
              "0                         4.00              35.00           20.00  ...   \n",
              "1                         4.00              60.00            0.00  ...   \n",
              "2                         4.00              19.00           18.00  ...   \n",
              "3                         4.00              30.00            5.00  ...   \n",
              "4                         4.00              30.00           10.00  ...   \n",
              "...                        ...                ...             ...  ...   \n",
              "8373                      1.00              10.00           10.00  ...   \n",
              "8374                      1.00              50.00           20.00  ...   \n",
              "8375                      1.00              40.00           10.00  ...   \n",
              "8376                      1.00              10.00           25.00  ...   \n",
              "8377                      1.00              20.00           20.00  ...   \n",
              "\n",
              "      funny_partner  ambition_partner  shared_interests_partner  \\\n",
              "0              7.00              6.00                      5.00   \n",
              "1              8.00              5.00                      6.00   \n",
              "2              8.00              5.00                      7.00   \n",
              "3              7.00              6.00                      8.00   \n",
              "4              7.00              6.00                      6.00   \n",
              "...             ...               ...                       ...   \n",
              "8373           5.00               NaN                       NaN   \n",
              "8374           4.00              4.00                       NaN   \n",
              "8375           8.00              8.00                       NaN   \n",
              "8376           4.00               NaN                      5.00   \n",
              "8377           4.00              8.00                      1.00   \n",
              "\n",
              "      interests_correlate  expected_happy_with_sd_people  \\\n",
              "0                    0.14                           3.00   \n",
              "1                    0.54                           3.00   \n",
              "2                    0.16                           3.00   \n",
              "3                    0.61                           3.00   \n",
              "4                    0.21                           3.00   \n",
              "...                   ...                            ...   \n",
              "8373                 0.64                          10.00   \n",
              "8374                 0.71                          10.00   \n",
              "8375                -0.46                          10.00   \n",
              "8376                 0.62                          10.00   \n",
              "8377                 0.01                          10.00   \n",
              "\n",
              "      expected_num_interested_in_me  like  guess_prob_liked  met  match  \n",
              "0                              2.00  7.00              6.00 0.00      0  \n",
              "1                              2.00  7.00              5.00 1.00      0  \n",
              "2                              2.00  7.00               NaN 1.00      1  \n",
              "3                              2.00  7.00              6.00 0.00      1  \n",
              "4                              2.00  6.00              6.00 0.00      1  \n",
              "...                             ...   ...               ...  ...    ...  \n",
              "8373                            NaN  2.00              5.00 0.00      0  \n",
              "8374                            NaN  4.00              4.00 0.00      0  \n",
              "8375                            NaN  6.00              5.00 0.00      0  \n",
              "8376                            NaN  5.00              5.00 0.00      0  \n",
              "8377                            NaN  4.00              5.00 0.00      0  \n",
              "\n",
              "[8378 rows x 39 columns]"
            ],
            "text/html": [
              "\n",
              "  <div id=\"df-f07555e0-72d8-4ef7-bb97-e3e3a4330fc2\">\n",
              "    <div class=\"colab-df-container\">\n",
              "      <div>\n",
              "<style scoped>\n",
              "    .dataframe tbody tr th:only-of-type {\n",
              "        vertical-align: middle;\n",
              "    }\n",
              "\n",
              "    .dataframe tbody tr th {\n",
              "        vertical-align: top;\n",
              "    }\n",
              "\n",
              "    .dataframe thead th {\n",
              "        text-align: right;\n",
              "    }\n",
              "</style>\n",
              "<table border=\"1\" class=\"dataframe\">\n",
              "  <thead>\n",
              "    <tr style=\"text-align: right;\">\n",
              "      <th></th>\n",
              "      <th>has_null</th>\n",
              "      <th>gender</th>\n",
              "      <th>age</th>\n",
              "      <th>age_o</th>\n",
              "      <th>race</th>\n",
              "      <th>race_o</th>\n",
              "      <th>importance_same_race</th>\n",
              "      <th>importance_same_religion</th>\n",
              "      <th>pref_o_attractive</th>\n",
              "      <th>pref_o_sincere</th>\n",
              "      <th>...</th>\n",
              "      <th>funny_partner</th>\n",
              "      <th>ambition_partner</th>\n",
              "      <th>shared_interests_partner</th>\n",
              "      <th>interests_correlate</th>\n",
              "      <th>expected_happy_with_sd_people</th>\n",
              "      <th>expected_num_interested_in_me</th>\n",
              "      <th>like</th>\n",
              "      <th>guess_prob_liked</th>\n",
              "      <th>met</th>\n",
              "      <th>match</th>\n",
              "    </tr>\n",
              "  </thead>\n",
              "  <tbody>\n",
              "    <tr>\n",
              "      <th>0</th>\n",
              "      <td>0</td>\n",
              "      <td>female</td>\n",
              "      <td>21.00</td>\n",
              "      <td>27.00</td>\n",
              "      <td>Asian/PacificIslander/Asian-American</td>\n",
              "      <td>European/Caucasian-American</td>\n",
              "      <td>2.00</td>\n",
              "      <td>4.00</td>\n",
              "      <td>35.00</td>\n",
              "      <td>20.00</td>\n",
              "      <td>...</td>\n",
              "      <td>7.00</td>\n",
              "      <td>6.00</td>\n",
              "      <td>5.00</td>\n",
              "      <td>0.14</td>\n",
              "      <td>3.00</td>\n",
              "      <td>2.00</td>\n",
              "      <td>7.00</td>\n",
              "      <td>6.00</td>\n",
              "      <td>0.00</td>\n",
              "      <td>0</td>\n",
              "    </tr>\n",
              "    <tr>\n",
              "      <th>1</th>\n",
              "      <td>0</td>\n",
              "      <td>female</td>\n",
              "      <td>21.00</td>\n",
              "      <td>22.00</td>\n",
              "      <td>Asian/PacificIslander/Asian-American</td>\n",
              "      <td>European/Caucasian-American</td>\n",
              "      <td>2.00</td>\n",
              "      <td>4.00</td>\n",
              "      <td>60.00</td>\n",
              "      <td>0.00</td>\n",
              "      <td>...</td>\n",
              "      <td>8.00</td>\n",
              "      <td>5.00</td>\n",
              "      <td>6.00</td>\n",
              "      <td>0.54</td>\n",
              "      <td>3.00</td>\n",
              "      <td>2.00</td>\n",
              "      <td>7.00</td>\n",
              "      <td>5.00</td>\n",
              "      <td>1.00</td>\n",
              "      <td>0</td>\n",
              "    </tr>\n",
              "    <tr>\n",
              "      <th>2</th>\n",
              "      <td>1</td>\n",
              "      <td>female</td>\n",
              "      <td>21.00</td>\n",
              "      <td>22.00</td>\n",
              "      <td>Asian/PacificIslander/Asian-American</td>\n",
              "      <td>Asian/PacificIslander/Asian-American</td>\n",
              "      <td>2.00</td>\n",
              "      <td>4.00</td>\n",
              "      <td>19.00</td>\n",
              "      <td>18.00</td>\n",
              "      <td>...</td>\n",
              "      <td>8.00</td>\n",
              "      <td>5.00</td>\n",
              "      <td>7.00</td>\n",
              "      <td>0.16</td>\n",
              "      <td>3.00</td>\n",
              "      <td>2.00</td>\n",
              "      <td>7.00</td>\n",
              "      <td>NaN</td>\n",
              "      <td>1.00</td>\n",
              "      <td>1</td>\n",
              "    </tr>\n",
              "    <tr>\n",
              "      <th>3</th>\n",
              "      <td>0</td>\n",
              "      <td>female</td>\n",
              "      <td>21.00</td>\n",
              "      <td>23.00</td>\n",
              "      <td>Asian/PacificIslander/Asian-American</td>\n",
              "      <td>European/Caucasian-American</td>\n",
              "      <td>2.00</td>\n",
              "      <td>4.00</td>\n",
              "      <td>30.00</td>\n",
              "      <td>5.00</td>\n",
              "      <td>...</td>\n",
              "      <td>7.00</td>\n",
              "      <td>6.00</td>\n",
              "      <td>8.00</td>\n",
              "      <td>0.61</td>\n",
              "      <td>3.00</td>\n",
              "      <td>2.00</td>\n",
              "      <td>7.00</td>\n",
              "      <td>6.00</td>\n",
              "      <td>0.00</td>\n",
              "      <td>1</td>\n",
              "    </tr>\n",
              "    <tr>\n",
              "      <th>4</th>\n",
              "      <td>0</td>\n",
              "      <td>female</td>\n",
              "      <td>21.00</td>\n",
              "      <td>24.00</td>\n",
              "      <td>Asian/PacificIslander/Asian-American</td>\n",
              "      <td>Latino/HispanicAmerican</td>\n",
              "      <td>2.00</td>\n",
              "      <td>4.00</td>\n",
              "      <td>30.00</td>\n",
              "      <td>10.00</td>\n",
              "      <td>...</td>\n",
              "      <td>7.00</td>\n",
              "      <td>6.00</td>\n",
              "      <td>6.00</td>\n",
              "      <td>0.21</td>\n",
              "      <td>3.00</td>\n",
              "      <td>2.00</td>\n",
              "      <td>6.00</td>\n",
              "      <td>6.00</td>\n",
              "      <td>0.00</td>\n",
              "      <td>1</td>\n",
              "    </tr>\n",
              "    <tr>\n",
              "      <th>...</th>\n",
              "      <td>...</td>\n",
              "      <td>...</td>\n",
              "      <td>...</td>\n",
              "      <td>...</td>\n",
              "      <td>...</td>\n",
              "      <td>...</td>\n",
              "      <td>...</td>\n",
              "      <td>...</td>\n",
              "      <td>...</td>\n",
              "      <td>...</td>\n",
              "      <td>...</td>\n",
              "      <td>...</td>\n",
              "      <td>...</td>\n",
              "      <td>...</td>\n",
              "      <td>...</td>\n",
              "      <td>...</td>\n",
              "      <td>...</td>\n",
              "      <td>...</td>\n",
              "      <td>...</td>\n",
              "      <td>...</td>\n",
              "      <td>...</td>\n",
              "    </tr>\n",
              "    <tr>\n",
              "      <th>8373</th>\n",
              "      <td>1</td>\n",
              "      <td>male</td>\n",
              "      <td>25.00</td>\n",
              "      <td>26.00</td>\n",
              "      <td>European/Caucasian-American</td>\n",
              "      <td>Latino/HispanicAmerican</td>\n",
              "      <td>1.00</td>\n",
              "      <td>1.00</td>\n",
              "      <td>10.00</td>\n",
              "      <td>10.00</td>\n",
              "      <td>...</td>\n",
              "      <td>5.00</td>\n",
              "      <td>NaN</td>\n",
              "      <td>NaN</td>\n",
              "      <td>0.64</td>\n",
              "      <td>10.00</td>\n",
              "      <td>NaN</td>\n",
              "      <td>2.00</td>\n",
              "      <td>5.00</td>\n",
              "      <td>0.00</td>\n",
              "      <td>0</td>\n",
              "    </tr>\n",
              "    <tr>\n",
              "      <th>8374</th>\n",
              "      <td>1</td>\n",
              "      <td>male</td>\n",
              "      <td>25.00</td>\n",
              "      <td>24.00</td>\n",
              "      <td>European/Caucasian-American</td>\n",
              "      <td>Other</td>\n",
              "      <td>1.00</td>\n",
              "      <td>1.00</td>\n",
              "      <td>50.00</td>\n",
              "      <td>20.00</td>\n",
              "      <td>...</td>\n",
              "      <td>4.00</td>\n",
              "      <td>4.00</td>\n",
              "      <td>NaN</td>\n",
              "      <td>0.71</td>\n",
              "      <td>10.00</td>\n",
              "      <td>NaN</td>\n",
              "      <td>4.00</td>\n",
              "      <td>4.00</td>\n",
              "      <td>0.00</td>\n",
              "      <td>0</td>\n",
              "    </tr>\n",
              "    <tr>\n",
              "      <th>8375</th>\n",
              "      <td>1</td>\n",
              "      <td>male</td>\n",
              "      <td>25.00</td>\n",
              "      <td>29.00</td>\n",
              "      <td>European/Caucasian-American</td>\n",
              "      <td>Latino/HispanicAmerican</td>\n",
              "      <td>1.00</td>\n",
              "      <td>1.00</td>\n",
              "      <td>40.00</td>\n",
              "      <td>10.00</td>\n",
              "      <td>...</td>\n",
              "      <td>8.00</td>\n",
              "      <td>8.00</td>\n",
              "      <td>NaN</td>\n",
              "      <td>-0.46</td>\n",
              "      <td>10.00</td>\n",
              "      <td>NaN</td>\n",
              "      <td>6.00</td>\n",
              "      <td>5.00</td>\n",
              "      <td>0.00</td>\n",
              "      <td>0</td>\n",
              "    </tr>\n",
              "    <tr>\n",
              "      <th>8376</th>\n",
              "      <td>1</td>\n",
              "      <td>male</td>\n",
              "      <td>25.00</td>\n",
              "      <td>22.00</td>\n",
              "      <td>European/Caucasian-American</td>\n",
              "      <td>Asian/PacificIslander/Asian-American</td>\n",
              "      <td>1.00</td>\n",
              "      <td>1.00</td>\n",
              "      <td>10.00</td>\n",
              "      <td>25.00</td>\n",
              "      <td>...</td>\n",
              "      <td>4.00</td>\n",
              "      <td>NaN</td>\n",
              "      <td>5.00</td>\n",
              "      <td>0.62</td>\n",
              "      <td>10.00</td>\n",
              "      <td>NaN</td>\n",
              "      <td>5.00</td>\n",
              "      <td>5.00</td>\n",
              "      <td>0.00</td>\n",
              "      <td>0</td>\n",
              "    </tr>\n",
              "    <tr>\n",
              "      <th>8377</th>\n",
              "      <td>1</td>\n",
              "      <td>male</td>\n",
              "      <td>25.00</td>\n",
              "      <td>22.00</td>\n",
              "      <td>European/Caucasian-American</td>\n",
              "      <td>Asian/PacificIslander/Asian-American</td>\n",
              "      <td>1.00</td>\n",
              "      <td>1.00</td>\n",
              "      <td>20.00</td>\n",
              "      <td>20.00</td>\n",
              "      <td>...</td>\n",
              "      <td>4.00</td>\n",
              "      <td>8.00</td>\n",
              "      <td>1.00</td>\n",
              "      <td>0.01</td>\n",
              "      <td>10.00</td>\n",
              "      <td>NaN</td>\n",
              "      <td>4.00</td>\n",
              "      <td>5.00</td>\n",
              "      <td>0.00</td>\n",
              "      <td>0</td>\n",
              "    </tr>\n",
              "  </tbody>\n",
              "</table>\n",
              "<p>8378 rows × 39 columns</p>\n",
              "</div>\n",
              "      <button class=\"colab-df-convert\" onclick=\"convertToInteractive('df-f07555e0-72d8-4ef7-bb97-e3e3a4330fc2')\"\n",
              "              title=\"Convert this dataframe to an interactive table.\"\n",
              "              style=\"display:none;\">\n",
              "        \n",
              "  <svg xmlns=\"http://www.w3.org/2000/svg\" height=\"24px\"viewBox=\"0 0 24 24\"\n",
              "       width=\"24px\">\n",
              "    <path d=\"M0 0h24v24H0V0z\" fill=\"none\"/>\n",
              "    <path d=\"M18.56 5.44l.94 2.06.94-2.06 2.06-.94-2.06-.94-.94-2.06-.94 2.06-2.06.94zm-11 1L8.5 8.5l.94-2.06 2.06-.94-2.06-.94L8.5 2.5l-.94 2.06-2.06.94zm10 10l.94 2.06.94-2.06 2.06-.94-2.06-.94-.94-2.06-.94 2.06-2.06.94z\"/><path d=\"M17.41 7.96l-1.37-1.37c-.4-.4-.92-.59-1.43-.59-.52 0-1.04.2-1.43.59L10.3 9.45l-7.72 7.72c-.78.78-.78 2.05 0 2.83L4 21.41c.39.39.9.59 1.41.59.51 0 1.02-.2 1.41-.59l7.78-7.78 2.81-2.81c.8-.78.8-2.07 0-2.86zM5.41 20L4 18.59l7.72-7.72 1.47 1.35L5.41 20z\"/>\n",
              "  </svg>\n",
              "      </button>\n",
              "      \n",
              "  <style>\n",
              "    .colab-df-container {\n",
              "      display:flex;\n",
              "      flex-wrap:wrap;\n",
              "      gap: 12px;\n",
              "    }\n",
              "\n",
              "    .colab-df-convert {\n",
              "      background-color: #E8F0FE;\n",
              "      border: none;\n",
              "      border-radius: 50%;\n",
              "      cursor: pointer;\n",
              "      display: none;\n",
              "      fill: #1967D2;\n",
              "      height: 32px;\n",
              "      padding: 0 0 0 0;\n",
              "      width: 32px;\n",
              "    }\n",
              "\n",
              "    .colab-df-convert:hover {\n",
              "      background-color: #E2EBFA;\n",
              "      box-shadow: 0px 1px 2px rgba(60, 64, 67, 0.3), 0px 1px 3px 1px rgba(60, 64, 67, 0.15);\n",
              "      fill: #174EA6;\n",
              "    }\n",
              "\n",
              "    [theme=dark] .colab-df-convert {\n",
              "      background-color: #3B4455;\n",
              "      fill: #D2E3FC;\n",
              "    }\n",
              "\n",
              "    [theme=dark] .colab-df-convert:hover {\n",
              "      background-color: #434B5C;\n",
              "      box-shadow: 0px 1px 3px 1px rgba(0, 0, 0, 0.15);\n",
              "      filter: drop-shadow(0px 1px 2px rgba(0, 0, 0, 0.3));\n",
              "      fill: #FFFFFF;\n",
              "    }\n",
              "  </style>\n",
              "\n",
              "      <script>\n",
              "        const buttonEl =\n",
              "          document.querySelector('#df-f07555e0-72d8-4ef7-bb97-e3e3a4330fc2 button.colab-df-convert');\n",
              "        buttonEl.style.display =\n",
              "          google.colab.kernel.accessAllowed ? 'block' : 'none';\n",
              "\n",
              "        async function convertToInteractive(key) {\n",
              "          const element = document.querySelector('#df-f07555e0-72d8-4ef7-bb97-e3e3a4330fc2');\n",
              "          const dataTable =\n",
              "            await google.colab.kernel.invokeFunction('convertToInteractive',\n",
              "                                                     [key], {});\n",
              "          if (!dataTable) return;\n",
              "\n",
              "          const docLinkHtml = 'Like what you see? Visit the ' +\n",
              "            '<a target=\"_blank\" href=https://colab.research.google.com/notebooks/data_table.ipynb>data table notebook</a>'\n",
              "            + ' to learn more about interactive tables.';\n",
              "          element.innerHTML = '';\n",
              "          dataTable['output_type'] = 'display_data';\n",
              "          await google.colab.output.renderOutput(dataTable, element);\n",
              "          const docLink = document.createElement('div');\n",
              "          docLink.innerHTML = docLinkHtml;\n",
              "          element.appendChild(docLink);\n",
              "        }\n",
              "      </script>\n",
              "    </div>\n",
              "  </div>\n",
              "  "
            ]
          },
          "metadata": {},
          "execution_count": 163
        }
      ]
    },
    {
      "cell_type": "markdown",
      "source": [
        "# 변수 목록\n",
        "## 목표값, 종속변수, 라벨, y\n",
        "* match\n",
        "## 관측값, 독립변수, 피처, X\n",
        "* has_null\n",
        "    - 변수 중 Null값이 있는지 여부. 단, 이 데이터는 기존 데이터에서 일부 변수들이 생략된 축소판이기 때문에, 여기서 보이는 Null값 여부와 다소 차이가 있을 수 있음.\n",
        "    - 전반적으로 무응답 항목이 있는지에 대한 정보이므로 그대로 사용\n",
        "* age / age_o : age는 본인 나이이며 age_o는 상대방 나이.\n",
        "* race / race_o : 마찬가지로 본인과 상대의 인종 정보.\n",
        "* importance_same_race / importance_same_religion\n",
        "    * 인종과 종교를 중요시 여기는지에 대한 응답\n",
        "* attractive(매력적인), sincere(성실한), intelligence(지적), funny(재미난), ambitious(야심찬), shared_ interests(공통관심사) : 이 항목들은 4가지 관점에서 평가되어 총 변수가 24(6 × 4)개\n",
        "    * pref_o_xxx( 예 : pref_o_attractive) : 상대방이 xxx 항목을 얼마나 중요하게 생각하는가에 대한 응답\n",
        "    * xxx_o(예: attractive_o) : 상대방이 본인에 대한 xxx 항목을 평가한 항목\n",
        "    * xxx_important(예 : attractive_important) : xxx 항목에 대해 본인이 얼마나 중요하게 생각하는가에 대한 응답\n",
        "    * xxx_partner(예 : attractive_partner) : 본인이 상대방에 대한 xxx 항목을 평가한 항목\n",
        "* interests_correlate : 관심사(취미 등) 연관도\n",
        "* expected_happy_with_sd_people : 스피드 데이팅을 통해 만난 사람과 함께할 때 얼마나 좋을\n",
        "지에 대한 기대치\n",
        "* expected_num_interested_in_me : 얼마나 많은 사람이 나에게 관심을 보일지에 대한 기대치\n",
        "* like : 파트너가 마음에 들었는지 여부\n",
        "* guess_prob_liked : 파트너가 나를 마음에 들어했을지에 대한 예상\n",
        "* met: 파트너를 스피드 데이팅 이벤트 이전에 만난 적이 있는지 여부"
      ],
      "metadata": {
        "id": "f2Fg0-X_y8F9"
      }
    },
    {
      "cell_type": "code",
      "source": [
        "df.info()"
      ],
      "metadata": {
        "colab": {
          "base_uri": "https://localhost:8080/"
        },
        "id": "YH_vulf6x8Tt",
        "outputId": "f3e7ffc5-9246-47cd-d0a1-a8f93f0d2814"
      },
      "execution_count": null,
      "outputs": [
        {
          "output_type": "stream",
          "name": "stdout",
          "text": [
            "<class 'pandas.core.frame.DataFrame'>\n",
            "RangeIndex: 8378 entries, 0 to 8377\n",
            "Data columns (total 39 columns):\n",
            " #   Column                         Non-Null Count  Dtype  \n",
            "---  ------                         --------------  -----  \n",
            " 0   has_null                       8378 non-null   int64  \n",
            " 1   gender                         8378 non-null   object \n",
            " 2   age                            8283 non-null   float64\n",
            " 3   age_o                          8274 non-null   float64\n",
            " 4   race                           8315 non-null   object \n",
            " 5   race_o                         8305 non-null   object \n",
            " 6   importance_same_race           8299 non-null   float64\n",
            " 7   importance_same_religion       8299 non-null   float64\n",
            " 8   pref_o_attractive              8289 non-null   float64\n",
            " 9   pref_o_sincere                 8289 non-null   float64\n",
            " 10  pref_o_intelligence            8289 non-null   float64\n",
            " 11  pref_o_funny                   8280 non-null   float64\n",
            " 12  pref_o_ambitious               8271 non-null   float64\n",
            " 13  pref_o_shared_interests        8249 non-null   float64\n",
            " 14  attractive_o                   8166 non-null   float64\n",
            " 15  sincere_o                      8091 non-null   float64\n",
            " 16  intelligence_o                 8072 non-null   float64\n",
            " 17  funny_o                        8018 non-null   float64\n",
            " 18  ambitous_o                     7656 non-null   float64\n",
            " 19  shared_interests_o             7302 non-null   float64\n",
            " 20  attractive_important           8299 non-null   float64\n",
            " 21  sincere_important              8299 non-null   float64\n",
            " 22  intellicence_important         8299 non-null   float64\n",
            " 23  funny_important                8289 non-null   float64\n",
            " 24  ambtition_important            8279 non-null   float64\n",
            " 25  shared_interests_important     8257 non-null   float64\n",
            " 26  attractive_partner             8176 non-null   float64\n",
            " 27  sincere_partner                8101 non-null   float64\n",
            " 28  intelligence_partner           8082 non-null   float64\n",
            " 29  funny_partner                  8028 non-null   float64\n",
            " 30  ambition_partner               7666 non-null   float64\n",
            " 31  shared_interests_partner       7311 non-null   float64\n",
            " 32  interests_correlate            8220 non-null   float64\n",
            " 33  expected_happy_with_sd_people  8277 non-null   float64\n",
            " 34  expected_num_interested_in_me  1800 non-null   float64\n",
            " 35  like                           8138 non-null   float64\n",
            " 36  guess_prob_liked               8069 non-null   float64\n",
            " 37  met                            8003 non-null   float64\n",
            " 38  match                          8378 non-null   int64  \n",
            "dtypes: float64(34), int64(2), object(3)\n",
            "memory usage: 2.5+ MB\n"
          ]
        }
      ]
    },
    {
      "cell_type": "code",
      "source": [
        "pd.options.display.float_format = \"{:.2f}\".format\n",
        "df.describe()"
      ],
      "metadata": {
        "colab": {
          "base_uri": "https://localhost:8080/",
          "height": 393
        },
        "id": "EGnzLFklymRe",
        "outputId": "e99f8118-21c6-4806-8b11-4463b43a6303"
      },
      "execution_count": null,
      "outputs": [
        {
          "output_type": "execute_result",
          "data": {
            "text/plain": [
              "       has_null     age   age_o  importance_same_race  \\\n",
              "count   8378.00 8283.00 8274.00               8299.00   \n",
              "mean       0.87   26.36   26.36                  3.78   \n",
              "std        0.33    3.57    3.56                  2.85   \n",
              "min        0.00   18.00   18.00                  0.00   \n",
              "25%        1.00   24.00   24.00                  1.00   \n",
              "50%        1.00   26.00   26.00                  3.00   \n",
              "75%        1.00   28.00   28.00                  6.00   \n",
              "max        1.00   55.00   55.00                 10.00   \n",
              "\n",
              "       importance_same_religion  pref_o_attractive  pref_o_sincere  \\\n",
              "count                   8299.00            8289.00         8289.00   \n",
              "mean                       3.65              22.50           17.40   \n",
              "std                        2.81              12.57            7.04   \n",
              "min                        1.00               0.00            0.00   \n",
              "25%                        1.00              15.00           15.00   \n",
              "50%                        3.00              20.00           18.37   \n",
              "75%                        6.00              25.00           20.00   \n",
              "max                       10.00             100.00           60.00   \n",
              "\n",
              "       pref_o_intelligence  pref_o_funny  pref_o_ambitious  ...  \\\n",
              "count              8289.00       8280.00           8271.00  ...   \n",
              "mean                 20.27         17.46             10.69  ...   \n",
              "std                   6.78          6.09              6.13  ...   \n",
              "min                   0.00          0.00              0.00  ...   \n",
              "25%                  17.39         15.00              5.00  ...   \n",
              "50%                  20.00         18.00             10.00  ...   \n",
              "75%                  23.81         20.00             15.00  ...   \n",
              "max                  50.00         50.00             53.00  ...   \n",
              "\n",
              "       funny_partner  ambition_partner  shared_interests_partner  \\\n",
              "count        8028.00           7666.00                   7311.00   \n",
              "mean            6.40              6.78                      5.47   \n",
              "std             1.95              1.79                      2.16   \n",
              "min             0.00              0.00                      0.00   \n",
              "25%             5.00              6.00                      4.00   \n",
              "50%             7.00              7.00                      6.00   \n",
              "75%             8.00              8.00                      7.00   \n",
              "max            10.00             10.00                     10.00   \n",
              "\n",
              "       interests_correlate  expected_happy_with_sd_people  \\\n",
              "count              8220.00                        8277.00   \n",
              "mean                  0.20                           5.53   \n",
              "std                   0.30                           1.73   \n",
              "min                  -0.83                           1.00   \n",
              "25%                  -0.02                           5.00   \n",
              "50%                   0.21                           6.00   \n",
              "75%                   0.43                           7.00   \n",
              "max                   0.91                          10.00   \n",
              "\n",
              "       expected_num_interested_in_me    like  guess_prob_liked     met   match  \n",
              "count                        1800.00 8138.00           8069.00 8003.00 8378.00  \n",
              "mean                            5.57    6.13              5.21    0.05    0.16  \n",
              "std                             4.76    1.84              2.13    0.28    0.37  \n",
              "min                             0.00    0.00              0.00    0.00    0.00  \n",
              "25%                             2.00    5.00              4.00    0.00    0.00  \n",
              "50%                             4.00    6.00              5.00    0.00    0.00  \n",
              "75%                             8.00    7.00              7.00    0.00    0.00  \n",
              "max                            20.00   10.00             10.00    8.00    1.00  \n",
              "\n",
              "[8 rows x 36 columns]"
            ],
            "text/html": [
              "\n",
              "  <div id=\"df-3dc99700-f4bd-41d6-acaa-4d5124e73bf1\">\n",
              "    <div class=\"colab-df-container\">\n",
              "      <div>\n",
              "<style scoped>\n",
              "    .dataframe tbody tr th:only-of-type {\n",
              "        vertical-align: middle;\n",
              "    }\n",
              "\n",
              "    .dataframe tbody tr th {\n",
              "        vertical-align: top;\n",
              "    }\n",
              "\n",
              "    .dataframe thead th {\n",
              "        text-align: right;\n",
              "    }\n",
              "</style>\n",
              "<table border=\"1\" class=\"dataframe\">\n",
              "  <thead>\n",
              "    <tr style=\"text-align: right;\">\n",
              "      <th></th>\n",
              "      <th>has_null</th>\n",
              "      <th>age</th>\n",
              "      <th>age_o</th>\n",
              "      <th>importance_same_race</th>\n",
              "      <th>importance_same_religion</th>\n",
              "      <th>pref_o_attractive</th>\n",
              "      <th>pref_o_sincere</th>\n",
              "      <th>pref_o_intelligence</th>\n",
              "      <th>pref_o_funny</th>\n",
              "      <th>pref_o_ambitious</th>\n",
              "      <th>...</th>\n",
              "      <th>funny_partner</th>\n",
              "      <th>ambition_partner</th>\n",
              "      <th>shared_interests_partner</th>\n",
              "      <th>interests_correlate</th>\n",
              "      <th>expected_happy_with_sd_people</th>\n",
              "      <th>expected_num_interested_in_me</th>\n",
              "      <th>like</th>\n",
              "      <th>guess_prob_liked</th>\n",
              "      <th>met</th>\n",
              "      <th>match</th>\n",
              "    </tr>\n",
              "  </thead>\n",
              "  <tbody>\n",
              "    <tr>\n",
              "      <th>count</th>\n",
              "      <td>8378.00</td>\n",
              "      <td>8283.00</td>\n",
              "      <td>8274.00</td>\n",
              "      <td>8299.00</td>\n",
              "      <td>8299.00</td>\n",
              "      <td>8289.00</td>\n",
              "      <td>8289.00</td>\n",
              "      <td>8289.00</td>\n",
              "      <td>8280.00</td>\n",
              "      <td>8271.00</td>\n",
              "      <td>...</td>\n",
              "      <td>8028.00</td>\n",
              "      <td>7666.00</td>\n",
              "      <td>7311.00</td>\n",
              "      <td>8220.00</td>\n",
              "      <td>8277.00</td>\n",
              "      <td>1800.00</td>\n",
              "      <td>8138.00</td>\n",
              "      <td>8069.00</td>\n",
              "      <td>8003.00</td>\n",
              "      <td>8378.00</td>\n",
              "    </tr>\n",
              "    <tr>\n",
              "      <th>mean</th>\n",
              "      <td>0.87</td>\n",
              "      <td>26.36</td>\n",
              "      <td>26.36</td>\n",
              "      <td>3.78</td>\n",
              "      <td>3.65</td>\n",
              "      <td>22.50</td>\n",
              "      <td>17.40</td>\n",
              "      <td>20.27</td>\n",
              "      <td>17.46</td>\n",
              "      <td>10.69</td>\n",
              "      <td>...</td>\n",
              "      <td>6.40</td>\n",
              "      <td>6.78</td>\n",
              "      <td>5.47</td>\n",
              "      <td>0.20</td>\n",
              "      <td>5.53</td>\n",
              "      <td>5.57</td>\n",
              "      <td>6.13</td>\n",
              "      <td>5.21</td>\n",
              "      <td>0.05</td>\n",
              "      <td>0.16</td>\n",
              "    </tr>\n",
              "    <tr>\n",
              "      <th>std</th>\n",
              "      <td>0.33</td>\n",
              "      <td>3.57</td>\n",
              "      <td>3.56</td>\n",
              "      <td>2.85</td>\n",
              "      <td>2.81</td>\n",
              "      <td>12.57</td>\n",
              "      <td>7.04</td>\n",
              "      <td>6.78</td>\n",
              "      <td>6.09</td>\n",
              "      <td>6.13</td>\n",
              "      <td>...</td>\n",
              "      <td>1.95</td>\n",
              "      <td>1.79</td>\n",
              "      <td>2.16</td>\n",
              "      <td>0.30</td>\n",
              "      <td>1.73</td>\n",
              "      <td>4.76</td>\n",
              "      <td>1.84</td>\n",
              "      <td>2.13</td>\n",
              "      <td>0.28</td>\n",
              "      <td>0.37</td>\n",
              "    </tr>\n",
              "    <tr>\n",
              "      <th>min</th>\n",
              "      <td>0.00</td>\n",
              "      <td>18.00</td>\n",
              "      <td>18.00</td>\n",
              "      <td>0.00</td>\n",
              "      <td>1.00</td>\n",
              "      <td>0.00</td>\n",
              "      <td>0.00</td>\n",
              "      <td>0.00</td>\n",
              "      <td>0.00</td>\n",
              "      <td>0.00</td>\n",
              "      <td>...</td>\n",
              "      <td>0.00</td>\n",
              "      <td>0.00</td>\n",
              "      <td>0.00</td>\n",
              "      <td>-0.83</td>\n",
              "      <td>1.00</td>\n",
              "      <td>0.00</td>\n",
              "      <td>0.00</td>\n",
              "      <td>0.00</td>\n",
              "      <td>0.00</td>\n",
              "      <td>0.00</td>\n",
              "    </tr>\n",
              "    <tr>\n",
              "      <th>25%</th>\n",
              "      <td>1.00</td>\n",
              "      <td>24.00</td>\n",
              "      <td>24.00</td>\n",
              "      <td>1.00</td>\n",
              "      <td>1.00</td>\n",
              "      <td>15.00</td>\n",
              "      <td>15.00</td>\n",
              "      <td>17.39</td>\n",
              "      <td>15.00</td>\n",
              "      <td>5.00</td>\n",
              "      <td>...</td>\n",
              "      <td>5.00</td>\n",
              "      <td>6.00</td>\n",
              "      <td>4.00</td>\n",
              "      <td>-0.02</td>\n",
              "      <td>5.00</td>\n",
              "      <td>2.00</td>\n",
              "      <td>5.00</td>\n",
              "      <td>4.00</td>\n",
              "      <td>0.00</td>\n",
              "      <td>0.00</td>\n",
              "    </tr>\n",
              "    <tr>\n",
              "      <th>50%</th>\n",
              "      <td>1.00</td>\n",
              "      <td>26.00</td>\n",
              "      <td>26.00</td>\n",
              "      <td>3.00</td>\n",
              "      <td>3.00</td>\n",
              "      <td>20.00</td>\n",
              "      <td>18.37</td>\n",
              "      <td>20.00</td>\n",
              "      <td>18.00</td>\n",
              "      <td>10.00</td>\n",
              "      <td>...</td>\n",
              "      <td>7.00</td>\n",
              "      <td>7.00</td>\n",
              "      <td>6.00</td>\n",
              "      <td>0.21</td>\n",
              "      <td>6.00</td>\n",
              "      <td>4.00</td>\n",
              "      <td>6.00</td>\n",
              "      <td>5.00</td>\n",
              "      <td>0.00</td>\n",
              "      <td>0.00</td>\n",
              "    </tr>\n",
              "    <tr>\n",
              "      <th>75%</th>\n",
              "      <td>1.00</td>\n",
              "      <td>28.00</td>\n",
              "      <td>28.00</td>\n",
              "      <td>6.00</td>\n",
              "      <td>6.00</td>\n",
              "      <td>25.00</td>\n",
              "      <td>20.00</td>\n",
              "      <td>23.81</td>\n",
              "      <td>20.00</td>\n",
              "      <td>15.00</td>\n",
              "      <td>...</td>\n",
              "      <td>8.00</td>\n",
              "      <td>8.00</td>\n",
              "      <td>7.00</td>\n",
              "      <td>0.43</td>\n",
              "      <td>7.00</td>\n",
              "      <td>8.00</td>\n",
              "      <td>7.00</td>\n",
              "      <td>7.00</td>\n",
              "      <td>0.00</td>\n",
              "      <td>0.00</td>\n",
              "    </tr>\n",
              "    <tr>\n",
              "      <th>max</th>\n",
              "      <td>1.00</td>\n",
              "      <td>55.00</td>\n",
              "      <td>55.00</td>\n",
              "      <td>10.00</td>\n",
              "      <td>10.00</td>\n",
              "      <td>100.00</td>\n",
              "      <td>60.00</td>\n",
              "      <td>50.00</td>\n",
              "      <td>50.00</td>\n",
              "      <td>53.00</td>\n",
              "      <td>...</td>\n",
              "      <td>10.00</td>\n",
              "      <td>10.00</td>\n",
              "      <td>10.00</td>\n",
              "      <td>0.91</td>\n",
              "      <td>10.00</td>\n",
              "      <td>20.00</td>\n",
              "      <td>10.00</td>\n",
              "      <td>10.00</td>\n",
              "      <td>8.00</td>\n",
              "      <td>1.00</td>\n",
              "    </tr>\n",
              "  </tbody>\n",
              "</table>\n",
              "<p>8 rows × 36 columns</p>\n",
              "</div>\n",
              "      <button class=\"colab-df-convert\" onclick=\"convertToInteractive('df-3dc99700-f4bd-41d6-acaa-4d5124e73bf1')\"\n",
              "              title=\"Convert this dataframe to an interactive table.\"\n",
              "              style=\"display:none;\">\n",
              "        \n",
              "  <svg xmlns=\"http://www.w3.org/2000/svg\" height=\"24px\"viewBox=\"0 0 24 24\"\n",
              "       width=\"24px\">\n",
              "    <path d=\"M0 0h24v24H0V0z\" fill=\"none\"/>\n",
              "    <path d=\"M18.56 5.44l.94 2.06.94-2.06 2.06-.94-2.06-.94-.94-2.06-.94 2.06-2.06.94zm-11 1L8.5 8.5l.94-2.06 2.06-.94-2.06-.94L8.5 2.5l-.94 2.06-2.06.94zm10 10l.94 2.06.94-2.06 2.06-.94-2.06-.94-.94-2.06-.94 2.06-2.06.94z\"/><path d=\"M17.41 7.96l-1.37-1.37c-.4-.4-.92-.59-1.43-.59-.52 0-1.04.2-1.43.59L10.3 9.45l-7.72 7.72c-.78.78-.78 2.05 0 2.83L4 21.41c.39.39.9.59 1.41.59.51 0 1.02-.2 1.41-.59l7.78-7.78 2.81-2.81c.8-.78.8-2.07 0-2.86zM5.41 20L4 18.59l7.72-7.72 1.47 1.35L5.41 20z\"/>\n",
              "  </svg>\n",
              "      </button>\n",
              "      \n",
              "  <style>\n",
              "    .colab-df-container {\n",
              "      display:flex;\n",
              "      flex-wrap:wrap;\n",
              "      gap: 12px;\n",
              "    }\n",
              "\n",
              "    .colab-df-convert {\n",
              "      background-color: #E8F0FE;\n",
              "      border: none;\n",
              "      border-radius: 50%;\n",
              "      cursor: pointer;\n",
              "      display: none;\n",
              "      fill: #1967D2;\n",
              "      height: 32px;\n",
              "      padding: 0 0 0 0;\n",
              "      width: 32px;\n",
              "    }\n",
              "\n",
              "    .colab-df-convert:hover {\n",
              "      background-color: #E2EBFA;\n",
              "      box-shadow: 0px 1px 2px rgba(60, 64, 67, 0.3), 0px 1px 3px 1px rgba(60, 64, 67, 0.15);\n",
              "      fill: #174EA6;\n",
              "    }\n",
              "\n",
              "    [theme=dark] .colab-df-convert {\n",
              "      background-color: #3B4455;\n",
              "      fill: #D2E3FC;\n",
              "    }\n",
              "\n",
              "    [theme=dark] .colab-df-convert:hover {\n",
              "      background-color: #434B5C;\n",
              "      box-shadow: 0px 1px 3px 1px rgba(0, 0, 0, 0.15);\n",
              "      filter: drop-shadow(0px 1px 2px rgba(0, 0, 0, 0.3));\n",
              "      fill: #FFFFFF;\n",
              "    }\n",
              "  </style>\n",
              "\n",
              "      <script>\n",
              "        const buttonEl =\n",
              "          document.querySelector('#df-3dc99700-f4bd-41d6-acaa-4d5124e73bf1 button.colab-df-convert');\n",
              "        buttonEl.style.display =\n",
              "          google.colab.kernel.accessAllowed ? 'block' : 'none';\n",
              "\n",
              "        async function convertToInteractive(key) {\n",
              "          const element = document.querySelector('#df-3dc99700-f4bd-41d6-acaa-4d5124e73bf1');\n",
              "          const dataTable =\n",
              "            await google.colab.kernel.invokeFunction('convertToInteractive',\n",
              "                                                     [key], {});\n",
              "          if (!dataTable) return;\n",
              "\n",
              "          const docLinkHtml = 'Like what you see? Visit the ' +\n",
              "            '<a target=\"_blank\" href=https://colab.research.google.com/notebooks/data_table.ipynb>data table notebook</a>'\n",
              "            + ' to learn more about interactive tables.';\n",
              "          element.innerHTML = '';\n",
              "          dataTable['output_type'] = 'display_data';\n",
              "          await google.colab.output.renderOutput(dataTable, element);\n",
              "          const docLink = document.createElement('div');\n",
              "          docLink.innerHTML = docLinkHtml;\n",
              "          element.appendChild(docLink);\n",
              "        }\n",
              "      </script>\n",
              "    </div>\n",
              "  </div>\n",
              "  "
            ]
          },
          "metadata": {},
          "execution_count": 165
        }
      ]
    },
    {
      "cell_type": "code",
      "source": [
        "df.describe(include='O') # 대문자O # race는 인종, race_o는 상대방인종"
      ],
      "metadata": {
        "colab": {
          "base_uri": "https://localhost:8080/",
          "height": 175
        },
        "id": "MIDLWXymyoyT",
        "outputId": "72461c98-5d32-4189-a919-b6614b72a31f"
      },
      "execution_count": null,
      "outputs": [
        {
          "output_type": "execute_result",
          "data": {
            "text/plain": [
              "       gender                         race                       race_o\n",
              "count    8378                         8315                         8305\n",
              "unique      2                            5                            5\n",
              "top      male  European/Caucasian-American  European/Caucasian-American\n",
              "freq     4194                         4727                         4722"
            ],
            "text/html": [
              "\n",
              "  <div id=\"df-5ab86799-d185-4b4f-b3aa-03a1635ea988\">\n",
              "    <div class=\"colab-df-container\">\n",
              "      <div>\n",
              "<style scoped>\n",
              "    .dataframe tbody tr th:only-of-type {\n",
              "        vertical-align: middle;\n",
              "    }\n",
              "\n",
              "    .dataframe tbody tr th {\n",
              "        vertical-align: top;\n",
              "    }\n",
              "\n",
              "    .dataframe thead th {\n",
              "        text-align: right;\n",
              "    }\n",
              "</style>\n",
              "<table border=\"1\" class=\"dataframe\">\n",
              "  <thead>\n",
              "    <tr style=\"text-align: right;\">\n",
              "      <th></th>\n",
              "      <th>gender</th>\n",
              "      <th>race</th>\n",
              "      <th>race_o</th>\n",
              "    </tr>\n",
              "  </thead>\n",
              "  <tbody>\n",
              "    <tr>\n",
              "      <th>count</th>\n",
              "      <td>8378</td>\n",
              "      <td>8315</td>\n",
              "      <td>8305</td>\n",
              "    </tr>\n",
              "    <tr>\n",
              "      <th>unique</th>\n",
              "      <td>2</td>\n",
              "      <td>5</td>\n",
              "      <td>5</td>\n",
              "    </tr>\n",
              "    <tr>\n",
              "      <th>top</th>\n",
              "      <td>male</td>\n",
              "      <td>European/Caucasian-American</td>\n",
              "      <td>European/Caucasian-American</td>\n",
              "    </tr>\n",
              "    <tr>\n",
              "      <th>freq</th>\n",
              "      <td>4194</td>\n",
              "      <td>4727</td>\n",
              "      <td>4722</td>\n",
              "    </tr>\n",
              "  </tbody>\n",
              "</table>\n",
              "</div>\n",
              "      <button class=\"colab-df-convert\" onclick=\"convertToInteractive('df-5ab86799-d185-4b4f-b3aa-03a1635ea988')\"\n",
              "              title=\"Convert this dataframe to an interactive table.\"\n",
              "              style=\"display:none;\">\n",
              "        \n",
              "  <svg xmlns=\"http://www.w3.org/2000/svg\" height=\"24px\"viewBox=\"0 0 24 24\"\n",
              "       width=\"24px\">\n",
              "    <path d=\"M0 0h24v24H0V0z\" fill=\"none\"/>\n",
              "    <path d=\"M18.56 5.44l.94 2.06.94-2.06 2.06-.94-2.06-.94-.94-2.06-.94 2.06-2.06.94zm-11 1L8.5 8.5l.94-2.06 2.06-.94-2.06-.94L8.5 2.5l-.94 2.06-2.06.94zm10 10l.94 2.06.94-2.06 2.06-.94-2.06-.94-.94-2.06-.94 2.06-2.06.94z\"/><path d=\"M17.41 7.96l-1.37-1.37c-.4-.4-.92-.59-1.43-.59-.52 0-1.04.2-1.43.59L10.3 9.45l-7.72 7.72c-.78.78-.78 2.05 0 2.83L4 21.41c.39.39.9.59 1.41.59.51 0 1.02-.2 1.41-.59l7.78-7.78 2.81-2.81c.8-.78.8-2.07 0-2.86zM5.41 20L4 18.59l7.72-7.72 1.47 1.35L5.41 20z\"/>\n",
              "  </svg>\n",
              "      </button>\n",
              "      \n",
              "  <style>\n",
              "    .colab-df-container {\n",
              "      display:flex;\n",
              "      flex-wrap:wrap;\n",
              "      gap: 12px;\n",
              "    }\n",
              "\n",
              "    .colab-df-convert {\n",
              "      background-color: #E8F0FE;\n",
              "      border: none;\n",
              "      border-radius: 50%;\n",
              "      cursor: pointer;\n",
              "      display: none;\n",
              "      fill: #1967D2;\n",
              "      height: 32px;\n",
              "      padding: 0 0 0 0;\n",
              "      width: 32px;\n",
              "    }\n",
              "\n",
              "    .colab-df-convert:hover {\n",
              "      background-color: #E2EBFA;\n",
              "      box-shadow: 0px 1px 2px rgba(60, 64, 67, 0.3), 0px 1px 3px 1px rgba(60, 64, 67, 0.15);\n",
              "      fill: #174EA6;\n",
              "    }\n",
              "\n",
              "    [theme=dark] .colab-df-convert {\n",
              "      background-color: #3B4455;\n",
              "      fill: #D2E3FC;\n",
              "    }\n",
              "\n",
              "    [theme=dark] .colab-df-convert:hover {\n",
              "      background-color: #434B5C;\n",
              "      box-shadow: 0px 1px 3px 1px rgba(0, 0, 0, 0.15);\n",
              "      filter: drop-shadow(0px 1px 2px rgba(0, 0, 0, 0.3));\n",
              "      fill: #FFFFFF;\n",
              "    }\n",
              "  </style>\n",
              "\n",
              "      <script>\n",
              "        const buttonEl =\n",
              "          document.querySelector('#df-5ab86799-d185-4b4f-b3aa-03a1635ea988 button.colab-df-convert');\n",
              "        buttonEl.style.display =\n",
              "          google.colab.kernel.accessAllowed ? 'block' : 'none';\n",
              "\n",
              "        async function convertToInteractive(key) {\n",
              "          const element = document.querySelector('#df-5ab86799-d185-4b4f-b3aa-03a1635ea988');\n",
              "          const dataTable =\n",
              "            await google.colab.kernel.invokeFunction('convertToInteractive',\n",
              "                                                     [key], {});\n",
              "          if (!dataTable) return;\n",
              "\n",
              "          const docLinkHtml = 'Like what you see? Visit the ' +\n",
              "            '<a target=\"_blank\" href=https://colab.research.google.com/notebooks/data_table.ipynb>data table notebook</a>'\n",
              "            + ' to learn more about interactive tables.';\n",
              "          element.innerHTML = '';\n",
              "          dataTable['output_type'] = 'display_data';\n",
              "          await google.colab.output.renderOutput(dataTable, element);\n",
              "          const docLink = document.createElement('div');\n",
              "          docLink.innerHTML = docLinkHtml;\n",
              "          element.appendChild(docLink);\n",
              "        }\n",
              "      </script>\n",
              "    </div>\n",
              "  </div>\n",
              "  "
            ]
          },
          "metadata": {},
          "execution_count": 166
        }
      ]
    },
    {
      "cell_type": "markdown",
      "source": [
        "# 전처리"
      ],
      "metadata": {
        "id": "sEI0r9g_0xmk"
      }
    },
    {
      "cell_type": "markdown",
      "source": [
        "## 결측치"
      ],
      "metadata": {
        "id": "jTVrNOKzytQP"
      }
    },
    {
      "cell_type": "code",
      "source": [
        "df.isna().mean() # 결측치 확인하기 # 오름차순 , 행방향은 데이터가 작 -> 큰"
      ],
      "metadata": {
        "colab": {
          "base_uri": "https://localhost:8080/"
        },
        "id": "XR5V2v69002k",
        "outputId": "1017f09e-2f95-451a-bc99-4fe1129f9731"
      },
      "execution_count": null,
      "outputs": [
        {
          "output_type": "execute_result",
          "data": {
            "text/plain": [
              "has_null                        0.00\n",
              "gender                          0.00\n",
              "age                             0.01\n",
              "age_o                           0.01\n",
              "race                            0.01\n",
              "race_o                          0.01\n",
              "importance_same_race            0.01\n",
              "importance_same_religion        0.01\n",
              "pref_o_attractive               0.01\n",
              "pref_o_sincere                  0.01\n",
              "pref_o_intelligence             0.01\n",
              "pref_o_funny                    0.01\n",
              "pref_o_ambitious                0.01\n",
              "pref_o_shared_interests         0.02\n",
              "attractive_o                    0.03\n",
              "sincere_o                       0.03\n",
              "intelligence_o                  0.04\n",
              "funny_o                         0.04\n",
              "ambitous_o                      0.09\n",
              "shared_interests_o              0.13\n",
              "attractive_important            0.01\n",
              "sincere_important               0.01\n",
              "intellicence_important          0.01\n",
              "funny_important                 0.01\n",
              "ambtition_important             0.01\n",
              "shared_interests_important      0.01\n",
              "attractive_partner              0.02\n",
              "sincere_partner                 0.03\n",
              "intelligence_partner            0.04\n",
              "funny_partner                   0.04\n",
              "ambition_partner                0.08\n",
              "shared_interests_partner        0.13\n",
              "interests_correlate             0.02\n",
              "expected_happy_with_sd_people   0.01\n",
              "expected_num_interested_in_me   0.79\n",
              "like                            0.03\n",
              "guess_prob_liked                0.04\n",
              "met                             0.04\n",
              "match                           0.00\n",
              "dtype: float64"
            ]
          },
          "metadata": {},
          "execution_count": 167
        }
      ]
    },
    {
      "cell_type": "code",
      "source": [
        "df.isna().mean().sort_values(ascending=False) # 내림차순 (행방향=데이터 작아지는 방향)"
      ],
      "metadata": {
        "colab": {
          "base_uri": "https://localhost:8080/"
        },
        "id": "bfBT9x4W04K2",
        "outputId": "026b4e9d-199c-42c6-8f43-8ca7048feb2b"
      },
      "execution_count": null,
      "outputs": [
        {
          "output_type": "execute_result",
          "data": {
            "text/plain": [
              "expected_num_interested_in_me   0.79\n",
              "shared_interests_o              0.13\n",
              "shared_interests_partner        0.13\n",
              "ambitous_o                      0.09\n",
              "ambition_partner                0.08\n",
              "met                             0.04\n",
              "funny_o                         0.04\n",
              "funny_partner                   0.04\n",
              "guess_prob_liked                0.04\n",
              "intelligence_o                  0.04\n",
              "intelligence_partner            0.04\n",
              "sincere_o                       0.03\n",
              "sincere_partner                 0.03\n",
              "like                            0.03\n",
              "attractive_o                    0.03\n",
              "attractive_partner              0.02\n",
              "interests_correlate             0.02\n",
              "pref_o_shared_interests         0.02\n",
              "shared_interests_important      0.01\n",
              "pref_o_ambitious                0.01\n",
              "age_o                           0.01\n",
              "expected_happy_with_sd_people   0.01\n",
              "ambtition_important             0.01\n",
              "pref_o_funny                    0.01\n",
              "age                             0.01\n",
              "pref_o_sincere                  0.01\n",
              "pref_o_attractive               0.01\n",
              "funny_important                 0.01\n",
              "pref_o_intelligence             0.01\n",
              "attractive_important            0.01\n",
              "intellicence_important          0.01\n",
              "sincere_important               0.01\n",
              "importance_same_religion        0.01\n",
              "importance_same_race            0.01\n",
              "race_o                          0.01\n",
              "race                            0.01\n",
              "has_null                        0.00\n",
              "gender                          0.00\n",
              "match                           0.00\n",
              "dtype: float64"
            ]
          },
          "metadata": {},
          "execution_count": 168
        }
      ]
    },
    {
      "cell_type": "code",
      "source": [
        "# na를 다 drop하는 게 아니라, 특정한 열 결측치가 있을 경우만 행을 삭제\n",
        "# subset = [결측치가 있다면 행을 삭제할 열들 이름]\n",
        "# 일부 변수에서 결측치 제거\n",
        "df = df.dropna(\n",
        "    subset=[\n",
        "        'pref_o_attractive', 'pref_o_sincere', 'pref_o_intelligence',\n",
        "        'pref_o_funny', 'pref_o_ambitious', 'pref_o_shared_interests',\n",
        "        'attractive_important', 'sincere_important', 'intellicence_important',\n",
        "        'funny_important', 'ambtition_important', 'shared_interests_important']\n",
        ")"
      ],
      "metadata": {
        "id": "HPy1CWbI1Rq2"
      },
      "execution_count": null,
      "outputs": []
    },
    {
      "cell_type": "code",
      "source": [
        "df.isna().mean().sort_values(ascending=False)"
      ],
      "metadata": {
        "colab": {
          "base_uri": "https://localhost:8080/"
        },
        "id": "PqXhG-_s1vkv",
        "outputId": "f2b21fdd-3673-4d80-b13e-71a161b38a93"
      },
      "execution_count": null,
      "outputs": [
        {
          "output_type": "execute_result",
          "data": {
            "text/plain": [
              "expected_num_interested_in_me   0.79\n",
              "shared_interests_o              0.13\n",
              "shared_interests_partner        0.13\n",
              "ambitous_o                      0.08\n",
              "ambition_partner                0.08\n",
              "met                             0.04\n",
              "funny_o                         0.04\n",
              "funny_partner                   0.04\n",
              "guess_prob_liked                0.04\n",
              "intelligence_o                  0.03\n",
              "intelligence_partner            0.03\n",
              "sincere_o                       0.03\n",
              "sincere_partner                 0.03\n",
              "like                            0.03\n",
              "attractive_partner              0.02\n",
              "attractive_o                    0.02\n",
              "age_o                           0.00\n",
              "age                             0.00\n",
              "expected_happy_with_sd_people   0.00\n",
              "funny_important                 0.00\n",
              "interests_correlate             0.00\n",
              "shared_interests_important      0.00\n",
              "ambtition_important             0.00\n",
              "has_null                        0.00\n",
              "intellicence_important          0.00\n",
              "sincere_important               0.00\n",
              "attractive_important            0.00\n",
              "gender                          0.00\n",
              "pref_o_shared_interests         0.00\n",
              "pref_o_ambitious                0.00\n",
              "pref_o_funny                    0.00\n",
              "pref_o_intelligence             0.00\n",
              "pref_o_sincere                  0.00\n",
              "pref_o_attractive               0.00\n",
              "importance_same_religion        0.00\n",
              "importance_same_race            0.00\n",
              "race_o                          0.00\n",
              "race                            0.00\n",
              "match                           0.00\n",
              "dtype: float64"
            ]
          },
          "metadata": {},
          "execution_count": 170
        }
      ]
    },
    {
      "cell_type": "code",
      "source": [
        "# 결측치를 모두 -99로 채우기\n",
        "df.fillna(-99, inplace=True)"
      ],
      "metadata": {
        "colab": {
          "base_uri": "https://localhost:8080/"
        },
        "id": "NbNovtxY2Fxo",
        "outputId": "fb0523da-73be-47da-a0bb-2ce097241dd6"
      },
      "execution_count": null,
      "outputs": [
        {
          "output_type": "stream",
          "name": "stderr",
          "text": [
            "/usr/local/lib/python3.8/dist-packages/pandas/core/frame.py:5176: SettingWithCopyWarning: \n",
            "A value is trying to be set on a copy of a slice from a DataFrame\n",
            "\n",
            "See the caveats in the documentation: https://pandas.pydata.org/pandas-docs/stable/user_guide/indexing.html#returning-a-view-versus-a-copy\n",
            "  return super().fillna(\n"
          ]
        }
      ]
    },
    {
      "cell_type": "code",
      "source": [
        "# 결측치 처리 완료\n",
        "df.isna().mean().sort_values(ascending=False)"
      ],
      "metadata": {
        "colab": {
          "base_uri": "https://localhost:8080/"
        },
        "id": "epzG9Wgx2U03",
        "outputId": "7bd57fe4-b862-4c08-847e-74b23b188da0"
      },
      "execution_count": null,
      "outputs": [
        {
          "output_type": "execute_result",
          "data": {
            "text/plain": [
              "has_null                        0.00\n",
              "funny_partner                   0.00\n",
              "intellicence_important          0.00\n",
              "funny_important                 0.00\n",
              "ambtition_important             0.00\n",
              "shared_interests_important      0.00\n",
              "attractive_partner              0.00\n",
              "sincere_partner                 0.00\n",
              "intelligence_partner            0.00\n",
              "ambition_partner                0.00\n",
              "attractive_important            0.00\n",
              "shared_interests_partner        0.00\n",
              "interests_correlate             0.00\n",
              "expected_happy_with_sd_people   0.00\n",
              "expected_num_interested_in_me   0.00\n",
              "like                            0.00\n",
              "guess_prob_liked                0.00\n",
              "met                             0.00\n",
              "sincere_important               0.00\n",
              "shared_interests_o              0.00\n",
              "gender                          0.00\n",
              "pref_o_sincere                  0.00\n",
              "age                             0.00\n",
              "age_o                           0.00\n",
              "race                            0.00\n",
              "race_o                          0.00\n",
              "importance_same_race            0.00\n",
              "importance_same_religion        0.00\n",
              "pref_o_attractive               0.00\n",
              "pref_o_intelligence             0.00\n",
              "ambitous_o                      0.00\n",
              "pref_o_funny                    0.00\n",
              "pref_o_ambitious                0.00\n",
              "pref_o_shared_interests         0.00\n",
              "attractive_o                    0.00\n",
              "sincere_o                       0.00\n",
              "intelligence_o                  0.00\n",
              "funny_o                         0.00\n",
              "match                           0.00\n",
              "dtype: float64"
            ]
          },
          "metadata": {},
          "execution_count": 172
        }
      ]
    },
    {
      "cell_type": "code",
      "source": [
        "# 결측치만 채운 상태에서 XGBoost로 모델링 결과\n",
        "# -> 피처 엔지니어링을 통해서 변수를 변형/추가 했을 경우에 결과\n",
        "df['match'].mean() # 16.4% 성사 확률 (1)\n",
        "1 - df['match'].mean() # 83.5% 서로 안맞을 확률 (0)\n",
        "# -> 안맞는다고만 해도 83%"
      ],
      "metadata": {
        "colab": {
          "base_uri": "https://localhost:8080/"
        },
        "id": "NJO6QIvL2YUD",
        "outputId": "8f6eb9a1-0af4-427b-b4b8-9bd4ea722768"
      },
      "execution_count": null,
      "outputs": [
        {
          "output_type": "execute_result",
          "data": {
            "text/plain": [
              "0.8351783517835178"
            ]
          },
          "metadata": {},
          "execution_count": 173
        }
      ]
    },
    {
      "cell_type": "markdown",
      "source": [
        "## 피처엔지니어링 없이 모델링"
      ],
      "metadata": {
        "id": "tGxx5UiY3cea"
      }
    },
    {
      "cell_type": "code",
      "source": [
        "df2 = df.copy()"
      ],
      "metadata": {
        "id": "X0KCizgL4AbF"
      },
      "execution_count": null,
      "outputs": []
    },
    {
      "cell_type": "code",
      "source": [
        "df2.describe(include='O').columns"
      ],
      "metadata": {
        "id": "jJc5HQg-3Rt8",
        "colab": {
          "base_uri": "https://localhost:8080/"
        },
        "outputId": "c838d009-af84-4a90-a9a0-eb5a532ce86e"
      },
      "execution_count": null,
      "outputs": [
        {
          "output_type": "execute_result",
          "data": {
            "text/plain": [
              "Index(['gender', 'race', 'race_o'], dtype='object')"
            ]
          },
          "metadata": {},
          "execution_count": 175
        }
      ]
    },
    {
      "cell_type": "code",
      "source": [
        "df2 = pd.get_dummies(df2, columns=df2.describe(include='O').columns)\n",
        "df2.info()"
      ],
      "metadata": {
        "colab": {
          "base_uri": "https://localhost:8080/"
        },
        "id": "-TXgXaV64Esg",
        "outputId": "144bda4d-c698-4c60-b3e0-db29ad73bac3"
      },
      "execution_count": null,
      "outputs": [
        {
          "output_type": "stream",
          "name": "stdout",
          "text": [
            "<class 'pandas.core.frame.DataFrame'>\n",
            "Int64Index: 8130 entries, 0 to 8377\n",
            "Data columns (total 48 columns):\n",
            " #   Column                                       Non-Null Count  Dtype  \n",
            "---  ------                                       --------------  -----  \n",
            " 0   has_null                                     8130 non-null   int64  \n",
            " 1   age                                          8130 non-null   float64\n",
            " 2   age_o                                        8130 non-null   float64\n",
            " 3   importance_same_race                         8130 non-null   float64\n",
            " 4   importance_same_religion                     8130 non-null   float64\n",
            " 5   pref_o_attractive                            8130 non-null   float64\n",
            " 6   pref_o_sincere                               8130 non-null   float64\n",
            " 7   pref_o_intelligence                          8130 non-null   float64\n",
            " 8   pref_o_funny                                 8130 non-null   float64\n",
            " 9   pref_o_ambitious                             8130 non-null   float64\n",
            " 10  pref_o_shared_interests                      8130 non-null   float64\n",
            " 11  attractive_o                                 8130 non-null   float64\n",
            " 12  sincere_o                                    8130 non-null   float64\n",
            " 13  intelligence_o                               8130 non-null   float64\n",
            " 14  funny_o                                      8130 non-null   float64\n",
            " 15  ambitous_o                                   8130 non-null   float64\n",
            " 16  shared_interests_o                           8130 non-null   float64\n",
            " 17  attractive_important                         8130 non-null   float64\n",
            " 18  sincere_important                            8130 non-null   float64\n",
            " 19  intellicence_important                       8130 non-null   float64\n",
            " 20  funny_important                              8130 non-null   float64\n",
            " 21  ambtition_important                          8130 non-null   float64\n",
            " 22  shared_interests_important                   8130 non-null   float64\n",
            " 23  attractive_partner                           8130 non-null   float64\n",
            " 24  sincere_partner                              8130 non-null   float64\n",
            " 25  intelligence_partner                         8130 non-null   float64\n",
            " 26  funny_partner                                8130 non-null   float64\n",
            " 27  ambition_partner                             8130 non-null   float64\n",
            " 28  shared_interests_partner                     8130 non-null   float64\n",
            " 29  interests_correlate                          8130 non-null   float64\n",
            " 30  expected_happy_with_sd_people                8130 non-null   float64\n",
            " 31  expected_num_interested_in_me                8130 non-null   float64\n",
            " 32  like                                         8130 non-null   float64\n",
            " 33  guess_prob_liked                             8130 non-null   float64\n",
            " 34  met                                          8130 non-null   float64\n",
            " 35  match                                        8130 non-null   int64  \n",
            " 36  gender_female                                8130 non-null   uint8  \n",
            " 37  gender_male                                  8130 non-null   uint8  \n",
            " 38  race_Asian/PacificIslander/Asian-American    8130 non-null   uint8  \n",
            " 39  race_Black/AfricanAmerican                   8130 non-null   uint8  \n",
            " 40  race_European/Caucasian-American             8130 non-null   uint8  \n",
            " 41  race_Latino/HispanicAmerican                 8130 non-null   uint8  \n",
            " 42  race_Other                                   8130 non-null   uint8  \n",
            " 43  race_o_Asian/PacificIslander/Asian-American  8130 non-null   uint8  \n",
            " 44  race_o_Black/AfricanAmerican                 8130 non-null   uint8  \n",
            " 45  race_o_European/Caucasian-American           8130 non-null   uint8  \n",
            " 46  race_o_Latino/HispanicAmerican               8130 non-null   uint8  \n",
            " 47  race_o_Other                                 8130 non-null   uint8  \n",
            "dtypes: float64(34), int64(2), uint8(12)\n",
            "memory usage: 2.4 MB\n"
          ]
        }
      ]
    },
    {
      "cell_type": "code",
      "source": [
        "X = df2.drop('match', axis=1)\n",
        "y = df2['match']"
      ],
      "metadata": {
        "id": "WxPu4qRm4Flx"
      },
      "execution_count": null,
      "outputs": []
    },
    {
      "cell_type": "code",
      "source": [
        "from sklearn.model_selection import train_test_split\n",
        "\n",
        "X_test, X_train, y_test, y_train = train_test_split(\n",
        "    X, y, test_size=0.2, random_state=230\n",
        ")"
      ],
      "metadata": {
        "id": "9zDxW2nH4H8B"
      },
      "execution_count": null,
      "outputs": []
    },
    {
      "cell_type": "code",
      "source": [
        "import xgboost as xgb"
      ],
      "metadata": {
        "id": "OL4a1k6N4PAv"
      },
      "execution_count": null,
      "outputs": []
    },
    {
      "cell_type": "code",
      "source": [
        "model = xgb.XGBClassifier(random_state=23)"
      ],
      "metadata": {
        "id": "jV7dM1q54O9I"
      },
      "execution_count": null,
      "outputs": []
    },
    {
      "cell_type": "code",
      "source": [
        "model.fit(X_train, y_train)"
      ],
      "metadata": {
        "colab": {
          "base_uri": "https://localhost:8080/"
        },
        "id": "t8kFI4V44O5t",
        "outputId": "d9b9a83a-b432-4f8a-f99b-3be8c61474c6"
      },
      "execution_count": null,
      "outputs": [
        {
          "output_type": "execute_result",
          "data": {
            "text/plain": [
              "XGBClassifier(random_state=23)"
            ]
          },
          "metadata": {},
          "execution_count": 181
        }
      ]
    },
    {
      "cell_type": "code",
      "source": [
        "pred = model.predict(X_test)\n",
        "pred"
      ],
      "metadata": {
        "colab": {
          "base_uri": "https://localhost:8080/"
        },
        "id": "rUil1r8e4O10",
        "outputId": "e3225491-b556-4c1b-d9ce-e54b76fcb016"
      },
      "execution_count": null,
      "outputs": [
        {
          "output_type": "execute_result",
          "data": {
            "text/plain": [
              "array([0, 0, 1, ..., 1, 0, 0])"
            ]
          },
          "metadata": {},
          "execution_count": 182
        }
      ]
    },
    {
      "cell_type": "code",
      "source": [
        "from sklearn.metrics import accuracy_score\n",
        "\n",
        "accuracy_score(y_test, pred)"
      ],
      "metadata": {
        "colab": {
          "base_uri": "https://localhost:8080/"
        },
        "id": "p2Z_LKZw4Oyk",
        "outputId": "7556c37c-3bb1-4b23-d121-50609c15a758"
      },
      "execution_count": null,
      "outputs": [
        {
          "output_type": "execute_result",
          "data": {
            "text/plain": [
              "0.861469864698647"
            ]
          },
          "metadata": {},
          "execution_count": 183
        }
      ]
    },
    {
      "cell_type": "code",
      "source": [
        "from sklearn.metrics import confusion_matrix\n",
        "\n",
        "# 오른쪽 위 : 1종 오류 - 실제 틀린데 (0) 맞다고 예측 (1) - 68\n",
        "# 왼쪽 아래 : 2종 오류 - 실제 맞는데 (1) 틀리다고 예측 (0) - 147\n",
        "print(confusion_matrix(y_test, pred))\n",
        "cf_matrix = confusion_matrix(y_test,pred)\n",
        "cf_matrix\n",
        "group_names = ['TN','FP','FN','TP']\n",
        "group_counts = [\"{0:0.0f}\".format(value) for value in\n",
        "                cf_matrix.flatten()]\n",
        "group_percentages = [\"{0:.2%}\".format(value) for value in\n",
        "                     cf_matrix.flatten()/np.sum(cf_matrix)]\n",
        "labels = [f\"{v1}\\n{v2}\\n{v3}\" for v1, v2, v3 in\n",
        "          zip(group_names,group_counts,group_percentages)]\n",
        "labels = np.asarray(labels).reshape(2,2)\n",
        "sns.heatmap(cf_matrix, annot=labels, fmt='', cmap='coolwarm')\n",
        "plt.ylabel('True')\n",
        "plt.xlabel('Predicted')\n",
        "plt.show()\n",
        "# TP(양성을 양성으로 판단)\n",
        "# FN(양성을 음성으로 판단) -> 2종 오류 (맞는데 틀리다고)\n",
        "# FP(음성을 양성으로 판단) -> 1종 오류 (틀린데 맞다고)\n",
        "# TN(음성을 음성으로 판단) "
      ],
      "metadata": {
        "colab": {
          "base_uri": "https://localhost:8080/",
          "height": 316
        },
        "id": "uTgpSgPD4Ou6",
        "outputId": "b2768225-c272-4602-f6b6-d59ce92acf71"
      },
      "execution_count": null,
      "outputs": [
        {
          "output_type": "stream",
          "name": "stdout",
          "text": [
            "[[5223  240]\n",
            " [ 661  380]]\n"
          ]
        },
        {
          "output_type": "display_data",
          "data": {
            "text/plain": [
              "<Figure size 432x288 with 2 Axes>"
            ],
            "image/png": "[encoded data removed]"
          },
          "metadata": {
            "needs_background": "light"
          }
        }
      ]
    },
    {
      "cell_type": "markdown",
      "source": [
        "## 피처 엔지니어링\n",
        "* 피처(Feature, 특징): 독립변수\n",
        "* 엔지니어링 : 가공을 해서 더 유의미하게 만들겠다\n",
        "---\n",
        "* Titanic -> Name => Title\n",
        "* 단위 -> 통일"
      ],
      "metadata": {
        "id": "w3EnnTlb-EhX"
      }
    },
    {
      "cell_type": "markdown",
      "source": [
        "### age_gap"
      ],
      "metadata": {
        "id": "NNFREXRS4vwX"
      }
    },
    {
      "cell_type": "code",
      "source": [
        "# age : 본인의 나이, age_o : 상대방의 나이\n",
        "df.age.isnull().mean()"
      ],
      "metadata": {
        "colab": {
          "base_uri": "https://localhost:8080/"
        },
        "id": "9nMJx6wb-kPs",
        "outputId": "959991f9-3bd0-4a14-f96a-cda942f75948"
      },
      "execution_count": null,
      "outputs": [
        {
          "output_type": "execute_result",
          "data": {
            "text/plain": [
              "0.0"
            ]
          },
          "metadata": {},
          "execution_count": 185
        }
      ]
    },
    {
      "cell_type": "code",
      "source": [
        "df.age_o.isnull().mean()"
      ],
      "metadata": {
        "colab": {
          "base_uri": "https://localhost:8080/"
        },
        "id": "hypDIbqs-8yR",
        "outputId": "e32bd50e-80c7-4d5c-acd9-aad39cdede96"
      },
      "execution_count": null,
      "outputs": [
        {
          "output_type": "execute_result",
          "data": {
            "text/plain": [
              "0.0"
            ]
          },
          "metadata": {},
          "execution_count": 186
        }
      ]
    },
    {
      "cell_type": "code",
      "source": [
        "# -99인 결측치의 비율\n",
        "(df.age == -99).mean()"
      ],
      "metadata": {
        "colab": {
          "base_uri": "https://localhost:8080/"
        },
        "id": "_psFzKtf_B8B",
        "outputId": "dca70d43-dada-4da2-d39f-5712ab97088c"
      },
      "execution_count": null,
      "outputs": [
        {
          "output_type": "execute_result",
          "data": {
            "text/plain": [
              "0.002706027060270603"
            ]
          },
          "metadata": {},
          "execution_count": 187
        }
      ]
    },
    {
      "cell_type": "code",
      "source": [
        "# -99인 결측치의 비율\n",
        "(df.age_o == -99).mean()"
      ],
      "metadata": {
        "colab": {
          "base_uri": "https://localhost:8080/"
        },
        "id": "_6VFGP00_MKe",
        "outputId": "9e7a9950-a0f0-40a7-cea8-8dfd4afc0381"
      },
      "execution_count": null,
      "outputs": [
        {
          "output_type": "execute_result",
          "data": {
            "text/plain": [
              "0.002706027060270603"
            ]
          },
          "metadata": {},
          "execution_count": 188
        }
      ]
    },
    {
      "cell_type": "code",
      "source": [
        "# 1. 내 나이가 결측치일 경우 -> 결측치\n",
        "# 2. 상대방의 나이가 결측치일 경우 -> 결측치\n",
        "# 3. 상대방과 내 나이가 모두 있을 경우 (차이를 구할 수 있음)\n",
        "# 3-1. (내가 남성) : 상대방과 나이 차이 -> 내 나이에서 상대방 나이를 빼고\n",
        "# 3-2. (... 여성) : 상대방과 나이 차이 -> 상대방 나이에서 내 나이를 빼는 방식\n",
        "# df.apply(..., axis=1) -> 특정 행의 전체 열\n",
        "# df.age = 본인 나이, df.age_o = 상대방 나이\n",
        "def age_gap(row):\n",
        "    # 1. 내 나이가 결측치(-99)일 경우\n",
        "    if row.age == -99: return -99 # return => 함수가 뒤를 더 이상 처리 X\n",
        "    # 2. 상대방 나이가 ...\n",
        "    if row.age_o == -99: return -99\n",
        "    # 3-1. 남성일 경우 -> 내 나이 - 상대방 나이\n",
        "    if row.gender == 'male': return row.age - row.age_o\n",
        "    # 3-2. 여성일 경우 -> 상대방 나이 - 내 나이\n",
        "    if row.gender == 'female': return row.age_o - row.age\n",
        "    # 나머지 값은 X"
      ],
      "metadata": {
        "id": "3wGz7EUr_Rez"
      },
      "execution_count": null,
      "outputs": []
    },
    {
      "cell_type": "code",
      "source": [
        "df.gender.unique()"
      ],
      "metadata": {
        "colab": {
          "base_uri": "https://localhost:8080/"
        },
        "id": "5QWyXstWAN60",
        "outputId": "f14377e7-88cb-4d32-a281-8032a7c5d2de"
      },
      "execution_count": null,
      "outputs": [
        {
          "output_type": "execute_result",
          "data": {
            "text/plain": [
              "array(['female', 'male'], dtype=object)"
            ]
          },
          "metadata": {},
          "execution_count": 190
        }
      ]
    },
    {
      "cell_type": "code",
      "source": [
        "df['age_gap'] = df.apply(age_gap, axis=1) # 행을 기준으로 모든 열을 사용해주려면..."
      ],
      "metadata": {
        "colab": {
          "base_uri": "https://localhost:8080/"
        },
        "id": "uJjq-k7DAcfn",
        "outputId": "0fb228a4-b763-42e9-c50a-64c5120ab318"
      },
      "execution_count": null,
      "outputs": [
        {
          "output_type": "stream",
          "name": "stderr",
          "text": [
            "<ipython-input-191-8f81cf550e64>:1: SettingWithCopyWarning: \n",
            "A value is trying to be set on a copy of a slice from a DataFrame.\n",
            "Try using .loc[row_indexer,col_indexer] = value instead\n",
            "\n",
            "See the caveats in the documentation: https://pandas.pydata.org/pandas-docs/stable/user_guide/indexing.html#returning-a-view-versus-a-copy\n",
            "  df['age_gap'] = df.apply(age_gap, axis=1) # 행을 기준으로 모든 열을 사용해주려면...\n"
          ]
        }
      ]
    },
    {
      "cell_type": "code",
      "source": [
        "# 나이차이 +  성별간의 차이\n",
        "df.age_gap.head()"
      ],
      "metadata": {
        "colab": {
          "base_uri": "https://localhost:8080/"
        },
        "id": "mPwGx-ZrBMQi",
        "outputId": "ac2f70ee-84b0-469c-89ca-0a2e14a0409e"
      },
      "execution_count": null,
      "outputs": [
        {
          "output_type": "execute_result",
          "data": {
            "text/plain": [
              "0   6.00\n",
              "1   1.00\n",
              "2   1.00\n",
              "3   2.00\n",
              "4   3.00\n",
              "Name: age_gap, dtype: float64"
            ]
          },
          "metadata": {},
          "execution_count": 192
        }
      ]
    },
    {
      "cell_type": "code",
      "source": [],
      "metadata": {
        "id": "iC9Nk62zBrN9"
      },
      "execution_count": null,
      "outputs": []
    },
    {
      "cell_type": "code",
      "source": [
        "# abs : 절대값 -> 성별의 영향 없이 진짜 나이 차이만 보겠다\n",
        "def age_gap_abs(row):\n",
        "    # 1. 내 나이가 결측치(-99)일 경우\n",
        "    if row.age == -99: return -99 # return => 함수가 뒤를 더 이상 처리 X\n",
        "    # 2. 상대방 나이가 ...\n",
        "    if row.age_o == -99: return -99\n",
        "    # 3. 둘 사이의 차이를 abs() -> 절대값으로 나타내기\n",
        "    return abs(row.age - row.age_o)"
      ],
      "metadata": {
        "id": "D0KE6A4lBXRp"
      },
      "execution_count": null,
      "outputs": []
    },
    {
      "cell_type": "code",
      "source": [
        "df['age_gap_abs'] = df.apply(age_gap_abs, axis=1) # 행을 기준으로 모든 열을 사용해주려면..."
      ],
      "metadata": {
        "colab": {
          "base_uri": "https://localhost:8080/"
        },
        "id": "bLWnq_S9Bs_Z",
        "outputId": "4b8d6d14-7669-4dad-f354-eb12057c2c88"
      },
      "execution_count": null,
      "outputs": [
        {
          "output_type": "stream",
          "name": "stderr",
          "text": [
            "<ipython-input-194-078ffd45d7ba>:1: SettingWithCopyWarning: \n",
            "A value is trying to be set on a copy of a slice from a DataFrame.\n",
            "Try using .loc[row_indexer,col_indexer] = value instead\n",
            "\n",
            "See the caveats in the documentation: https://pandas.pydata.org/pandas-docs/stable/user_guide/indexing.html#returning-a-view-versus-a-copy\n",
            "  df['age_gap_abs'] = df.apply(age_gap_abs, axis=1) # 행을 기준으로 모든 열을 사용해주려면...\n"
          ]
        }
      ]
    },
    {
      "cell_type": "code",
      "source": [
        "df['age_gap'].unique()"
      ],
      "metadata": {
        "colab": {
          "base_uri": "https://localhost:8080/"
        },
        "id": "ftFz7CKJBuDj",
        "outputId": "33806217-45e9-493a-ff24-26a355234aac"
      },
      "execution_count": null,
      "outputs": [
        {
          "output_type": "execute_result",
          "data": {
            "text/plain": [
              "array([  6.,   1.,   2.,   3.,   4.,   9.,   7.,  -2.,  -1.,   0.,  -3.,\n",
              "         5.,   8.,  -4.,  -5.,  -6.,  -7.,  -8.,  -9., -12., -13., -10.,\n",
              "        17.,  10.,  16.,  13.,  12.,  11.,  14., -14., -11.,  18.,  15.,\n",
              "        19.,  20., -16., -15., -22., -28., -32., -99.])"
            ]
          },
          "metadata": {},
          "execution_count": 195
        }
      ]
    },
    {
      "cell_type": "code",
      "source": [
        "df['age_gap_abs'].unique() # 마이너스 값이 없음"
      ],
      "metadata": {
        "colab": {
          "base_uri": "https://localhost:8080/"
        },
        "id": "ja2d4D5bBwtL",
        "outputId": "77bf76ed-b975-477f-f1b1-c3dc15ffa6d6"
      },
      "execution_count": null,
      "outputs": [
        {
          "output_type": "execute_result",
          "data": {
            "text/plain": [
              "array([  6.,   1.,   2.,   3.,   4.,   9.,   7.,   0.,   5.,   8.,  12.,\n",
              "        13.,  10.,  17.,  16.,  11.,  14.,  18.,  15.,  19.,  20.,  22.,\n",
              "        28.,  32., -99.])"
            ]
          },
          "metadata": {},
          "execution_count": 196
        }
      ]
    },
    {
      "cell_type": "markdown",
      "source": [
        "### race"
      ],
      "metadata": {
        "id": "e0gSYCLuCCAI"
      }
    },
    {
      "cell_type": "code",
      "source": [
        "# 내 인종\n",
        "df.race.value_counts()"
      ],
      "metadata": {
        "colab": {
          "base_uri": "https://localhost:8080/"
        },
        "id": "1dnY74cKBx_Y",
        "outputId": "998a65d8-4e8d-4304-ce0b-d727c43da321"
      },
      "execution_count": null,
      "outputs": [
        {
          "output_type": "execute_result",
          "data": {
            "text/plain": [
              "European/Caucasian-American             4629\n",
              "Asian/PacificIslander/Asian-American    1946\n",
              "Latino/HispanicAmerican                  631\n",
              "Other                                    513\n",
              "Black/AfricanAmerican                    411\n",
              "Name: race, dtype: int64"
            ]
          },
          "metadata": {},
          "execution_count": 197
        }
      ]
    },
    {
      "cell_type": "code",
      "source": [
        "# 상대방 인종\n",
        "df.race_o.value_counts()"
      ],
      "metadata": {
        "colab": {
          "base_uri": "https://localhost:8080/"
        },
        "id": "flsTAbSPCJBt",
        "outputId": "773de5fe-327c-4dac-e214-8700971c1cc6"
      },
      "execution_count": null,
      "outputs": [
        {
          "output_type": "execute_result",
          "data": {
            "text/plain": [
              "European/Caucasian-American             4629\n",
              "Asian/PacificIslander/Asian-American    1946\n",
              "Latino/HispanicAmerican                  631\n",
              "Other                                    513\n",
              "Black/AfricanAmerican                    411\n",
              "Name: race_o, dtype: int64"
            ]
          },
          "metadata": {},
          "execution_count": 198
        }
      ]
    },
    {
      "cell_type": "code",
      "source": [
        "# 1. 인종이 일치하나?\n",
        "# 2. 일치 여부에 따라서 중요도를 곱해서 점수화\n",
        "# df.race : 내 인종\n",
        "# df.race_o : 상대방 인종\n",
        "# df.apply(..., axis=1) 특정 행의 모든 열의 데이터를 조회\n",
        "def same_race(row):\n",
        "    # 결측치 (-99)\n",
        "    if row.race == -99 or row.race_o == -99: return -99\n",
        "    if row.race == row.race_o: return 1\n",
        "    return -1\n",
        "    # 삼항연산자\n",
        "    # {조건을 만족시켰을 때의 결과값} if {조건} else {만족X 결과값}\n",
        "    # return 1 if row.race == row.race_o else -1\n",
        "\n",
        "    # 8378 -  내꺼에 200개 정도 더 있음??????????/"
      ],
      "metadata": {
        "id": "BQAspWxvCS_e"
      },
      "execution_count": null,
      "outputs": []
    },
    {
      "cell_type": "code",
      "source": [
        "df['same_race'] = df.apply(same_race, axis=1)"
      ],
      "metadata": {
        "colab": {
          "base_uri": "https://localhost:8080/"
        },
        "id": "XKG1SvfADW1K",
        "outputId": "f91d6389-f0ac-4b08-c071-d5664a27efd7"
      },
      "execution_count": null,
      "outputs": [
        {
          "output_type": "stream",
          "name": "stderr",
          "text": [
            "<ipython-input-200-14bcb61b2ee3>:1: SettingWithCopyWarning: \n",
            "A value is trying to be set on a copy of a slice from a DataFrame.\n",
            "Try using .loc[row_indexer,col_indexer] = value instead\n",
            "\n",
            "See the caveats in the documentation: https://pandas.pydata.org/pandas-docs/stable/user_guide/indexing.html#returning-a-view-versus-a-copy\n",
            "  df['same_race'] = df.apply(same_race, axis=1)\n"
          ]
        }
      ]
    },
    {
      "cell_type": "code",
      "source": [
        "df['same_race'].value_counts()"
      ],
      "metadata": {
        "colab": {
          "base_uri": "https://localhost:8080/"
        },
        "id": "iLFSOGFNEKa8",
        "outputId": "4945f5ba-dd4a-44ba-80df-37d56dade6db"
      },
      "execution_count": null,
      "outputs": [
        {
          "output_type": "execute_result",
          "data": {
            "text/plain": [
              "-1    4844\n",
              " 1    3286\n",
              "Name: same_race, dtype: int64"
            ]
          },
          "metadata": {},
          "execution_count": 201
        }
      ]
    },
    {
      "cell_type": "code",
      "source": [
        "df.importance_same_race.value_counts()"
      ],
      "metadata": {
        "colab": {
          "base_uri": "https://localhost:8080/"
        },
        "id": "PTmMc8GuEMQO",
        "outputId": "28896d33-b94c-4f0a-b6f5-d11d03949e55"
      },
      "execution_count": null,
      "outputs": [
        {
          "output_type": "execute_result",
          "data": {
            "text/plain": [
              "1.00     2749\n",
              "3.00      964\n",
              "2.00      938\n",
              "5.00      644\n",
              "8.00      631\n",
              "7.00      536\n",
              "6.00      516\n",
              "4.00      494\n",
              "9.00      404\n",
              "10.00     246\n",
              "0.00        8\n",
              "Name: importance_same_race, dtype: int64"
            ]
          },
          "metadata": {},
          "execution_count": 202
        }
      ]
    },
    {
      "cell_type": "code",
      "source": [
        "df.importance_same_race == 10"
      ],
      "metadata": {
        "colab": {
          "base_uri": "https://localhost:8080/"
        },
        "id": "-h9LKZFgEOb6",
        "outputId": "93a85236-31f1-48f7-d602-0421568cdda8"
      },
      "execution_count": null,
      "outputs": [
        {
          "output_type": "execute_result",
          "data": {
            "text/plain": [
              "0       False\n",
              "1       False\n",
              "2       False\n",
              "3       False\n",
              "4       False\n",
              "        ...  \n",
              "8372    False\n",
              "8373    False\n",
              "8374    False\n",
              "8376    False\n",
              "8377    False\n",
              "Name: importance_same_race, Length: 8130, dtype: bool"
            ]
          },
          "metadata": {},
          "execution_count": 203
        }
      ]
    },
    {
      "cell_type": "code",
      "source": [
        "df[df.importance_same_race == 10]['match'].mean()"
      ],
      "metadata": {
        "colab": {
          "base_uri": "https://localhost:8080/"
        },
        "id": "cLpDZKzvEPuT",
        "outputId": "5771a032-4562-4e08-cf88-e3fb1d6607c4"
      },
      "execution_count": null,
      "outputs": [
        {
          "output_type": "execute_result",
          "data": {
            "text/plain": [
              "0.12601626016260162"
            ]
          },
          "metadata": {},
          "execution_count": 204
        }
      ]
    },
    {
      "cell_type": "code",
      "source": [
        "def same_race_point(row):\n",
        "    if row.same_race == -99: return -99\n",
        "    return row.same_race * row.importance_same_race"
      ],
      "metadata": {
        "id": "lbOSND7iEdTY"
      },
      "execution_count": null,
      "outputs": []
    },
    {
      "cell_type": "code",
      "source": [
        "df['same_race_point'] = df.apply(same_race_point, axis=1)"
      ],
      "metadata": {
        "colab": {
          "base_uri": "https://localhost:8080/"
        },
        "id": "NZMdP1W5FL7V",
        "outputId": "2ad8a91f-0db7-4d48-fba3-96f10ee469a3"
      },
      "execution_count": null,
      "outputs": [
        {
          "output_type": "stream",
          "name": "stderr",
          "text": [
            "<ipython-input-206-9027ec13be1c>:1: SettingWithCopyWarning: \n",
            "A value is trying to be set on a copy of a slice from a DataFrame.\n",
            "Try using .loc[row_indexer,col_indexer] = value instead\n",
            "\n",
            "See the caveats in the documentation: https://pandas.pydata.org/pandas-docs/stable/user_guide/indexing.html#returning-a-view-versus-a-copy\n",
            "  df['same_race_point'] = df.apply(same_race_point, axis=1)\n"
          ]
        }
      ]
    },
    {
      "cell_type": "code",
      "source": [
        "df.same_race_point.value_counts()"
      ],
      "metadata": {
        "colab": {
          "base_uri": "https://localhost:8080/"
        },
        "id": "45VhCXTnFM9M",
        "outputId": "82418f74-bd4f-4a0e-d91b-38fc61028923"
      },
      "execution_count": null,
      "outputs": [
        {
          "output_type": "execute_result",
          "data": {
            "text/plain": [
              "-1.00     1765\n",
              "1.00       984\n",
              "-3.00      611\n",
              "-2.00      575\n",
              "2.00       363\n",
              "-5.00      354\n",
              "3.00       353\n",
              "8.00       321\n",
              "-6.00      316\n",
              "-7.00      312\n",
              "-8.00      310\n",
              "5.00       290\n",
              "-4.00      272\n",
              "7.00       224\n",
              "4.00       222\n",
              "-9.00      211\n",
              "6.00       200\n",
              "9.00       193\n",
              "10.00      130\n",
              "-10.00     116\n",
              "0.00         8\n",
              "Name: same_race_point, dtype: int64"
            ]
          },
          "metadata": {},
          "execution_count": 207
        }
      ]
    },
    {
      "cell_type": "code",
      "source": [
        "df[df.same_race_point == 10]['match'].mean()"
      ],
      "metadata": {
        "colab": {
          "base_uri": "https://localhost:8080/"
        },
        "id": "bxjpDh6sFOaE",
        "outputId": "5c1d81e0-1220-4187-fe6d-1b77ec452743"
      },
      "execution_count": null,
      "outputs": [
        {
          "output_type": "execute_result",
          "data": {
            "text/plain": [
              "0.17692307692307693"
            ]
          },
          "metadata": {},
          "execution_count": 208
        }
      ]
    },
    {
      "cell_type": "code",
      "source": [
        "df[df.same_race_point == -10]['match'].mean() # 차이가 있음을 알 수 있음"
      ],
      "metadata": {
        "colab": {
          "base_uri": "https://localhost:8080/"
        },
        "id": "ylrhv_-BFQN-",
        "outputId": "56f40af5-a79d-4064-8aec-b5c3f9191a7f"
      },
      "execution_count": null,
      "outputs": [
        {
          "output_type": "execute_result",
          "data": {
            "text/plain": [
              "0.06896551724137931"
            ]
          },
          "metadata": {},
          "execution_count": 209
        }
      ]
    },
    {
      "cell_type": "code",
      "source": [
        "df[['race', 'race_o', 'same_race', 'importance_same_race', 'same_race_point']]"
      ],
      "metadata": {
        "colab": {
          "base_uri": "https://localhost:8080/",
          "height": 589
        },
        "id": "qnqI6BSAFRRl",
        "outputId": "7c91d2c4-07f7-4d33-8314-ef339bdccb17"
      },
      "execution_count": null,
      "outputs": [
        {
          "output_type": "execute_result",
          "data": {
            "text/plain": [
              "                                      race  \\\n",
              "0     Asian/PacificIslander/Asian-American   \n",
              "1     Asian/PacificIslander/Asian-American   \n",
              "2     Asian/PacificIslander/Asian-American   \n",
              "3     Asian/PacificIslander/Asian-American   \n",
              "4     Asian/PacificIslander/Asian-American   \n",
              "...                                    ...   \n",
              "8372           European/Caucasian-American   \n",
              "8373           European/Caucasian-American   \n",
              "8374           European/Caucasian-American   \n",
              "8376           European/Caucasian-American   \n",
              "8377           European/Caucasian-American   \n",
              "\n",
              "                                    race_o  same_race  importance_same_race  \\\n",
              "0              European/Caucasian-American         -1                  2.00   \n",
              "1              European/Caucasian-American         -1                  2.00   \n",
              "2     Asian/PacificIslander/Asian-American          1                  2.00   \n",
              "3              European/Caucasian-American         -1                  2.00   \n",
              "4                  Latino/HispanicAmerican         -1                  2.00   \n",
              "...                                    ...        ...                   ...   \n",
              "8372           European/Caucasian-American          1                  1.00   \n",
              "8373               Latino/HispanicAmerican         -1                  1.00   \n",
              "8374                                 Other         -1                  1.00   \n",
              "8376  Asian/PacificIslander/Asian-American         -1                  1.00   \n",
              "8377  Asian/PacificIslander/Asian-American         -1                  1.00   \n",
              "\n",
              "      same_race_point  \n",
              "0               -2.00  \n",
              "1               -2.00  \n",
              "2                2.00  \n",
              "3               -2.00  \n",
              "4               -2.00  \n",
              "...               ...  \n",
              "8372             1.00  \n",
              "8373            -1.00  \n",
              "8374            -1.00  \n",
              "8376            -1.00  \n",
              "8377            -1.00  \n",
              "\n",
              "[8130 rows x 5 columns]"
            ],
            "text/html": [
              "\n",
              "  <div id=\"df-60a0d770-c484-4df7-aa5b-ae66d355bc88\">\n",
              "    <div class=\"colab-df-container\">\n",
              "      <div>\n",
              "<style scoped>\n",
              "    .dataframe tbody tr th:only-of-type {\n",
              "        vertical-align: middle;\n",
              "    }\n",
              "\n",
              "    .dataframe tbody tr th {\n",
              "        vertical-align: top;\n",
              "    }\n",
              "\n",
              "    .dataframe thead th {\n",
              "        text-align: right;\n",
              "    }\n",
              "</style>\n",
              "<table border=\"1\" class=\"dataframe\">\n",
              "  <thead>\n",
              "    <tr style=\"text-align: right;\">\n",
              "      <th></th>\n",
              "      <th>race</th>\n",
              "      <th>race_o</th>\n",
              "      <th>same_race</th>\n",
              "      <th>importance_same_race</th>\n",
              "      <th>same_race_point</th>\n",
              "    </tr>\n",
              "  </thead>\n",
              "  <tbody>\n",
              "    <tr>\n",
              "      <th>0</th>\n",
              "      <td>Asian/PacificIslander/Asian-American</td>\n",
              "      <td>European/Caucasian-American</td>\n",
              "      <td>-1</td>\n",
              "      <td>2.00</td>\n",
              "      <td>-2.00</td>\n",
              "    </tr>\n",
              "    <tr>\n",
              "      <th>1</th>\n",
              "      <td>Asian/PacificIslander/Asian-American</td>\n",
              "      <td>European/Caucasian-American</td>\n",
              "      <td>-1</td>\n",
              "      <td>2.00</td>\n",
              "      <td>-2.00</td>\n",
              "    </tr>\n",
              "    <tr>\n",
              "      <th>2</th>\n",
              "      <td>Asian/PacificIslander/Asian-American</td>\n",
              "      <td>Asian/PacificIslander/Asian-American</td>\n",
              "      <td>1</td>\n",
              "      <td>2.00</td>\n",
              "      <td>2.00</td>\n",
              "    </tr>\n",
              "    <tr>\n",
              "      <th>3</th>\n",
              "      <td>Asian/PacificIslander/Asian-American</td>\n",
              "      <td>European/Caucasian-American</td>\n",
              "      <td>-1</td>\n",
              "      <td>2.00</td>\n",
              "      <td>-2.00</td>\n",
              "    </tr>\n",
              "    <tr>\n",
              "      <th>4</th>\n",
              "      <td>Asian/PacificIslander/Asian-American</td>\n",
              "      <td>Latino/HispanicAmerican</td>\n",
              "      <td>-1</td>\n",
              "      <td>2.00</td>\n",
              "      <td>-2.00</td>\n",
              "    </tr>\n",
              "    <tr>\n",
              "      <th>...</th>\n",
              "      <td>...</td>\n",
              "      <td>...</td>\n",
              "      <td>...</td>\n",
              "      <td>...</td>\n",
              "      <td>...</td>\n",
              "    </tr>\n",
              "    <tr>\n",
              "      <th>8372</th>\n",
              "      <td>European/Caucasian-American</td>\n",
              "      <td>European/Caucasian-American</td>\n",
              "      <td>1</td>\n",
              "      <td>1.00</td>\n",
              "      <td>1.00</td>\n",
              "    </tr>\n",
              "    <tr>\n",
              "      <th>8373</th>\n",
              "      <td>European/Caucasian-American</td>\n",
              "      <td>Latino/HispanicAmerican</td>\n",
              "      <td>-1</td>\n",
              "      <td>1.00</td>\n",
              "      <td>-1.00</td>\n",
              "    </tr>\n",
              "    <tr>\n",
              "      <th>8374</th>\n",
              "      <td>European/Caucasian-American</td>\n",
              "      <td>Other</td>\n",
              "      <td>-1</td>\n",
              "      <td>1.00</td>\n",
              "      <td>-1.00</td>\n",
              "    </tr>\n",
              "    <tr>\n",
              "      <th>8376</th>\n",
              "      <td>European/Caucasian-American</td>\n",
              "      <td>Asian/PacificIslander/Asian-American</td>\n",
              "      <td>-1</td>\n",
              "      <td>1.00</td>\n",
              "      <td>-1.00</td>\n",
              "    </tr>\n",
              "    <tr>\n",
              "      <th>8377</th>\n",
              "      <td>European/Caucasian-American</td>\n",
              "      <td>Asian/PacificIslander/Asian-American</td>\n",
              "      <td>-1</td>\n",
              "      <td>1.00</td>\n",
              "      <td>-1.00</td>\n",
              "    </tr>\n",
              "  </tbody>\n",
              "</table>\n",
              "<p>8130 rows × 5 columns</p>\n",
              "</div>\n",
              "      <button class=\"colab-df-convert\" onclick=\"convertToInteractive('df-60a0d770-c484-4df7-aa5b-ae66d355bc88')\"\n",
              "              title=\"Convert this dataframe to an interactive table.\"\n",
              "              style=\"display:none;\">\n",
              "        \n",
              "  <svg xmlns=\"http://www.w3.org/2000/svg\" height=\"24px\"viewBox=\"0 0 24 24\"\n",
              "       width=\"24px\">\n",
              "    <path d=\"M0 0h24v24H0V0z\" fill=\"none\"/>\n",
              "    <path d=\"M18.56 5.44l.94 2.06.94-2.06 2.06-.94-2.06-.94-.94-2.06-.94 2.06-2.06.94zm-11 1L8.5 8.5l.94-2.06 2.06-.94-2.06-.94L8.5 2.5l-.94 2.06-2.06.94zm10 10l.94 2.06.94-2.06 2.06-.94-2.06-.94-.94-2.06-.94 2.06-2.06.94z\"/><path d=\"M17.41 7.96l-1.37-1.37c-.4-.4-.92-.59-1.43-.59-.52 0-1.04.2-1.43.59L10.3 9.45l-7.72 7.72c-.78.78-.78 2.05 0 2.83L4 21.41c.39.39.9.59 1.41.59.51 0 1.02-.2 1.41-.59l7.78-7.78 2.81-2.81c.8-.78.8-2.07 0-2.86zM5.41 20L4 18.59l7.72-7.72 1.47 1.35L5.41 20z\"/>\n",
              "  </svg>\n",
              "      </button>\n",
              "      \n",
              "  <style>\n",
              "    .colab-df-container {\n",
              "      display:flex;\n",
              "      flex-wrap:wrap;\n",
              "      gap: 12px;\n",
              "    }\n",
              "\n",
              "    .colab-df-convert {\n",
              "      background-color: #E8F0FE;\n",
              "      border: none;\n",
              "      border-radius: 50%;\n",
              "      cursor: pointer;\n",
              "      display: none;\n",
              "      fill: #1967D2;\n",
              "      height: 32px;\n",
              "      padding: 0 0 0 0;\n",
              "      width: 32px;\n",
              "    }\n",
              "\n",
              "    .colab-df-convert:hover {\n",
              "      background-color: #E2EBFA;\n",
              "      box-shadow: 0px 1px 2px rgba(60, 64, 67, 0.3), 0px 1px 3px 1px rgba(60, 64, 67, 0.15);\n",
              "      fill: #174EA6;\n",
              "    }\n",
              "\n",
              "    [theme=dark] .colab-df-convert {\n",
              "      background-color: #3B4455;\n",
              "      fill: #D2E3FC;\n",
              "    }\n",
              "\n",
              "    [theme=dark] .colab-df-convert:hover {\n",
              "      background-color: #434B5C;\n",
              "      box-shadow: 0px 1px 3px 1px rgba(0, 0, 0, 0.15);\n",
              "      filter: drop-shadow(0px 1px 2px rgba(0, 0, 0, 0.3));\n",
              "      fill: #FFFFFF;\n",
              "    }\n",
              "  </style>\n",
              "\n",
              "      <script>\n",
              "        const buttonEl =\n",
              "          document.querySelector('#df-60a0d770-c484-4df7-aa5b-ae66d355bc88 button.colab-df-convert');\n",
              "        buttonEl.style.display =\n",
              "          google.colab.kernel.accessAllowed ? 'block' : 'none';\n",
              "\n",
              "        async function convertToInteractive(key) {\n",
              "          const element = document.querySelector('#df-60a0d770-c484-4df7-aa5b-ae66d355bc88');\n",
              "          const dataTable =\n",
              "            await google.colab.kernel.invokeFunction('convertToInteractive',\n",
              "                                                     [key], {});\n",
              "          if (!dataTable) return;\n",
              "\n",
              "          const docLinkHtml = 'Like what you see? Visit the ' +\n",
              "            '<a target=\"_blank\" href=https://colab.research.google.com/notebooks/data_table.ipynb>data table notebook</a>'\n",
              "            + ' to learn more about interactive tables.';\n",
              "          element.innerHTML = '';\n",
              "          dataTable['output_type'] = 'display_data';\n",
              "          await google.colab.output.renderOutput(dataTable, element);\n",
              "          const docLink = document.createElement('div');\n",
              "          docLink.innerHTML = docLinkHtml;\n",
              "          element.appendChild(docLink);\n",
              "        }\n",
              "      </script>\n",
              "    </div>\n",
              "  </div>\n",
              "  "
            ]
          },
          "metadata": {},
          "execution_count": 210
        }
      ]
    },
    {
      "cell_type": "markdown",
      "source": [
        "### importance & score \n",
        "* 어느 여역을 중요하게 여기는가? 그것에 대한 점수3 "
      ],
      "metadata": {
        "id": "umJ4iDtNZrvE"
      }
    },
    {
      "cell_type": "code",
      "source": [
        "df.columns"
      ],
      "metadata": {
        "colab": {
          "base_uri": "https://localhost:8080/"
        },
        "id": "cQUa5PZ8FTKy",
        "outputId": "26d613cd-f934-47e2-d001-7b8ec6ddfc20"
      },
      "execution_count": null,
      "outputs": [
        {
          "output_type": "execute_result",
          "data": {
            "text/plain": [
              "Index(['has_null', 'gender', 'age', 'age_o', 'race', 'race_o',\n",
              "       'importance_same_race', 'importance_same_religion', 'pref_o_attractive',\n",
              "       'pref_o_sincere', 'pref_o_intelligence', 'pref_o_funny',\n",
              "       'pref_o_ambitious', 'pref_o_shared_interests', 'attractive_o',\n",
              "       'sincere_o', 'intelligence_o', 'funny_o', 'ambitous_o',\n",
              "       'shared_interests_o', 'attractive_important', 'sincere_important',\n",
              "       'intellicence_important', 'funny_important', 'ambtition_important',\n",
              "       'shared_interests_important', 'attractive_partner', 'sincere_partner',\n",
              "       'intelligence_partner', 'funny_partner', 'ambition_partner',\n",
              "       'shared_interests_partner', 'interests_correlate',\n",
              "       'expected_happy_with_sd_people', 'expected_num_interested_in_me',\n",
              "       'like', 'guess_prob_liked', 'met', 'match', 'age_gap', 'age_gap_abs',\n",
              "       'same_race', 'same_race_point'],\n",
              "      dtype='object')"
            ]
          },
          "metadata": {},
          "execution_count": 211
        }
      ]
    },
    {
      "cell_type": "code",
      "source": [
        "# A : 나, B : 상대방\n",
        "df.columns[8:14] # 상대방이 원하는 선호도(8~13) # 이상형같이 원하는 모습\n",
        "# B가 특정한 영역에 대해서 얼마나 선호하는지"
      ],
      "metadata": {
        "colab": {
          "base_uri": "https://localhost:8080/"
        },
        "id": "RWO4AvAlZ2gP",
        "outputId": "dfaa886b-b3d0-42ad-f0c5-e18a54872ce2"
      },
      "execution_count": null,
      "outputs": [
        {
          "output_type": "execute_result",
          "data": {
            "text/plain": [
              "Index(['pref_o_attractive', 'pref_o_sincere', 'pref_o_intelligence',\n",
              "       'pref_o_funny', 'pref_o_ambitious', 'pref_o_shared_interests'],\n",
              "      dtype='object')"
            ]
          },
          "metadata": {},
          "execution_count": 212
        }
      ]
    },
    {
      "cell_type": "code",
      "source": [
        "df.columns[14:20] # 본인에 대한 상대방의 평가\n",
        "# 나(A)에 대한 상대방(B)의 평가\n",
        "# => 나에 대한 상대방의 특정 영역에 대한 점수"
      ],
      "metadata": {
        "colab": {
          "base_uri": "https://localhost:8080/"
        },
        "id": "hMZfJ1_AaXEy",
        "outputId": "e4579db0-8cdc-4c3f-d632-cac78a0ee1d6"
      },
      "execution_count": null,
      "outputs": [
        {
          "output_type": "execute_result",
          "data": {
            "text/plain": [
              "Index(['attractive_o', 'sincere_o', 'intelligence_o', 'funny_o', 'ambitous_o',\n",
              "       'shared_interests_o'],\n",
              "      dtype='object')"
            ]
          },
          "metadata": {},
          "execution_count": 213
        }
      ]
    },
    {
      "cell_type": "code",
      "source": [
        "df.columns[20:26] # 나(본인)의 선호도, 중요도 (20~25) # 이상형같이 원하는 모습\n",
        "# A(나)가 특정한 영역에 대해서 얼마나 중요한지"
      ],
      "metadata": {
        "colab": {
          "base_uri": "https://localhost:8080/"
        },
        "id": "m0tkqXkZaicU",
        "outputId": "1d07481c-7f9d-428c-fd2a-5d233bc6365f"
      },
      "execution_count": null,
      "outputs": [
        {
          "output_type": "execute_result",
          "data": {
            "text/plain": [
              "Index(['attractive_important', 'sincere_important', 'intellicence_important',\n",
              "       'funny_important', 'ambtition_important', 'shared_interests_important'],\n",
              "      dtype='object')"
            ]
          },
          "metadata": {},
          "execution_count": 214
        }
      ]
    },
    {
      "cell_type": "code",
      "source": [
        "df.columns[26:32] # 상대방에 대한 본인의 평가\n",
        "# 나(A)에 대한 상대방(B)의 평가"
      ],
      "metadata": {
        "colab": {
          "base_uri": "https://localhost:8080/"
        },
        "id": "WbKLfXXMayAV",
        "outputId": "d31047a8-6faf-4d01-fba3-79b24d765b6e"
      },
      "execution_count": null,
      "outputs": [
        {
          "output_type": "execute_result",
          "data": {
            "text/plain": [
              "Index(['attractive_partner', 'sincere_partner', 'intelligence_partner',\n",
              "       'funny_partner', 'ambition_partner', 'shared_interests_partner'],\n",
              "      dtype='object')"
            ]
          },
          "metadata": {},
          "execution_count": 215
        }
      ]
    },
    {
      "cell_type": "code",
      "source": [
        "print(f\"상대방의 선호도 : {df.columns[8:14].tolist()}\")\n",
        "print(f\"본인에 대한 상대방의 평가 : {df.columns[14:20].tolist()}\")\n",
        "print(f\"본인의 선호도 : {df.columns[20:26].tolist()}\")\n",
        "print(f\"상대방에 대한 본인의 평가 : {df.columns[26:32].tolist()}\")"
      ],
      "metadata": {
        "colab": {
          "base_uri": "https://localhost:8080/"
        },
        "id": "eHhTtXJEbD45",
        "outputId": "16aced1c-bb17-4184-9173-e2805b4dafa5"
      },
      "execution_count": null,
      "outputs": [
        {
          "output_type": "stream",
          "name": "stdout",
          "text": [
            "상대방의 선호도 : ['pref_o_attractive', 'pref_o_sincere', 'pref_o_intelligence', 'pref_o_funny', 'pref_o_ambitious', 'pref_o_shared_interests']\n",
            "본인에 대한 상대방의 평가 : ['attractive_o', 'sincere_o', 'intelligence_o', 'funny_o', 'ambitous_o', 'shared_interests_o']\n",
            "본인의 선호도 : ['attractive_important', 'sincere_important', 'intellicence_important', 'funny_important', 'ambtition_important', 'shared_interests_important']\n",
            "상대방에 대한 본인의 평가 : ['attractive_partner', 'sincere_partner', 'intelligence_partner', 'funny_partner', 'ambition_partner', 'shared_interests_partner']\n"
          ]
        }
      ]
    },
    {
      "cell_type": "code",
      "source": [
        "partner_imp = df.columns[8:14] # 상대방이 얼마나 중요하게 여기는지\n",
        "partner_rate_me = df.columns[14:20] # 나에 대한 상대방의 평가\n",
        "my_imp = df.columns[20:26] # 내가 얼마나 중요하게 여기는지\n",
        "my_rate_partner = df.columns[26:32] # 상대방에 대한 나의 평가"
      ],
      "metadata": {
        "id": "LkdyCAIPbHBg"
      },
      "execution_count": null,
      "outputs": []
    },
    {
      "cell_type": "code",
      "source": [
        "# imp & rate => 평가(score)\n",
        "new_label_partner = ['attractive_p',\n",
        "                     'sincere_p',\n",
        "                     'intelligence_p',\n",
        "                     'funny_p',\n",
        "                     'ambitous_p',\n",
        "                     'shared_interests_p']\n",
        "# partner가 나에 대해 중요도 * 평가 -> 최종 평가\n",
        "new_label_me = ['attractive_m',\n",
        "                'sincere_m',\n",
        "                'intelligence_m',\n",
        "                'funny_m',\n",
        "                'ambitous_m',\n",
        "                'shared_interests_m']\n",
        "# 내가 상대방에 대해 중요도 * 평가 -> 최종 평가"
      ],
      "metadata": {
        "id": "pOzhz9y1blYY"
      },
      "execution_count": null,
      "outputs": []
    },
    {
      "cell_type": "code",
      "source": [
        "# 얼마나 중요한지, 평가 대상에 대한 점수\n",
        "# row -> importance: 중요도 열이름, score: 평가 열 이름\n",
        "def rating(row, importance, score):\n",
        "  # 둘 중에 하나라도 결측치면 -> -99로 만들고\n",
        "  if (row[importance] == -99) or (row[score] == -99): return -99\n",
        "  # 둘 다 결측치가 아니면 중요도 * 평가 => return\n",
        "  return row[importance] * row[score]\n"
      ],
      "metadata": {
        "id": "8-mh425bcKSm"
      },
      "execution_count": null,
      "outputs": []
    },
    {
      "cell_type": "code",
      "source": [
        "# 평가 점수 열 이름, 중요도 열 이름 -> 새로운 라벨 열 이름\n",
        "# 파트너 -> 나\n",
        "for i, j, k in zip(new_label_partner, partner_imp, partner_rate_me):\n",
        "  print(f\"{i} & {j} & {k}\")"
      ],
      "metadata": {
        "colab": {
          "base_uri": "https://localhost:8080/"
        },
        "id": "Df3wJlQRdC72",
        "outputId": "a41b0591-8956-4b87-f8b5-a582fcdaae1a"
      },
      "execution_count": null,
      "outputs": [
        {
          "output_type": "stream",
          "name": "stdout",
          "text": [
            "attractive_p & pref_o_attractive & attractive_o\n",
            "sincere_p & pref_o_sincere & sincere_o\n",
            "intelligence_p & pref_o_intelligence & intelligence_o\n",
            "funny_p & pref_o_funny & funny_o\n",
            "ambitous_p & pref_o_ambitious & ambitous_o\n",
            "shared_interests_p & pref_o_shared_interests & shared_interests_o\n"
          ]
        }
      ]
    },
    {
      "cell_type": "code",
      "source": [
        "# 파트너가 나에게 느끼는 점수\n",
        "for i, j, k in zip(new_label_partner, partner_imp, partner_rate_me):\n",
        "    # print(f\"{i} & {j} & {k}\")\n",
        "    # i : 새롭게 만들, 파트너가 내게 느끼는 중요도x점수\n",
        "    # j : 파트너가 중요하게 여기는 정도 (importance)\n",
        "    # k ; 나에 대한 파트너의 평가 (score)\n",
        "    # apply 내부는 -> 변수를 1개만 제공 (row)\n",
        "    df[i] = df.apply(lambda row: rating(row, j, k) , axis=1)"
      ],
      "metadata": {
        "colab": {
          "base_uri": "https://localhost:8080/"
        },
        "id": "JVaRCsTTdUAt",
        "outputId": "ef0a036b-1986-4819-ef34-71596fb1e74b"
      },
      "execution_count": null,
      "outputs": [
        {
          "output_type": "stream",
          "name": "stderr",
          "text": [
            "<ipython-input-221-909abe6155bb>:8: SettingWithCopyWarning: \n",
            "A value is trying to be set on a copy of a slice from a DataFrame.\n",
            "Try using .loc[row_indexer,col_indexer] = value instead\n",
            "\n",
            "See the caveats in the documentation: https://pandas.pydata.org/pandas-docs/stable/user_guide/indexing.html#returning-a-view-versus-a-copy\n",
            "  df[i] = df.apply(lambda row: rating(row, j, k) , axis=1)\n"
          ]
        }
      ]
    },
    {
      "cell_type": "code",
      "source": [
        "df.head()"
      ],
      "metadata": {
        "colab": {
          "base_uri": "https://localhost:8080/",
          "height": 386
        },
        "id": "7iEgQyr-d5WO",
        "outputId": "37c73e44-f874-4cc5-f0a7-61f83428fb55"
      },
      "execution_count": null,
      "outputs": [
        {
          "output_type": "execute_result",
          "data": {
            "text/plain": [
              "   has_null  gender   age  age_o                                  race  \\\n",
              "0         0  female 21.00  27.00  Asian/PacificIslander/Asian-American   \n",
              "1         0  female 21.00  22.00  Asian/PacificIslander/Asian-American   \n",
              "2         1  female 21.00  22.00  Asian/PacificIslander/Asian-American   \n",
              "3         0  female 21.00  23.00  Asian/PacificIslander/Asian-American   \n",
              "4         0  female 21.00  24.00  Asian/PacificIslander/Asian-American   \n",
              "\n",
              "                                 race_o  importance_same_race  \\\n",
              "0           European/Caucasian-American                  2.00   \n",
              "1           European/Caucasian-American                  2.00   \n",
              "2  Asian/PacificIslander/Asian-American                  2.00   \n",
              "3           European/Caucasian-American                  2.00   \n",
              "4               Latino/HispanicAmerican                  2.00   \n",
              "\n",
              "   importance_same_religion  pref_o_attractive  pref_o_sincere  ...  age_gap  \\\n",
              "0                      4.00              35.00           20.00  ...     6.00   \n",
              "1                      4.00              60.00            0.00  ...     1.00   \n",
              "2                      4.00              19.00           18.00  ...     1.00   \n",
              "3                      4.00              30.00            5.00  ...     2.00   \n",
              "4                      4.00              30.00           10.00  ...     3.00   \n",
              "\n",
              "   age_gap_abs  same_race  same_race_point  attractive_p  sincere_p  \\\n",
              "0         6.00         -1            -2.00        210.00     160.00   \n",
              "1         1.00         -1            -2.00        420.00       0.00   \n",
              "2         1.00          1             2.00        190.00     180.00   \n",
              "3         2.00         -1            -2.00        210.00      40.00   \n",
              "4         3.00         -1            -2.00        240.00      70.00   \n",
              "\n",
              "   intelligence_p  funny_p  ambitous_p  shared_interests_p  \n",
              "0          160.00   160.00        0.00               30.00  \n",
              "1            0.00   280.00        0.00                0.00  \n",
              "2          190.00   180.00      140.00              120.00  \n",
              "3          135.00   320.00       45.00               40.00  \n",
              "4          180.00    60.00       90.00              140.00  \n",
              "\n",
              "[5 rows x 49 columns]"
            ],
            "text/html": [
              "\n",
              "  <div id=\"df-f37ba81e-d622-4120-803a-da5e2e651813\">\n",
              "    <div class=\"colab-df-container\">\n",
              "      <div>\n",
              "<style scoped>\n",
              "    .dataframe tbody tr th:only-of-type {\n",
              "        vertical-align: middle;\n",
              "    }\n",
              "\n",
              "    .dataframe tbody tr th {\n",
              "        vertical-align: top;\n",
              "    }\n",
              "\n",
              "    .dataframe thead th {\n",
              "        text-align: right;\n",
              "    }\n",
              "</style>\n",
              "<table border=\"1\" class=\"dataframe\">\n",
              "  <thead>\n",
              "    <tr style=\"text-align: right;\">\n",
              "      <th></th>\n",
              "      <th>has_null</th>\n",
              "      <th>gender</th>\n",
              "      <th>age</th>\n",
              "      <th>age_o</th>\n",
              "      <th>race</th>\n",
              "      <th>race_o</th>\n",
              "      <th>importance_same_race</th>\n",
              "      <th>importance_same_religion</th>\n",
              "      <th>pref_o_attractive</th>\n",
              "      <th>pref_o_sincere</th>\n",
              "      <th>...</th>\n",
              "      <th>age_gap</th>\n",
              "      <th>age_gap_abs</th>\n",
              "      <th>same_race</th>\n",
              "      <th>same_race_point</th>\n",
              "      <th>attractive_p</th>\n",
              "      <th>sincere_p</th>\n",
              "      <th>intelligence_p</th>\n",
              "      <th>funny_p</th>\n",
              "      <th>ambitous_p</th>\n",
              "      <th>shared_interests_p</th>\n",
              "    </tr>\n",
              "  </thead>\n",
              "  <tbody>\n",
              "    <tr>\n",
              "      <th>0</th>\n",
              "      <td>0</td>\n",
              "      <td>female</td>\n",
              "      <td>21.00</td>\n",
              "      <td>27.00</td>\n",
              "      <td>Asian/PacificIslander/Asian-American</td>\n",
              "      <td>European/Caucasian-American</td>\n",
              "      <td>2.00</td>\n",
              "      <td>4.00</td>\n",
              "      <td>35.00</td>\n",
              "      <td>20.00</td>\n",
              "      <td>...</td>\n",
              "      <td>6.00</td>\n",
              "      <td>6.00</td>\n",
              "      <td>-1</td>\n",
              "      <td>-2.00</td>\n",
              "      <td>210.00</td>\n",
              "      <td>160.00</td>\n",
              "      <td>160.00</td>\n",
              "      <td>160.00</td>\n",
              "      <td>0.00</td>\n",
              "      <td>30.00</td>\n",
              "    </tr>\n",
              "    <tr>\n",
              "      <th>1</th>\n",
              "      <td>0</td>\n",
              "      <td>female</td>\n",
              "      <td>21.00</td>\n",
              "      <td>22.00</td>\n",
              "      <td>Asian/PacificIslander/Asian-American</td>\n",
              "      <td>European/Caucasian-American</td>\n",
              "      <td>2.00</td>\n",
              "      <td>4.00</td>\n",
              "      <td>60.00</td>\n",
              "      <td>0.00</td>\n",
              "      <td>...</td>\n",
              "      <td>1.00</td>\n",
              "      <td>1.00</td>\n",
              "      <td>-1</td>\n",
              "      <td>-2.00</td>\n",
              "      <td>420.00</td>\n",
              "      <td>0.00</td>\n",
              "      <td>0.00</td>\n",
              "      <td>280.00</td>\n",
              "      <td>0.00</td>\n",
              "      <td>0.00</td>\n",
              "    </tr>\n",
              "    <tr>\n",
              "      <th>2</th>\n",
              "      <td>1</td>\n",
              "      <td>female</td>\n",
              "      <td>21.00</td>\n",
              "      <td>22.00</td>\n",
              "      <td>Asian/PacificIslander/Asian-American</td>\n",
              "      <td>Asian/PacificIslander/Asian-American</td>\n",
              "      <td>2.00</td>\n",
              "      <td>4.00</td>\n",
              "      <td>19.00</td>\n",
              "      <td>18.00</td>\n",
              "      <td>...</td>\n",
              "      <td>1.00</td>\n",
              "      <td>1.00</td>\n",
              "      <td>1</td>\n",
              "      <td>2.00</td>\n",
              "      <td>190.00</td>\n",
              "      <td>180.00</td>\n",
              "      <td>190.00</td>\n",
              "      <td>180.00</td>\n",
              "      <td>140.00</td>\n",
              "      <td>120.00</td>\n",
              "    </tr>\n",
              "    <tr>\n",
              "      <th>3</th>\n",
              "      <td>0</td>\n",
              "      <td>female</td>\n",
              "      <td>21.00</td>\n",
              "      <td>23.00</td>\n",
              "      <td>Asian/PacificIslander/Asian-American</td>\n",
              "      <td>European/Caucasian-American</td>\n",
              "      <td>2.00</td>\n",
              "      <td>4.00</td>\n",
              "      <td>30.00</td>\n",
              "      <td>5.00</td>\n",
              "      <td>...</td>\n",
              "      <td>2.00</td>\n",
              "      <td>2.00</td>\n",
              "      <td>-1</td>\n",
              "      <td>-2.00</td>\n",
              "      <td>210.00</td>\n",
              "      <td>40.00</td>\n",
              "      <td>135.00</td>\n",
              "      <td>320.00</td>\n",
              "      <td>45.00</td>\n",
              "      <td>40.00</td>\n",
              "    </tr>\n",
              "    <tr>\n",
              "      <th>4</th>\n",
              "      <td>0</td>\n",
              "      <td>female</td>\n",
              "      <td>21.00</td>\n",
              "      <td>24.00</td>\n",
              "      <td>Asian/PacificIslander/Asian-American</td>\n",
              "      <td>Latino/HispanicAmerican</td>\n",
              "      <td>2.00</td>\n",
              "      <td>4.00</td>\n",
              "      <td>30.00</td>\n",
              "      <td>10.00</td>\n",
              "      <td>...</td>\n",
              "      <td>3.00</td>\n",
              "      <td>3.00</td>\n",
              "      <td>-1</td>\n",
              "      <td>-2.00</td>\n",
              "      <td>240.00</td>\n",
              "      <td>70.00</td>\n",
              "      <td>180.00</td>\n",
              "      <td>60.00</td>\n",
              "      <td>90.00</td>\n",
              "      <td>140.00</td>\n",
              "    </tr>\n",
              "  </tbody>\n",
              "</table>\n",
              "<p>5 rows × 49 columns</p>\n",
              "</div>\n",
              "      <button class=\"colab-df-convert\" onclick=\"convertToInteractive('df-f37ba81e-d622-4120-803a-da5e2e651813')\"\n",
              "              title=\"Convert this dataframe to an interactive table.\"\n",
              "              style=\"display:none;\">\n",
              "        \n",
              "  <svg xmlns=\"http://www.w3.org/2000/svg\" height=\"24px\"viewBox=\"0 0 24 24\"\n",
              "       width=\"24px\">\n",
              "    <path d=\"M0 0h24v24H0V0z\" fill=\"none\"/>\n",
              "    <path d=\"M18.56 5.44l.94 2.06.94-2.06 2.06-.94-2.06-.94-.94-2.06-.94 2.06-2.06.94zm-11 1L8.5 8.5l.94-2.06 2.06-.94-2.06-.94L8.5 2.5l-.94 2.06-2.06.94zm10 10l.94 2.06.94-2.06 2.06-.94-2.06-.94-.94-2.06-.94 2.06-2.06.94z\"/><path d=\"M17.41 7.96l-1.37-1.37c-.4-.4-.92-.59-1.43-.59-.52 0-1.04.2-1.43.59L10.3 9.45l-7.72 7.72c-.78.78-.78 2.05 0 2.83L4 21.41c.39.39.9.59 1.41.59.51 0 1.02-.2 1.41-.59l7.78-7.78 2.81-2.81c.8-.78.8-2.07 0-2.86zM5.41 20L4 18.59l7.72-7.72 1.47 1.35L5.41 20z\"/>\n",
              "  </svg>\n",
              "      </button>\n",
              "      \n",
              "  <style>\n",
              "    .colab-df-container {\n",
              "      display:flex;\n",
              "      flex-wrap:wrap;\n",
              "      gap: 12px;\n",
              "    }\n",
              "\n",
              "    .colab-df-convert {\n",
              "      background-color: #E8F0FE;\n",
              "      border: none;\n",
              "      border-radius: 50%;\n",
              "      cursor: pointer;\n",
              "      display: none;\n",
              "      fill: #1967D2;\n",
              "      height: 32px;\n",
              "      padding: 0 0 0 0;\n",
              "      width: 32px;\n",
              "    }\n",
              "\n",
              "    .colab-df-convert:hover {\n",
              "      background-color: #E2EBFA;\n",
              "      box-shadow: 0px 1px 2px rgba(60, 64, 67, 0.3), 0px 1px 3px 1px rgba(60, 64, 67, 0.15);\n",
              "      fill: #174EA6;\n",
              "    }\n",
              "\n",
              "    [theme=dark] .colab-df-convert {\n",
              "      background-color: #3B4455;\n",
              "      fill: #D2E3FC;\n",
              "    }\n",
              "\n",
              "    [theme=dark] .colab-df-convert:hover {\n",
              "      background-color: #434B5C;\n",
              "      box-shadow: 0px 1px 3px 1px rgba(0, 0, 0, 0.15);\n",
              "      filter: drop-shadow(0px 1px 2px rgba(0, 0, 0, 0.3));\n",
              "      fill: #FFFFFF;\n",
              "    }\n",
              "  </style>\n",
              "\n",
              "      <script>\n",
              "        const buttonEl =\n",
              "          document.querySelector('#df-f37ba81e-d622-4120-803a-da5e2e651813 button.colab-df-convert');\n",
              "        buttonEl.style.display =\n",
              "          google.colab.kernel.accessAllowed ? 'block' : 'none';\n",
              "\n",
              "        async function convertToInteractive(key) {\n",
              "          const element = document.querySelector('#df-f37ba81e-d622-4120-803a-da5e2e651813');\n",
              "          const dataTable =\n",
              "            await google.colab.kernel.invokeFunction('convertToInteractive',\n",
              "                                                     [key], {});\n",
              "          if (!dataTable) return;\n",
              "\n",
              "          const docLinkHtml = 'Like what you see? Visit the ' +\n",
              "            '<a target=\"_blank\" href=https://colab.research.google.com/notebooks/data_table.ipynb>data table notebook</a>'\n",
              "            + ' to learn more about interactive tables.';\n",
              "          element.innerHTML = '';\n",
              "          dataTable['output_type'] = 'display_data';\n",
              "          await google.colab.output.renderOutput(dataTable, element);\n",
              "          const docLink = document.createElement('div');\n",
              "          docLink.innerHTML = docLinkHtml;\n",
              "          element.appendChild(docLink);\n",
              "        }\n",
              "      </script>\n",
              "    </div>\n",
              "  </div>\n",
              "  "
            ]
          },
          "metadata": {},
          "execution_count": 222
        }
      ]
    },
    {
      "cell_type": "code",
      "source": [
        "# 내가 상대방에게 느끼는 점수\n",
        "for i, j, k in zip(new_label_me, my_imp, my_rate_partner):\n",
        "    # print(f\"{i} & {j} & {k}\")\n",
        "    # i : 새롭게 만들, 중요도x점수\n",
        "    # j : 중요하게 여기는 정도 (importance)\n",
        "    # k ; 평가 (score)\n",
        "    # apply 내부는 -> 변수를 1개만 제공 (row)\n",
        "    df[i] = df.apply(lambda row: rating(row, j, k) , axis=1)"
      ],
      "metadata": {
        "colab": {
          "base_uri": "https://localhost:8080/"
        },
        "id": "S31_Zz_revhC",
        "outputId": "3f505e09-45a3-441c-9527-29d10d5e7c8c"
      },
      "execution_count": null,
      "outputs": [
        {
          "output_type": "stream",
          "name": "stderr",
          "text": [
            "<ipython-input-223-eca645f9409d>:8: SettingWithCopyWarning: \n",
            "A value is trying to be set on a copy of a slice from a DataFrame.\n",
            "Try using .loc[row_indexer,col_indexer] = value instead\n",
            "\n",
            "See the caveats in the documentation: https://pandas.pydata.org/pandas-docs/stable/user_guide/indexing.html#returning-a-view-versus-a-copy\n",
            "  df[i] = df.apply(lambda row: rating(row, j, k) , axis=1)\n"
          ]
        }
      ]
    },
    {
      "cell_type": "code",
      "source": [
        "df.columns"
      ],
      "metadata": {
        "colab": {
          "base_uri": "https://localhost:8080/"
        },
        "id": "HJm4aFpNfOm7",
        "outputId": "01edbf88-ad69-4dd4-f124-294025a0be14"
      },
      "execution_count": null,
      "outputs": [
        {
          "output_type": "execute_result",
          "data": {
            "text/plain": [
              "Index(['has_null', 'gender', 'age', 'age_o', 'race', 'race_o',\n",
              "       'importance_same_race', 'importance_same_religion', 'pref_o_attractive',\n",
              "       'pref_o_sincere', 'pref_o_intelligence', 'pref_o_funny',\n",
              "       'pref_o_ambitious', 'pref_o_shared_interests', 'attractive_o',\n",
              "       'sincere_o', 'intelligence_o', 'funny_o', 'ambitous_o',\n",
              "       'shared_interests_o', 'attractive_important', 'sincere_important',\n",
              "       'intellicence_important', 'funny_important', 'ambtition_important',\n",
              "       'shared_interests_important', 'attractive_partner', 'sincere_partner',\n",
              "       'intelligence_partner', 'funny_partner', 'ambition_partner',\n",
              "       'shared_interests_partner', 'interests_correlate',\n",
              "       'expected_happy_with_sd_people', 'expected_num_interested_in_me',\n",
              "       'like', 'guess_prob_liked', 'met', 'match', 'age_gap', 'age_gap_abs',\n",
              "       'same_race', 'same_race_point', 'attractive_p', 'sincere_p',\n",
              "       'intelligence_p', 'funny_p', 'ambitous_p', 'shared_interests_p',\n",
              "       'attractive_m', 'sincere_m', 'intelligence_m', 'funny_m', 'ambitous_m',\n",
              "       'shared_interests_m'],\n",
              "      dtype='object')"
            ]
          },
          "metadata": {},
          "execution_count": 224
        }
      ]
    },
    {
      "cell_type": "markdown",
      "source": [
        "## 범주형 변수"
      ],
      "metadata": {
        "id": "NOijmko4fPzH"
      }
    },
    {
      "cell_type": "code",
      "source": [
        "df = pd.get_dummies(df, columns=df.describe(include='O').columns, drop_first=True)\n",
        "df"
      ],
      "metadata": {
        "colab": {
          "base_uri": "https://localhost:8080/",
          "height": 505
        },
        "id": "UUjtoxHJfTHd",
        "outputId": "52213a52-f903-4939-dd82-a92d91381bd9"
      },
      "execution_count": null,
      "outputs": [
        {
          "output_type": "execute_result",
          "data": {
            "text/plain": [
              "      has_null   age  age_o  importance_same_race  importance_same_religion  \\\n",
              "0            0 21.00  27.00                  2.00                      4.00   \n",
              "1            0 21.00  22.00                  2.00                      4.00   \n",
              "2            1 21.00  22.00                  2.00                      4.00   \n",
              "3            0 21.00  23.00                  2.00                      4.00   \n",
              "4            0 21.00  24.00                  2.00                      4.00   \n",
              "...        ...   ...    ...                   ...                       ...   \n",
              "8372         1 25.00  24.00                  1.00                      1.00   \n",
              "8373         1 25.00  26.00                  1.00                      1.00   \n",
              "8374         1 25.00  24.00                  1.00                      1.00   \n",
              "8376         1 25.00  22.00                  1.00                      1.00   \n",
              "8377         1 25.00  22.00                  1.00                      1.00   \n",
              "\n",
              "      pref_o_attractive  pref_o_sincere  pref_o_intelligence  pref_o_funny  \\\n",
              "0                 35.00           20.00                20.00         20.00   \n",
              "1                 60.00            0.00                 0.00         40.00   \n",
              "2                 19.00           18.00                19.00         18.00   \n",
              "3                 30.00            5.00                15.00         40.00   \n",
              "4                 30.00           10.00                20.00         10.00   \n",
              "...                 ...             ...                  ...           ...   \n",
              "8372              10.00           15.00                30.00         20.00   \n",
              "8373              10.00           10.00                30.00         20.00   \n",
              "8374              50.00           20.00                10.00          5.00   \n",
              "8376              10.00           25.00                25.00         10.00   \n",
              "8377              20.00           20.00                10.00         15.00   \n",
              "\n",
              "      pref_o_ambitious  ...  shared_interests_m  gender_male  \\\n",
              "0                 0.00  ...               75.00            0   \n",
              "1                 0.00  ...               90.00            0   \n",
              "2                14.00  ...              105.00            0   \n",
              "3                 5.00  ...              120.00            0   \n",
              "4                10.00  ...               90.00            0   \n",
              "...                ...  ...                 ...          ...   \n",
              "8372             15.00  ...              -99.00            1   \n",
              "8373             10.00  ...              -99.00            1   \n",
              "8374             10.00  ...              -99.00            1   \n",
              "8376             10.00  ...                0.00            1   \n",
              "8377              5.00  ...                0.00            1   \n",
              "\n",
              "      race_Black/AfricanAmerican  race_European/Caucasian-American  \\\n",
              "0                              0                                 0   \n",
              "1                              0                                 0   \n",
              "2                              0                                 0   \n",
              "3                              0                                 0   \n",
              "4                              0                                 0   \n",
              "...                          ...                               ...   \n",
              "8372                           0                                 1   \n",
              "8373                           0                                 1   \n",
              "8374                           0                                 1   \n",
              "8376                           0                                 1   \n",
              "8377                           0                                 1   \n",
              "\n",
              "      race_Latino/HispanicAmerican  race_Other  race_o_Black/AfricanAmerican  \\\n",
              "0                                0           0                             0   \n",
              "1                                0           0                             0   \n",
              "2                                0           0                             0   \n",
              "3                                0           0                             0   \n",
              "4                                0           0                             0   \n",
              "...                            ...         ...                           ...   \n",
              "8372                             0           0                             0   \n",
              "8373                             0           0                             0   \n",
              "8374                             0           0                             0   \n",
              "8376                             0           0                             0   \n",
              "8377                             0           0                             0   \n",
              "\n",
              "      race_o_European/Caucasian-American  race_o_Latino/HispanicAmerican  \\\n",
              "0                                      1                               0   \n",
              "1                                      1                               0   \n",
              "2                                      0                               0   \n",
              "3                                      1                               0   \n",
              "4                                      0                               1   \n",
              "...                                  ...                             ...   \n",
              "8372                                   1                               0   \n",
              "8373                                   0                               1   \n",
              "8374                                   0                               0   \n",
              "8376                                   0                               0   \n",
              "8377                                   0                               0   \n",
              "\n",
              "      race_o_Other  \n",
              "0                0  \n",
              "1                0  \n",
              "2                0  \n",
              "3                0  \n",
              "4                0  \n",
              "...            ...  \n",
              "8372             0  \n",
              "8373             0  \n",
              "8374             1  \n",
              "8376             0  \n",
              "8377             0  \n",
              "\n",
              "[8130 rows x 61 columns]"
            ],
            "text/html": [
              "\n",
              "  <div id=\"df-a08d1d08-17d0-43b7-b335-6a064b437939\">\n",
              "    <div class=\"colab-df-container\">\n",
              "      <div>\n",
              "<style scoped>\n",
              "    .dataframe tbody tr th:only-of-type {\n",
              "        vertical-align: middle;\n",
              "    }\n",
              "\n",
              "    .dataframe tbody tr th {\n",
              "        vertical-align: top;\n",
              "    }\n",
              "\n",
              "    .dataframe thead th {\n",
              "        text-align: right;\n",
              "    }\n",
              "</style>\n",
              "<table border=\"1\" class=\"dataframe\">\n",
              "  <thead>\n",
              "    <tr style=\"text-align: right;\">\n",
              "      <th></th>\n",
              "      <th>has_null</th>\n",
              "      <th>age</th>\n",
              "      <th>age_o</th>\n",
              "      <th>importance_same_race</th>\n",
              "      <th>importance_same_religion</th>\n",
              "      <th>pref_o_attractive</th>\n",
              "      <th>pref_o_sincere</th>\n",
              "      <th>pref_o_intelligence</th>\n",
              "      <th>pref_o_funny</th>\n",
              "      <th>pref_o_ambitious</th>\n",
              "      <th>...</th>\n",
              "      <th>shared_interests_m</th>\n",
              "      <th>gender_male</th>\n",
              "      <th>race_Black/AfricanAmerican</th>\n",
              "      <th>race_European/Caucasian-American</th>\n",
              "      <th>race_Latino/HispanicAmerican</th>\n",
              "      <th>race_Other</th>\n",
              "      <th>race_o_Black/AfricanAmerican</th>\n",
              "      <th>race_o_European/Caucasian-American</th>\n",
              "      <th>race_o_Latino/HispanicAmerican</th>\n",
              "      <th>race_o_Other</th>\n",
              "    </tr>\n",
              "  </thead>\n",
              "  <tbody>\n",
              "    <tr>\n",
              "      <th>0</th>\n",
              "      <td>0</td>\n",
              "      <td>21.00</td>\n",
              "      <td>27.00</td>\n",
              "      <td>2.00</td>\n",
              "      <td>4.00</td>\n",
              "      <td>35.00</td>\n",
              "      <td>20.00</td>\n",
              "      <td>20.00</td>\n",
              "      <td>20.00</td>\n",
              "      <td>0.00</td>\n",
              "      <td>...</td>\n",
              "      <td>75.00</td>\n",
              "      <td>0</td>\n",
              "      <td>0</td>\n",
              "      <td>0</td>\n",
              "      <td>0</td>\n",
              "      <td>0</td>\n",
              "      <td>0</td>\n",
              "      <td>1</td>\n",
              "      <td>0</td>\n",
              "      <td>0</td>\n",
              "    </tr>\n",
              "    <tr>\n",
              "      <th>1</th>\n",
              "      <td>0</td>\n",
              "      <td>21.00</td>\n",
              "      <td>22.00</td>\n",
              "      <td>2.00</td>\n",
              "      <td>4.00</td>\n",
              "      <td>60.00</td>\n",
              "      <td>0.00</td>\n",
              "      <td>0.00</td>\n",
              "      <td>40.00</td>\n",
              "      <td>0.00</td>\n",
              "      <td>...</td>\n",
              "      <td>90.00</td>\n",
              "      <td>0</td>\n",
              "      <td>0</td>\n",
              "      <td>0</td>\n",
              "      <td>0</td>\n",
              "      <td>0</td>\n",
              "      <td>0</td>\n",
              "      <td>1</td>\n",
              "      <td>0</td>\n",
              "      <td>0</td>\n",
              "    </tr>\n",
              "    <tr>\n",
              "      <th>2</th>\n",
              "      <td>1</td>\n",
              "      <td>21.00</td>\n",
              "      <td>22.00</td>\n",
              "      <td>2.00</td>\n",
              "      <td>4.00</td>\n",
              "      <td>19.00</td>\n",
              "      <td>18.00</td>\n",
              "      <td>19.00</td>\n",
              "      <td>18.00</td>\n",
              "      <td>14.00</td>\n",
              "      <td>...</td>\n",
              "      <td>105.00</td>\n",
              "      <td>0</td>\n",
              "      <td>0</td>\n",
              "      <td>0</td>\n",
              "      <td>0</td>\n",
              "      <td>0</td>\n",
              "      <td>0</td>\n",
              "      <td>0</td>\n",
              "      <td>0</td>\n",
              "      <td>0</td>\n",
              "    </tr>\n",
              "    <tr>\n",
              "      <th>3</th>\n",
              "      <td>0</td>\n",
              "      <td>21.00</td>\n",
              "      <td>23.00</td>\n",
              "      <td>2.00</td>\n",
              "      <td>4.00</td>\n",
              "      <td>30.00</td>\n",
              "      <td>5.00</td>\n",
              "      <td>15.00</td>\n",
              "      <td>40.00</td>\n",
              "      <td>5.00</td>\n",
              "      <td>...</td>\n",
              "      <td>120.00</td>\n",
              "      <td>0</td>\n",
              "      <td>0</td>\n",
              "      <td>0</td>\n",
              "      <td>0</td>\n",
              "      <td>0</td>\n",
              "      <td>0</td>\n",
              "      <td>1</td>\n",
              "      <td>0</td>\n",
              "      <td>0</td>\n",
              "    </tr>\n",
              "    <tr>\n",
              "      <th>4</th>\n",
              "      <td>0</td>\n",
              "      <td>21.00</td>\n",
              "      <td>24.00</td>\n",
              "      <td>2.00</td>\n",
              "      <td>4.00</td>\n",
              "      <td>30.00</td>\n",
              "      <td>10.00</td>\n",
              "      <td>20.00</td>\n",
              "      <td>10.00</td>\n",
              "      <td>10.00</td>\n",
              "      <td>...</td>\n",
              "      <td>90.00</td>\n",
              "      <td>0</td>\n",
              "      <td>0</td>\n",
              "      <td>0</td>\n",
              "      <td>0</td>\n",
              "      <td>0</td>\n",
              "      <td>0</td>\n",
              "      <td>0</td>\n",
              "      <td>1</td>\n",
              "      <td>0</td>\n",
              "    </tr>\n",
              "    <tr>\n",
              "      <th>...</th>\n",
              "      <td>...</td>\n",
              "      <td>...</td>\n",
              "      <td>...</td>\n",
              "      <td>...</td>\n",
              "      <td>...</td>\n",
              "      <td>...</td>\n",
              "      <td>...</td>\n",
              "      <td>...</td>\n",
              "      <td>...</td>\n",
              "      <td>...</td>\n",
              "      <td>...</td>\n",
              "      <td>...</td>\n",
              "      <td>...</td>\n",
              "      <td>...</td>\n",
              "      <td>...</td>\n",
              "      <td>...</td>\n",
              "      <td>...</td>\n",
              "      <td>...</td>\n",
              "      <td>...</td>\n",
              "      <td>...</td>\n",
              "      <td>...</td>\n",
              "    </tr>\n",
              "    <tr>\n",
              "      <th>8372</th>\n",
              "      <td>1</td>\n",
              "      <td>25.00</td>\n",
              "      <td>24.00</td>\n",
              "      <td>1.00</td>\n",
              "      <td>1.00</td>\n",
              "      <td>10.00</td>\n",
              "      <td>15.00</td>\n",
              "      <td>30.00</td>\n",
              "      <td>20.00</td>\n",
              "      <td>15.00</td>\n",
              "      <td>...</td>\n",
              "      <td>-99.00</td>\n",
              "      <td>1</td>\n",
              "      <td>0</td>\n",
              "      <td>1</td>\n",
              "      <td>0</td>\n",
              "      <td>0</td>\n",
              "      <td>0</td>\n",
              "      <td>1</td>\n",
              "      <td>0</td>\n",
              "      <td>0</td>\n",
              "    </tr>\n",
              "    <tr>\n",
              "      <th>8373</th>\n",
              "      <td>1</td>\n",
              "      <td>25.00</td>\n",
              "      <td>26.00</td>\n",
              "      <td>1.00</td>\n",
              "      <td>1.00</td>\n",
              "      <td>10.00</td>\n",
              "      <td>10.00</td>\n",
              "      <td>30.00</td>\n",
              "      <td>20.00</td>\n",
              "      <td>10.00</td>\n",
              "      <td>...</td>\n",
              "      <td>-99.00</td>\n",
              "      <td>1</td>\n",
              "      <td>0</td>\n",
              "      <td>1</td>\n",
              "      <td>0</td>\n",
              "      <td>0</td>\n",
              "      <td>0</td>\n",
              "      <td>0</td>\n",
              "      <td>1</td>\n",
              "      <td>0</td>\n",
              "    </tr>\n",
              "    <tr>\n",
              "      <th>8374</th>\n",
              "      <td>1</td>\n",
              "      <td>25.00</td>\n",
              "      <td>24.00</td>\n",
              "      <td>1.00</td>\n",
              "      <td>1.00</td>\n",
              "      <td>50.00</td>\n",
              "      <td>20.00</td>\n",
              "      <td>10.00</td>\n",
              "      <td>5.00</td>\n",
              "      <td>10.00</td>\n",
              "      <td>...</td>\n",
              "      <td>-99.00</td>\n",
              "      <td>1</td>\n",
              "      <td>0</td>\n",
              "      <td>1</td>\n",
              "      <td>0</td>\n",
              "      <td>0</td>\n",
              "      <td>0</td>\n",
              "      <td>0</td>\n",
              "      <td>0</td>\n",
              "      <td>1</td>\n",
              "    </tr>\n",
              "    <tr>\n",
              "      <th>8376</th>\n",
              "      <td>1</td>\n",
              "      <td>25.00</td>\n",
              "      <td>22.00</td>\n",
              "      <td>1.00</td>\n",
              "      <td>1.00</td>\n",
              "      <td>10.00</td>\n",
              "      <td>25.00</td>\n",
              "      <td>25.00</td>\n",
              "      <td>10.00</td>\n",
              "      <td>10.00</td>\n",
              "      <td>...</td>\n",
              "      <td>0.00</td>\n",
              "      <td>1</td>\n",
              "      <td>0</td>\n",
              "      <td>1</td>\n",
              "      <td>0</td>\n",
              "      <td>0</td>\n",
              "      <td>0</td>\n",
              "      <td>0</td>\n",
              "      <td>0</td>\n",
              "      <td>0</td>\n",
              "    </tr>\n",
              "    <tr>\n",
              "      <th>8377</th>\n",
              "      <td>1</td>\n",
              "      <td>25.00</td>\n",
              "      <td>22.00</td>\n",
              "      <td>1.00</td>\n",
              "      <td>1.00</td>\n",
              "      <td>20.00</td>\n",
              "      <td>20.00</td>\n",
              "      <td>10.00</td>\n",
              "      <td>15.00</td>\n",
              "      <td>5.00</td>\n",
              "      <td>...</td>\n",
              "      <td>0.00</td>\n",
              "      <td>1</td>\n",
              "      <td>0</td>\n",
              "      <td>1</td>\n",
              "      <td>0</td>\n",
              "      <td>0</td>\n",
              "      <td>0</td>\n",
              "      <td>0</td>\n",
              "      <td>0</td>\n",
              "      <td>0</td>\n",
              "    </tr>\n",
              "  </tbody>\n",
              "</table>\n",
              "<p>8130 rows × 61 columns</p>\n",
              "</div>\n",
              "      <button class=\"colab-df-convert\" onclick=\"convertToInteractive('df-a08d1d08-17d0-43b7-b335-6a064b437939')\"\n",
              "              title=\"Convert this dataframe to an interactive table.\"\n",
              "              style=\"display:none;\">\n",
              "        \n",
              "  <svg xmlns=\"http://www.w3.org/2000/svg\" height=\"24px\"viewBox=\"0 0 24 24\"\n",
              "       width=\"24px\">\n",
              "    <path d=\"M0 0h24v24H0V0z\" fill=\"none\"/>\n",
              "    <path d=\"M18.56 5.44l.94 2.06.94-2.06 2.06-.94-2.06-.94-.94-2.06-.94 2.06-2.06.94zm-11 1L8.5 8.5l.94-2.06 2.06-.94-2.06-.94L8.5 2.5l-.94 2.06-2.06.94zm10 10l.94 2.06.94-2.06 2.06-.94-2.06-.94-.94-2.06-.94 2.06-2.06.94z\"/><path d=\"M17.41 7.96l-1.37-1.37c-.4-.4-.92-.59-1.43-.59-.52 0-1.04.2-1.43.59L10.3 9.45l-7.72 7.72c-.78.78-.78 2.05 0 2.83L4 21.41c.39.39.9.59 1.41.59.51 0 1.02-.2 1.41-.59l7.78-7.78 2.81-2.81c.8-.78.8-2.07 0-2.86zM5.41 20L4 18.59l7.72-7.72 1.47 1.35L5.41 20z\"/>\n",
              "  </svg>\n",
              "      </button>\n",
              "      \n",
              "  <style>\n",
              "    .colab-df-container {\n",
              "      display:flex;\n",
              "      flex-wrap:wrap;\n",
              "      gap: 12px;\n",
              "    }\n",
              "\n",
              "    .colab-df-convert {\n",
              "      background-color: #E8F0FE;\n",
              "      border: none;\n",
              "      border-radius: 50%;\n",
              "      cursor: pointer;\n",
              "      display: none;\n",
              "      fill: #1967D2;\n",
              "      height: 32px;\n",
              "      padding: 0 0 0 0;\n",
              "      width: 32px;\n",
              "    }\n",
              "\n",
              "    .colab-df-convert:hover {\n",
              "      background-color: #E2EBFA;\n",
              "      box-shadow: 0px 1px 2px rgba(60, 64, 67, 0.3), 0px 1px 3px 1px rgba(60, 64, 67, 0.15);\n",
              "      fill: #174EA6;\n",
              "    }\n",
              "\n",
              "    [theme=dark] .colab-df-convert {\n",
              "      background-color: #3B4455;\n",
              "      fill: #D2E3FC;\n",
              "    }\n",
              "\n",
              "    [theme=dark] .colab-df-convert:hover {\n",
              "      background-color: #434B5C;\n",
              "      box-shadow: 0px 1px 3px 1px rgba(0, 0, 0, 0.15);\n",
              "      filter: drop-shadow(0px 1px 2px rgba(0, 0, 0, 0.3));\n",
              "      fill: #FFFFFF;\n",
              "    }\n",
              "  </style>\n",
              "\n",
              "      <script>\n",
              "        const buttonEl =\n",
              "          document.querySelector('#df-a08d1d08-17d0-43b7-b335-6a064b437939 button.colab-df-convert');\n",
              "        buttonEl.style.display =\n",
              "          google.colab.kernel.accessAllowed ? 'block' : 'none';\n",
              "\n",
              "        async function convertToInteractive(key) {\n",
              "          const element = document.querySelector('#df-a08d1d08-17d0-43b7-b335-6a064b437939');\n",
              "          const dataTable =\n",
              "            await google.colab.kernel.invokeFunction('convertToInteractive',\n",
              "                                                     [key], {});\n",
              "          if (!dataTable) return;\n",
              "\n",
              "          const docLinkHtml = 'Like what you see? Visit the ' +\n",
              "            '<a target=\"_blank\" href=https://colab.research.google.com/notebooks/data_table.ipynb>data table notebook</a>'\n",
              "            + ' to learn more about interactive tables.';\n",
              "          element.innerHTML = '';\n",
              "          dataTable['output_type'] = 'display_data';\n",
              "          await google.colab.output.renderOutput(dataTable, element);\n",
              "          const docLink = document.createElement('div');\n",
              "          docLink.innerHTML = docLinkHtml;\n",
              "          element.appendChild(docLink);\n",
              "        }\n",
              "      </script>\n",
              "    </div>\n",
              "  </div>\n",
              "  "
            ]
          },
          "metadata": {},
          "execution_count": 225
        }
      ]
    },
    {
      "cell_type": "code",
      "source": [
        "df.info()"
      ],
      "metadata": {
        "colab": {
          "base_uri": "https://localhost:8080/"
        },
        "id": "CjKt6PATfjXu",
        "outputId": "1996811c-54be-41a8-8ee7-786acb946a6d"
      },
      "execution_count": null,
      "outputs": [
        {
          "output_type": "stream",
          "name": "stdout",
          "text": [
            "<class 'pandas.core.frame.DataFrame'>\n",
            "Int64Index: 8130 entries, 0 to 8377\n",
            "Data columns (total 61 columns):\n",
            " #   Column                              Non-Null Count  Dtype  \n",
            "---  ------                              --------------  -----  \n",
            " 0   has_null                            8130 non-null   int64  \n",
            " 1   age                                 8130 non-null   float64\n",
            " 2   age_o                               8130 non-null   float64\n",
            " 3   importance_same_race                8130 non-null   float64\n",
            " 4   importance_same_religion            8130 non-null   float64\n",
            " 5   pref_o_attractive                   8130 non-null   float64\n",
            " 6   pref_o_sincere                      8130 non-null   float64\n",
            " 7   pref_o_intelligence                 8130 non-null   float64\n",
            " 8   pref_o_funny                        8130 non-null   float64\n",
            " 9   pref_o_ambitious                    8130 non-null   float64\n",
            " 10  pref_o_shared_interests             8130 non-null   float64\n",
            " 11  attractive_o                        8130 non-null   float64\n",
            " 12  sincere_o                           8130 non-null   float64\n",
            " 13  intelligence_o                      8130 non-null   float64\n",
            " 14  funny_o                             8130 non-null   float64\n",
            " 15  ambitous_o                          8130 non-null   float64\n",
            " 16  shared_interests_o                  8130 non-null   float64\n",
            " 17  attractive_important                8130 non-null   float64\n",
            " 18  sincere_important                   8130 non-null   float64\n",
            " 19  intellicence_important              8130 non-null   float64\n",
            " 20  funny_important                     8130 non-null   float64\n",
            " 21  ambtition_important                 8130 non-null   float64\n",
            " 22  shared_interests_important          8130 non-null   float64\n",
            " 23  attractive_partner                  8130 non-null   float64\n",
            " 24  sincere_partner                     8130 non-null   float64\n",
            " 25  intelligence_partner                8130 non-null   float64\n",
            " 26  funny_partner                       8130 non-null   float64\n",
            " 27  ambition_partner                    8130 non-null   float64\n",
            " 28  shared_interests_partner            8130 non-null   float64\n",
            " 29  interests_correlate                 8130 non-null   float64\n",
            " 30  expected_happy_with_sd_people       8130 non-null   float64\n",
            " 31  expected_num_interested_in_me       8130 non-null   float64\n",
            " 32  like                                8130 non-null   float64\n",
            " 33  guess_prob_liked                    8130 non-null   float64\n",
            " 34  met                                 8130 non-null   float64\n",
            " 35  match                               8130 non-null   int64  \n",
            " 36  age_gap                             8130 non-null   float64\n",
            " 37  age_gap_abs                         8130 non-null   float64\n",
            " 38  same_race                           8130 non-null   int64  \n",
            " 39  same_race_point                     8130 non-null   float64\n",
            " 40  attractive_p                        8130 non-null   float64\n",
            " 41  sincere_p                           8130 non-null   float64\n",
            " 42  intelligence_p                      8130 non-null   float64\n",
            " 43  funny_p                             8130 non-null   float64\n",
            " 44  ambitous_p                          8130 non-null   float64\n",
            " 45  shared_interests_p                  8130 non-null   float64\n",
            " 46  attractive_m                        8130 non-null   float64\n",
            " 47  sincere_m                           8130 non-null   float64\n",
            " 48  intelligence_m                      8130 non-null   float64\n",
            " 49  funny_m                             8130 non-null   float64\n",
            " 50  ambitous_m                          8130 non-null   float64\n",
            " 51  shared_interests_m                  8130 non-null   float64\n",
            " 52  gender_male                         8130 non-null   uint8  \n",
            " 53  race_Black/AfricanAmerican          8130 non-null   uint8  \n",
            " 54  race_European/Caucasian-American    8130 non-null   uint8  \n",
            " 55  race_Latino/HispanicAmerican        8130 non-null   uint8  \n",
            " 56  race_Other                          8130 non-null   uint8  \n",
            " 57  race_o_Black/AfricanAmerican        8130 non-null   uint8  \n",
            " 58  race_o_European/Caucasian-American  8130 non-null   uint8  \n",
            " 59  race_o_Latino/HispanicAmerican      8130 non-null   uint8  \n",
            " 60  race_o_Other                        8130 non-null   uint8  \n",
            "dtypes: float64(49), int64(3), uint8(9)\n",
            "memory usage: 3.4 MB\n"
          ]
        }
      ]
    },
    {
      "cell_type": "markdown",
      "source": [
        "# 모델링"
      ],
      "metadata": {
        "id": "EKrty1TXfrX9"
      }
    },
    {
      "cell_type": "code",
      "source": [
        "from sklearn.model_selection import train_test_split\n",
        "# 나중에는 하이퍼파라미터, XFold 등 여러개의 알고리즘을 같이 테스트 해야한다.\n",
        "\n",
        "X=df.drop('match',axis=1)\n",
        "y=df['match']\n",
        "X_train, X_test, y_train, y_test = train_test_split(\n",
        "    X,y, test_size=0.2, random_state=230\n",
        ")"
      ],
      "metadata": {
        "id": "a5xqNcGUf07s"
      },
      "execution_count": null,
      "outputs": []
    },
    {
      "cell_type": "code",
      "source": [
        "import xgboost as xgb"
      ],
      "metadata": {
        "id": "awG2zFgBgU4D"
      },
      "execution_count": null,
      "outputs": []
    },
    {
      "cell_type": "code",
      "source": [
        "model = xgb.XGBRFClassifier(random_state=230)"
      ],
      "metadata": {
        "id": "2UL3_IQsgXkQ"
      },
      "execution_count": null,
      "outputs": []
    },
    {
      "cell_type": "code",
      "source": [
        "model.fit(X_train, y_train)"
      ],
      "metadata": {
        "colab": {
          "base_uri": "https://localhost:8080/"
        },
        "id": "jAAbud8MgeGQ",
        "outputId": "028c3303-4e22-4a47-d79e-aaf6d6210794"
      },
      "execution_count": null,
      "outputs": [
        {
          "output_type": "execute_result",
          "data": {
            "text/plain": [
              "XGBRFClassifier(random_state=230)"
            ]
          },
          "metadata": {},
          "execution_count": 230
        }
      ]
    },
    {
      "cell_type": "code",
      "source": [
        "train_pred = model.predict(X_train)\n",
        "test_pred = model.predict(X_test)"
      ],
      "metadata": {
        "id": "NGoKwgD6giKj"
      },
      "execution_count": null,
      "outputs": []
    },
    {
      "cell_type": "code",
      "source": [
        "from sklearn.metrics import accuracy_score, confusion_matrix"
      ],
      "metadata": {
        "id": "A_cH1BHYgyEQ"
      },
      "execution_count": null,
      "outputs": []
    },
    {
      "cell_type": "code",
      "source": [
        "print(accuracy_score(y_train, train_pred)) # 학습율\n",
        "print(accuracy_score(y_test, test_pred))"
      ],
      "metadata": {
        "colab": {
          "base_uri": "https://localhost:8080/"
        },
        "id": "AmntaMY_g3lX",
        "outputId": "4149a97a-e5f1-4c3e-d5c8-47147f0fc079"
      },
      "execution_count": null,
      "outputs": [
        {
          "output_type": "stream",
          "name": "stdout",
          "text": [
            "0.8537822878228782\n",
            "0.8290282902829028\n"
          ]
        }
      ]
    },
    {
      "cell_type": "code",
      "source": [
        "model = xgb.XGBClassifier(\n",
        "    n_estimators=500,\n",
        "    max_depth=5,\n",
        "    random_state=23,\n",
        "    n_jobs=-1)\n",
        "model.fit(X_train, y_train)\n",
        "train_pred = model.predict(X_train)\n",
        "test_pred = model.predict(X_test)\n",
        "print(accuracy_score(y_train, train_pred)) # 학습율\n",
        "print(accuracy_score(y_test, test_pred)) # 오버피팅이지만 올라감"
      ],
      "metadata": {
        "colab": {
          "base_uri": "https://localhost:8080/"
        },
        "id": "FJcfxRvYg5ME",
        "outputId": "757a8afa-3698-46e5-e2c7-b3d2573896df"
      },
      "execution_count": null,
      "outputs": [
        {
          "output_type": "stream",
          "name": "stdout",
          "text": [
            "0.9998462484624846\n",
            "0.8560885608856088\n"
          ]
        }
      ]
    },
    {
      "cell_type": "code",
      "source": [
        "from sklearn.metrics import confusion_matrix\n",
        "\n",
        "# 오른쪽 위 : 1종 오류 - 실제 틀린데 (0) 맞다고 예측 (1) - 68\n",
        "# 왼쪽 아래 : 2종 오류 - 실제 맞는데 (1) 틀리다고 예측 (0) - 147\n",
        "print(confusion_matrix(y_test, test_pred))\n",
        "cf_matrix = confusion_matrix(y_test, test_pred)\n",
        "cf_matrix\n",
        "group_names = ['TN','FP','FN','TP']\n",
        "group_counts = [\"{0:0.0f}\".format(value) for value in\n",
        "                cf_matrix.flatten()]\n",
        "group_percentages = [\"{0:.2%}\".format(value) for value in\n",
        "                     cf_matrix.flatten()/np.sum(cf_matrix)]\n",
        "labels = [f\"{v1}\\n{v2}\\n{v3}\" for v1, v2, v3 in\n",
        "          zip(group_names,group_counts,group_percentages)]\n",
        "labels = np.asarray(labels).reshape(2,2)\n",
        "sns.heatmap(cf_matrix, annot=labels, fmt='', cmap='coolwarm')\n",
        "plt.ylabel('True')\n",
        "plt.xlabel('Predicted')\n",
        "plt.show()\n",
        "# TP(양성을 양성으로 판단)\n",
        "# FN(양성을 음성으로 판단) -> 2종 오류 (맞는데 틀리다고)\n",
        "# FP(음성을 양성으로 판단) -> 1종 오류 (틀린데 맞다고)\n",
        "# TN(음성을 음성으로 판단) "
      ],
      "metadata": {
        "colab": {
          "base_uri": "https://localhost:8080/",
          "height": 316
        },
        "id": "UGUYMwSthgly",
        "outputId": "3c0ec6f7-a303-482f-8ca1-efd95e536c82"
      },
      "execution_count": null,
      "outputs": [
        {
          "output_type": "stream",
          "name": "stdout",
          "text": [
            "[[1265   62]\n",
            " [ 172  127]]\n"
          ]
        },
        {
          "output_type": "display_data",
          "data": {
            "text/plain": [
              "<Figure size 432x288 with 2 Axes>"
            ],
            "image/png": "[encoded data removed]"
          },
          "metadata": {
            "needs_background": "light"
          }
        }
      ]
    },
    {
      "cell_type": "markdown",
      "source": [
        "\n",
        "|이ㅣ건|제목||\n",
        "|-|-|-|\n",
        "|||정밀도|\n",
        "||1265|62|\n",
        "|재현율|172<br>오른쪽보다 커선 안좋아 ㅜ|127|"
      ],
      "metadata": {
        "id": "bVHyGMfboLFb"
      }
    },
    {
      "cell_type": "markdown",
      "source": [
        "## Classficatioin Report"
      ],
      "metadata": {
        "id": "hJpolxbBm2eL"
      }
    },
    {
      "cell_type": "code",
      "source": [
        "from sklearn.metrics import classification_report"
      ],
      "metadata": {
        "id": "ij9q1_4Rm0Kc"
      },
      "execution_count": null,
      "outputs": []
    },
    {
      "cell_type": "code",
      "source": [
        "print(classification_report(y_test, test_pred))"
      ],
      "metadata": {
        "colab": {
          "base_uri": "https://localhost:8080/"
        },
        "id": "vEn3NQMsnBLw",
        "outputId": "8af7d317-decb-4b81-f2e6-7a16cc0fbe14"
      },
      "execution_count": null,
      "outputs": [
        {
          "output_type": "stream",
          "name": "stdout",
          "text": [
            "              precision    recall  f1-score   support\n",
            "\n",
            "           0       0.88      0.95      0.92      1327\n",
            "           1       0.67      0.42      0.52       299\n",
            "\n",
            "    accuracy                           0.86      1626\n",
            "   macro avg       0.78      0.69      0.72      1626\n",
            "weighted avg       0.84      0.86      0.84      1626\n",
            "\n"
          ]
        }
      ]
    },
    {
      "cell_type": "markdown",
      "source": [
        "* 0: match 성사가 안된 경우\n",
        "* **1: match 성사된 경우** (분석대상이 되는쪽, 예측대상* 0 : match 성사가 안 된 경우\n",
        "* **1 : match 성사된 경우** (분석대상이 되는쪽, 예측대상)\n",
        "* `precision` : 정밀도\n",
        "* `recall` : 재현율\n",
        "* `f1-score` : f1-점수)"
      ],
      "metadata": {
        "id": "b6QMtmwTnGfp"
      }
    },
    {
      "cell_type": "markdown",
      "source": [
        "#### 정밀도(precision)\n",
        "* 1로 예측한 경우 중, 얼마만큼이 실제로 1인지를 나타냄<br>\n",
        "$TP\\over(TP+FP)$\n",
        "=\n",
        "$\\frac{양성을 양성으로 판단}{양성을 양성으로 판단 + 1종 오류}$\n",
        "=\n",
        "$\\frac{양성을 양성으로 판단}{양성으로 판단한 수}$\n",
        "> FP가 커질수록 분모가 커지기 때문에 정밀도는 낮아짐 (1종 오류와 관련)\n",
        "\n",
        "* 1종 오류 - 아닌데 맞다고 결과가 나옴"
      ],
      "metadata": {
        "id": "-v3zWIKVnqbf"
      }
    },
    {
      "cell_type": "markdown",
      "source": [
        "#### 재현율(recall)\n",
        "* 실제로 1 중에, 얼마만큼을 1로 예측했는지 나타냄<br>\n",
        "$TP\\over(TP+FN)$\n",
        "=\n",
        "$\\frac{양성을 양성으로 판단}{양성을 양성으로 판단 + 2종 오류}$\n",
        "=\n",
        "$\\frac{양성을 양성으로 판단}{실제로 양성인 수}$\n",
        "> FN가 커질수록 분모가 커지기 때문에 재현율은 낮아짐 (2종 오류와 관련)\n",
        "\n",
        "* 2종 오류 : 맞는데 아니라고 / 걸렸는데 안걸렸다고..\n",
        "* 재현율이 높아지려고 하면 : 실제로는 1인데 0으로 잡히는 위음성이 줄어들어야함 (FN)"
      ],
      "metadata": {
        "id": "QzEw1nTunQ8X"
      }
    },
    {
      "cell_type": "markdown",
      "source": [
        "## 하이퍼 파라미터 튜닝"
      ],
      "metadata": {
        "id": "p_wePJckpEyQ"
      }
    },
    {
      "cell_type": "markdown",
      "source": [
        "### 경사하강법\n",
        "* 머신 러닝이 학습시킬 때 최소의 오차를 찾는 방법\n",
        "* 오차 함수에 대한 경사도(미분계수)를 기준으로 매개변수를 반복적으로 이동해가며 최소 오차를 찾음\n",
        "* 매개변수? : 선형 회귀에서의 계수(변수에 대한 기울기 값)에 해당\n",
        "\n",
        "**경사하강법과 보폭**\n",
        "* 경사부스팅의 핵심개념 중 하나로, 모델이 어떻게 최소 오차가 되는 매개변수들을 학습하는지에 대한 방법\n",
        "* 오차식에 대한 미분계수를 통해 매개 변수의 이동 방향과 보폭을 결정\n",
        "* 보폭은 매개변수를 얼만큼씩 이동할지를 의미\n",
        "\n",
        "**미분계수**\n",
        "* 평균변화율에서 x의 증가량을 0으로 가깝게 할 때의 평균변화율\n",
        "* 그래프 상에서 접선의 기울기, 계수"
      ],
      "metadata": {
        "id": "w6iObOXcpMTQ"
      }
    },
    {
      "cell_type": "markdown",
      "source": [
        "* learning_rate\n",
        "    * 경사하강법에서 ‘매개변수’를 얼만큼씩 이동해가면서 최소 오차를 찾을지, 그 보폭의 크기를 결정하는 하이퍼파라미터.\n",
        "    * 기본적으로 보폭은 미분계수에 의해 결정되지만, learning_rate를 크게 하면 더 큰 보폭을, 작게 하면 그만큼 작은 보폭으로 움직임.\n",
        "    * learning rate를 우리말로 학습률이라고 함\n",
        "    * 학습률과 보폭 : 학습률은 입력, 보폭은 그 결과. 큰 학습률을 사용하면 결과적으로 보폭도 커짐\n",
        "    * 너무 작은 학습률 -> 상당한 시간이 들고, 오버피팅 문제 일어남\n",
        "    * 너무 큰 학습률 -> 학습이 제대로 안 됨\n",
        "    * 적절한 크기의 학습률을 사용해야만 큰 시간을 들이지 않고 최소 오차 지점을 찾을 수 있음\n",
        "* max_depth : 각 트리의 깊이를 제한\n",
        "* subsample : 모델을 학습시킬 때 일부 데이터만 사용하여 각 트리를 만듦. 0.5를 쓰면 데이터의 절반씩만 랜덤 추출하여 트리를 만듦. 이 또한 오버피팅을 방지하는 데 도움이 됨\n",
        "* n_estimators : 전체 나무의 개수."
      ],
      "metadata": {
        "id": "xW-YqIDnqHmO"
      }
    },
    {
      "cell_type": "markdown",
      "source": [
        "### 그리드 서치\n",
        "* 하이퍼 패러미터 튜닝\n",
        "    * 방법 1 : KNN for문으로 가능한 조합을 다 넣어봄 -> 학습 빠르고, 그 때 데이터 자체가 적었고...\n",
        "    * 방법 2 : 직관, 왠지 잘 되는 수치가 있음\n",
        "    * 방법 3 : 순정. -> default\n",
        "    ...\n",
        "    * 일반적인 몇 가지 수치들을 가지고 조합을 만들어보자\n",
        "    * grid - 격자 -> 처리"
      ],
      "metadata": {
        "id": "_snawf1qqIlN"
      }
    },
    {
      "cell_type": "code",
      "source": [
        "# 학습률 : learning_rate\n",
        "# max_depth, subsample, nestimators\n",
        "# dictionary\n",
        "# parameter = {\n",
        "#     'learning_rate': [0.01, 0.1, 0.3], # 학습에 쓰이는 매개변수를 조절해서 최소 오차 허용을 조작 -> 보폭 수정\n",
        "#     'max_depth': [5, 7, 10], # 트리의 깊이 제한 (오버피팅)\n",
        "#     'subsample': [0.5, 0.7, 1], # 학습할 때 데이터 전체 쓰는 게 아니라, subsample 비율에 따라서 부분만 추출\n",
        "#     'n_estimators': [300, 500, 1000] # 트리 개수 3^4 = 81\n",
        "# }\n",
        "parameter = {\n",
        "    'learning_rate': [0.3],\n",
        "    'max_depth': [5],\n",
        "    'subsample': [0.5],\n",
        "    'n_estimators': [1000]\n",
        "}"
      ],
      "metadata": {
        "id": "RJe_-1yzopId"
      },
      "execution_count": 249,
      "outputs": []
    },
    {
      "cell_type": "code",
      "source": [
        "from sklearn.model_selection import GridSearchCV"
      ],
      "metadata": {
        "id": "G2ySsAcSrcX3"
      },
      "execution_count": 250,
      "outputs": []
    },
    {
      "cell_type": "code",
      "source": [
        "model = xgb.XGBClassifier()"
      ],
      "metadata": {
        "id": "7Nk7j6uerk6p"
      },
      "execution_count": 251,
      "outputs": []
    },
    {
      "cell_type": "code",
      "source": [
        "# 모델, 패러미터 dict, n_jobs, scoring='f1', cv=5\n",
        "# cv = kfold -> folding\n",
        "# Cross Validation\n",
        "gs_model = GridSearchCV(\n",
        "    # n_jobs : CPU 개수 (-1 : 최대로.. colab 2개)\n",
        "    # scoring : grid별로 모델이 만들어지는 셈 => 모델 간의 비교를? \n",
        "    # cv : 얼마나 나눠서 평균치를 구해줄거냐 (Kfold에서의 k)\n",
        "    model, parameter, n_jobs=-1, scoring='f1', cv=5\n",
        ")"
      ],
      "metadata": {
        "id": "egrWkxnHr13L"
      },
      "execution_count": 252,
      "outputs": []
    },
    {
      "cell_type": "code",
      "source": [
        "gs_model.fit(X_train, y_train)"
      ],
      "metadata": {
        "colab": {
          "base_uri": "https://localhost:8080/"
        },
        "id": "B6aTT1JrsZ_Z",
        "outputId": "be46c5da-7a58-4024-babf-3aab46c34e38"
      },
      "execution_count": 253,
      "outputs": [
        {
          "output_type": "execute_result",
          "data": {
            "text/plain": [
              "GridSearchCV(cv=5, estimator=XGBClassifier(), n_jobs=-1,\n",
              "             param_grid={'learning_rate': [0.3], 'max_depth': [5],\n",
              "                         'n_estimators': [1000], 'subsample': [0.5]},\n",
              "             scoring='f1')"
            ]
          },
          "metadata": {},
          "execution_count": 253
        }
      ]
    },
    {
      "cell_type": "code",
      "source": [
        "gs_model.best_score_"
      ],
      "metadata": {
        "colab": {
          "base_uri": "https://localhost:8080/"
        },
        "id": "R7vp8RKssggk",
        "outputId": "9969ca31-c759-44c2-a20b-9de7414ccc1c"
      },
      "execution_count": 254,
      "outputs": [
        {
          "output_type": "execute_result",
          "data": {
            "text/plain": [
              "0.5027432765536555"
            ]
          },
          "metadata": {},
          "execution_count": 254
        }
      ]
    },
    {
      "cell_type": "code",
      "source": [
        "gs_model.best_params_"
      ],
      "metadata": {
        "colab": {
          "base_uri": "https://localhost:8080/"
        },
        "id": "ufbuK7VN2iQ7",
        "outputId": "c4fd18ae-ca67-4293-e159-855ad09f76dd"
      },
      "execution_count": 255,
      "outputs": [
        {
          "output_type": "execute_result",
          "data": {
            "text/plain": [
              "{'learning_rate': 0.3, 'max_depth': 5, 'n_estimators': 1000, 'subsample': 0.5}"
            ]
          },
          "metadata": {},
          "execution_count": 255
        }
      ]
    },
    {
      "cell_type": "code",
      "source": [
        "pred = gs_model.predict(X_test)"
      ],
      "metadata": {
        "id": "mlG3_A_s4Cnp"
      },
      "execution_count": 256,
      "outputs": []
    },
    {
      "cell_type": "code",
      "source": [
        "print(f\"accuracy_score : {accuracy_score(y_test, pred)}\")\n",
        "print(classification_report(y_test, pred))"
      ],
      "metadata": {
        "colab": {
          "base_uri": "https://localhost:8080/"
        },
        "id": "anNVlt6y4IcA",
        "outputId": "f530e0cd-7f75-461a-b231-ff2a0feb7069"
      },
      "execution_count": 257,
      "outputs": [
        {
          "output_type": "stream",
          "name": "stdout",
          "text": [
            "accuracy_score : 0.8474784747847478\n",
            "              precision    recall  f1-score   support\n",
            "\n",
            "           0       0.88      0.94      0.91      1327\n",
            "           1       0.63      0.41      0.50       299\n",
            "\n",
            "    accuracy                           0.85      1626\n",
            "   macro avg       0.75      0.68      0.71      1626\n",
            "weighted avg       0.83      0.85      0.83      1626\n",
            "\n"
          ]
        }
      ]
    },
    {
      "cell_type": "markdown",
      "source": [
        "### 중요 변수 확인"
      ],
      "metadata": {
        "id": "BkOTJ1T43-eR"
      }
    },
    {
      "cell_type": "code",
      "source": [
        "model = xgb.XGBClassifier(learning=0.3, max_depth=5,\n",
        "                          n_estimators=1000, subsample=0.5, random_state=23)\n",
        "model.fit(X_train, y_train)"
      ],
      "metadata": {
        "colab": {
          "base_uri": "https://localhost:8080/"
        },
        "id": "rNZ0lTdQ2iVq",
        "outputId": "2b53de31-4a6d-40e2-c450-bcd834bf0e6e"
      },
      "execution_count": 258,
      "outputs": [
        {
          "output_type": "execute_result",
          "data": {
            "text/plain": [
              "XGBClassifier(learning=0.3, max_depth=5, n_estimators=1000, random_state=23,\n",
              "              subsample=0.5)"
            ]
          },
          "metadata": {},
          "execution_count": 258
        }
      ]
    },
    {
      "cell_type": "code",
      "source": [
        "# 중요 변수\n",
        "# xgboost -> feature_importances_\n",
        "model.feature_importances_"
      ],
      "metadata": {
        "colab": {
          "base_uri": "https://localhost:8080/"
        },
        "id": "oUB8oKTp2iZg",
        "outputId": "238cf3a2-45d3-4562-902a-6fdba8593933"
      },
      "execution_count": 259,
      "outputs": [
        {
          "output_type": "execute_result",
          "data": {
            "text/plain": [
              "array([0.01721228, 0.01391853, 0.01321496, 0.01297298, 0.01427304,\n",
              "       0.01525905, 0.01352587, 0.01603805, 0.01467018, 0.0125812 ,\n",
              "       0.01444387, 0.04114927, 0.01233105, 0.01208126, 0.0393217 ,\n",
              "       0.01269904, 0.02246842, 0.01460101, 0.01480403, 0.01702163,\n",
              "       0.01374435, 0.01571519, 0.01366122, 0.02483183, 0.01227493,\n",
              "       0.01449589, 0.01951807, 0.01299664, 0.016634  , 0.01220873,\n",
              "       0.01572941, 0.01926025, 0.05670597, 0.02301837, 0.02130855,\n",
              "       0.0148903 , 0.01240942, 0.00820258, 0.01522961, 0.01337943,\n",
              "       0.01358117, 0.01390166, 0.01227918, 0.01217617, 0.01183278,\n",
              "       0.01347173, 0.01302576, 0.01486057, 0.01418304, 0.01303299,\n",
              "       0.01282381, 0.01124765, 0.02326012, 0.01438081, 0.0182762 ,\n",
              "       0.02466743, 0.01150107, 0.01546749, 0.01872526, 0.016503  ],\n",
              "      dtype=float32)"
            ]
          },
          "metadata": {},
          "execution_count": 259
        }
      ]
    },
    {
      "cell_type": "code",
      "source": [
        "feature_imp = pd.DataFrame({\n",
        "    'features': X_train.columns,\n",
        "    'values': model.feature_importances_,\n",
        "})"
      ],
      "metadata": {
        "id": "3usjoBQI4Rl9"
      },
      "execution_count": 260,
      "outputs": []
    },
    {
      "cell_type": "code",
      "source": [
        "pd.options.display.float_format = '{:.6f}'.format\n",
        "feature_imp.head()"
      ],
      "metadata": {
        "colab": {
          "base_uri": "https://localhost:8080/",
          "height": 206
        },
        "id": "I6tmVCm_4WIx",
        "outputId": "951ac8ac-8702-4b42-d4b9-6c7451a1ed5b"
      },
      "execution_count": 261,
      "outputs": [
        {
          "output_type": "execute_result",
          "data": {
            "text/plain": [
              "                   features   values\n",
              "0                  has_null 0.017212\n",
              "1                       age 0.013919\n",
              "2                     age_o 0.013215\n",
              "3      importance_same_race 0.012973\n",
              "4  importance_same_religion 0.014273"
            ],
            "text/html": [
              "\n",
              "  <div id=\"df-3d05c930-540b-4f69-a0f2-e001be794dfa\">\n",
              "    <div class=\"colab-df-container\">\n",
              "      <div>\n",
              "<style scoped>\n",
              "    .dataframe tbody tr th:only-of-type {\n",
              "        vertical-align: middle;\n",
              "    }\n",
              "\n",
              "    .dataframe tbody tr th {\n",
              "        vertical-align: top;\n",
              "    }\n",
              "\n",
              "    .dataframe thead th {\n",
              "        text-align: right;\n",
              "    }\n",
              "</style>\n",
              "<table border=\"1\" class=\"dataframe\">\n",
              "  <thead>\n",
              "    <tr style=\"text-align: right;\">\n",
              "      <th></th>\n",
              "      <th>features</th>\n",
              "      <th>values</th>\n",
              "    </tr>\n",
              "  </thead>\n",
              "  <tbody>\n",
              "    <tr>\n",
              "      <th>0</th>\n",
              "      <td>has_null</td>\n",
              "      <td>0.017212</td>\n",
              "    </tr>\n",
              "    <tr>\n",
              "      <th>1</th>\n",
              "      <td>age</td>\n",
              "      <td>0.013919</td>\n",
              "    </tr>\n",
              "    <tr>\n",
              "      <th>2</th>\n",
              "      <td>age_o</td>\n",
              "      <td>0.013215</td>\n",
              "    </tr>\n",
              "    <tr>\n",
              "      <th>3</th>\n",
              "      <td>importance_same_race</td>\n",
              "      <td>0.012973</td>\n",
              "    </tr>\n",
              "    <tr>\n",
              "      <th>4</th>\n",
              "      <td>importance_same_religion</td>\n",
              "      <td>0.014273</td>\n",
              "    </tr>\n",
              "  </tbody>\n",
              "</table>\n",
              "</div>\n",
              "      <button class=\"colab-df-convert\" onclick=\"convertToInteractive('df-3d05c930-540b-4f69-a0f2-e001be794dfa')\"\n",
              "              title=\"Convert this dataframe to an interactive table.\"\n",
              "              style=\"display:none;\">\n",
              "        \n",
              "  <svg xmlns=\"http://www.w3.org/2000/svg\" height=\"24px\"viewBox=\"0 0 24 24\"\n",
              "       width=\"24px\">\n",
              "    <path d=\"M0 0h24v24H0V0z\" fill=\"none\"/>\n",
              "    <path d=\"M18.56 5.44l.94 2.06.94-2.06 2.06-.94-2.06-.94-.94-2.06-.94 2.06-2.06.94zm-11 1L8.5 8.5l.94-2.06 2.06-.94-2.06-.94L8.5 2.5l-.94 2.06-2.06.94zm10 10l.94 2.06.94-2.06 2.06-.94-2.06-.94-.94-2.06-.94 2.06-2.06.94z\"/><path d=\"M17.41 7.96l-1.37-1.37c-.4-.4-.92-.59-1.43-.59-.52 0-1.04.2-1.43.59L10.3 9.45l-7.72 7.72c-.78.78-.78 2.05 0 2.83L4 21.41c.39.39.9.59 1.41.59.51 0 1.02-.2 1.41-.59l7.78-7.78 2.81-2.81c.8-.78.8-2.07 0-2.86zM5.41 20L4 18.59l7.72-7.72 1.47 1.35L5.41 20z\"/>\n",
              "  </svg>\n",
              "      </button>\n",
              "      \n",
              "  <style>\n",
              "    .colab-df-container {\n",
              "      display:flex;\n",
              "      flex-wrap:wrap;\n",
              "      gap: 12px;\n",
              "    }\n",
              "\n",
              "    .colab-df-convert {\n",
              "      background-color: #E8F0FE;\n",
              "      border: none;\n",
              "      border-radius: 50%;\n",
              "      cursor: pointer;\n",
              "      display: none;\n",
              "      fill: #1967D2;\n",
              "      height: 32px;\n",
              "      padding: 0 0 0 0;\n",
              "      width: 32px;\n",
              "    }\n",
              "\n",
              "    .colab-df-convert:hover {\n",
              "      background-color: #E2EBFA;\n",
              "      box-shadow: 0px 1px 2px rgba(60, 64, 67, 0.3), 0px 1px 3px 1px rgba(60, 64, 67, 0.15);\n",
              "      fill: #174EA6;\n",
              "    }\n",
              "\n",
              "    [theme=dark] .colab-df-convert {\n",
              "      background-color: #3B4455;\n",
              "      fill: #D2E3FC;\n",
              "    }\n",
              "\n",
              "    [theme=dark] .colab-df-convert:hover {\n",
              "      background-color: #434B5C;\n",
              "      box-shadow: 0px 1px 3px 1px rgba(0, 0, 0, 0.15);\n",
              "      filter: drop-shadow(0px 1px 2px rgba(0, 0, 0, 0.3));\n",
              "      fill: #FFFFFF;\n",
              "    }\n",
              "  </style>\n",
              "\n",
              "      <script>\n",
              "        const buttonEl =\n",
              "          document.querySelector('#df-3d05c930-540b-4f69-a0f2-e001be794dfa button.colab-df-convert');\n",
              "        buttonEl.style.display =\n",
              "          google.colab.kernel.accessAllowed ? 'block' : 'none';\n",
              "\n",
              "        async function convertToInteractive(key) {\n",
              "          const element = document.querySelector('#df-3d05c930-540b-4f69-a0f2-e001be794dfa');\n",
              "          const dataTable =\n",
              "            await google.colab.kernel.invokeFunction('convertToInteractive',\n",
              "                                                     [key], {});\n",
              "          if (!dataTable) return;\n",
              "\n",
              "          const docLinkHtml = 'Like what you see? Visit the ' +\n",
              "            '<a target=\"_blank\" href=https://colab.research.google.com/notebooks/data_table.ipynb>data table notebook</a>'\n",
              "            + ' to learn more about interactive tables.';\n",
              "          element.innerHTML = '';\n",
              "          dataTable['output_type'] = 'display_data';\n",
              "          await google.colab.output.renderOutput(dataTable, element);\n",
              "          const docLink = document.createElement('div');\n",
              "          docLink.innerHTML = docLinkHtml;\n",
              "          element.appendChild(docLink);\n",
              "        }\n",
              "      </script>\n",
              "    </div>\n",
              "  </div>\n",
              "  "
            ]
          },
          "metadata": {},
          "execution_count": 261
        }
      ]
    },
    {
      "cell_type": "code",
      "source": [
        "feature_imp.sort_values(by='values', ascending=False) # 중요한 것부터 내림차순"
      ],
      "metadata": {
        "colab": {
          "base_uri": "https://localhost:8080/",
          "height": 1000
        },
        "id": "TntQ6jPv4XVT",
        "outputId": "298eedb7-8ded-4452-9f13-87886020c7f5"
      },
      "execution_count": 262,
      "outputs": [
        {
          "output_type": "execute_result",
          "data": {
            "text/plain": [
              "                              features   values\n",
              "32                                like 0.056706\n",
              "11                        attractive_o 0.041149\n",
              "14                             funny_o 0.039322\n",
              "23                  attractive_partner 0.024832\n",
              "55                          race_Other 0.024667\n",
              "52          race_Black/AfricanAmerican 0.023260\n",
              "33                    guess_prob_liked 0.023018\n",
              "16                  shared_interests_o 0.022468\n",
              "34                                 met 0.021309\n",
              "26                       funny_partner 0.019518\n",
              "31       expected_num_interested_in_me 0.019260\n",
              "58      race_o_Latino/HispanicAmerican 0.018725\n",
              "54        race_Latino/HispanicAmerican 0.018276\n",
              "0                             has_null 0.017212\n",
              "19              intellicence_important 0.017022\n",
              "28            shared_interests_partner 0.016634\n",
              "59                        race_o_Other 0.016503\n",
              "7                  pref_o_intelligence 0.016038\n",
              "30       expected_happy_with_sd_people 0.015729\n",
              "21                 ambtition_important 0.015715\n",
              "57  race_o_European/Caucasian-American 0.015467\n",
              "5                    pref_o_attractive 0.015259\n",
              "38                     same_race_point 0.015230\n",
              "35                             age_gap 0.014890\n",
              "47                      intelligence_m 0.014861\n",
              "18                   sincere_important 0.014804\n",
              "8                         pref_o_funny 0.014670\n",
              "17                attractive_important 0.014601\n",
              "25                intelligence_partner 0.014496\n",
              "10             pref_o_shared_interests 0.014444\n",
              "53    race_European/Caucasian-American 0.014381\n",
              "4             importance_same_religion 0.014273\n",
              "48                             funny_m 0.014183\n",
              "1                                  age 0.013919\n",
              "41                      intelligence_p 0.013902\n",
              "20                     funny_important 0.013744\n",
              "22          shared_interests_important 0.013661\n",
              "40                           sincere_p 0.013581\n",
              "6                       pref_o_sincere 0.013526\n",
              "45                        attractive_m 0.013472\n",
              "39                        attractive_p 0.013379\n",
              "2                                age_o 0.013215\n",
              "49                          ambitous_m 0.013033\n",
              "46                           sincere_m 0.013026\n",
              "27                    ambition_partner 0.012997\n",
              "3                 importance_same_race 0.012973\n",
              "50                  shared_interests_m 0.012824\n",
              "15                          ambitous_o 0.012699\n",
              "9                     pref_o_ambitious 0.012581\n",
              "36                         age_gap_abs 0.012409\n",
              "12                           sincere_o 0.012331\n",
              "42                             funny_p 0.012279\n",
              "24                     sincere_partner 0.012275\n",
              "29                 interests_correlate 0.012209\n",
              "43                          ambitous_p 0.012176\n",
              "13                      intelligence_o 0.012081\n",
              "44                  shared_interests_p 0.011833\n",
              "56        race_o_Black/AfricanAmerican 0.011501\n",
              "51                         gender_male 0.011248\n",
              "37                           same_race 0.008203"
            ],
            "text/html": [
              "\n",
              "  <div id=\"df-92e13a21-38e6-472d-a40b-8e8a66fc2b5f\">\n",
              "    <div class=\"colab-df-container\">\n",
              "      <div>\n",
              "<style scoped>\n",
              "    .dataframe tbody tr th:only-of-type {\n",
              "        vertical-align: middle;\n",
              "    }\n",
              "\n",
              "    .dataframe tbody tr th {\n",
              "        vertical-align: top;\n",
              "    }\n",
              "\n",
              "    .dataframe thead th {\n",
              "        text-align: right;\n",
              "    }\n",
              "</style>\n",
              "<table border=\"1\" class=\"dataframe\">\n",
              "  <thead>\n",
              "    <tr style=\"text-align: right;\">\n",
              "      <th></th>\n",
              "      <th>features</th>\n",
              "      <th>values</th>\n",
              "    </tr>\n",
              "  </thead>\n",
              "  <tbody>\n",
              "    <tr>\n",
              "      <th>32</th>\n",
              "      <td>like</td>\n",
              "      <td>0.056706</td>\n",
              "    </tr>\n",
              "    <tr>\n",
              "      <th>11</th>\n",
              "      <td>attractive_o</td>\n",
              "      <td>0.041149</td>\n",
              "    </tr>\n",
              "    <tr>\n",
              "      <th>14</th>\n",
              "      <td>funny_o</td>\n",
              "      <td>0.039322</td>\n",
              "    </tr>\n",
              "    <tr>\n",
              "      <th>23</th>\n",
              "      <td>attractive_partner</td>\n",
              "      <td>0.024832</td>\n",
              "    </tr>\n",
              "    <tr>\n",
              "      <th>55</th>\n",
              "      <td>race_Other</td>\n",
              "      <td>0.024667</td>\n",
              "    </tr>\n",
              "    <tr>\n",
              "      <th>52</th>\n",
              "      <td>race_Black/AfricanAmerican</td>\n",
              "      <td>0.023260</td>\n",
              "    </tr>\n",
              "    <tr>\n",
              "      <th>33</th>\n",
              "      <td>guess_prob_liked</td>\n",
              "      <td>0.023018</td>\n",
              "    </tr>\n",
              "    <tr>\n",
              "      <th>16</th>\n",
              "      <td>shared_interests_o</td>\n",
              "      <td>0.022468</td>\n",
              "    </tr>\n",
              "    <tr>\n",
              "      <th>34</th>\n",
              "      <td>met</td>\n",
              "      <td>0.021309</td>\n",
              "    </tr>\n",
              "    <tr>\n",
              "      <th>26</th>\n",
              "      <td>funny_partner</td>\n",
              "      <td>0.019518</td>\n",
              "    </tr>\n",
              "    <tr>\n",
              "      <th>31</th>\n",
              "      <td>expected_num_interested_in_me</td>\n",
              "      <td>0.019260</td>\n",
              "    </tr>\n",
              "    <tr>\n",
              "      <th>58</th>\n",
              "      <td>race_o_Latino/HispanicAmerican</td>\n",
              "      <td>0.018725</td>\n",
              "    </tr>\n",
              "    <tr>\n",
              "      <th>54</th>\n",
              "      <td>race_Latino/HispanicAmerican</td>\n",
              "      <td>0.018276</td>\n",
              "    </tr>\n",
              "    <tr>\n",
              "      <th>0</th>\n",
              "      <td>has_null</td>\n",
              "      <td>0.017212</td>\n",
              "    </tr>\n",
              "    <tr>\n",
              "      <th>19</th>\n",
              "      <td>intellicence_important</td>\n",
              "      <td>0.017022</td>\n",
              "    </tr>\n",
              "    <tr>\n",
              "      <th>28</th>\n",
              "      <td>shared_interests_partner</td>\n",
              "      <td>0.016634</td>\n",
              "    </tr>\n",
              "    <tr>\n",
              "      <th>59</th>\n",
              "      <td>race_o_Other</td>\n",
              "      <td>0.016503</td>\n",
              "    </tr>\n",
              "    <tr>\n",
              "      <th>7</th>\n",
              "      <td>pref_o_intelligence</td>\n",
              "      <td>0.016038</td>\n",
              "    </tr>\n",
              "    <tr>\n",
              "      <th>30</th>\n",
              "      <td>expected_happy_with_sd_people</td>\n",
              "      <td>0.015729</td>\n",
              "    </tr>\n",
              "    <tr>\n",
              "      <th>21</th>\n",
              "      <td>ambtition_important</td>\n",
              "      <td>0.015715</td>\n",
              "    </tr>\n",
              "    <tr>\n",
              "      <th>57</th>\n",
              "      <td>race_o_European/Caucasian-American</td>\n",
              "      <td>0.015467</td>\n",
              "    </tr>\n",
              "    <tr>\n",
              "      <th>5</th>\n",
              "      <td>pref_o_attractive</td>\n",
              "      <td>0.015259</td>\n",
              "    </tr>\n",
              "    <tr>\n",
              "      <th>38</th>\n",
              "      <td>same_race_point</td>\n",
              "      <td>0.015230</td>\n",
              "    </tr>\n",
              "    <tr>\n",
              "      <th>35</th>\n",
              "      <td>age_gap</td>\n",
              "      <td>0.014890</td>\n",
              "    </tr>\n",
              "    <tr>\n",
              "      <th>47</th>\n",
              "      <td>intelligence_m</td>\n",
              "      <td>0.014861</td>\n",
              "    </tr>\n",
              "    <tr>\n",
              "      <th>18</th>\n",
              "      <td>sincere_important</td>\n",
              "      <td>0.014804</td>\n",
              "    </tr>\n",
              "    <tr>\n",
              "      <th>8</th>\n",
              "      <td>pref_o_funny</td>\n",
              "      <td>0.014670</td>\n",
              "    </tr>\n",
              "    <tr>\n",
              "      <th>17</th>\n",
              "      <td>attractive_important</td>\n",
              "      <td>0.014601</td>\n",
              "    </tr>\n",
              "    <tr>\n",
              "      <th>25</th>\n",
              "      <td>intelligence_partner</td>\n",
              "      <td>0.014496</td>\n",
              "    </tr>\n",
              "    <tr>\n",
              "      <th>10</th>\n",
              "      <td>pref_o_shared_interests</td>\n",
              "      <td>0.014444</td>\n",
              "    </tr>\n",
              "    <tr>\n",
              "      <th>53</th>\n",
              "      <td>race_European/Caucasian-American</td>\n",
              "      <td>0.014381</td>\n",
              "    </tr>\n",
              "    <tr>\n",
              "      <th>4</th>\n",
              "      <td>importance_same_religion</td>\n",
              "      <td>0.014273</td>\n",
              "    </tr>\n",
              "    <tr>\n",
              "      <th>48</th>\n",
              "      <td>funny_m</td>\n",
              "      <td>0.014183</td>\n",
              "    </tr>\n",
              "    <tr>\n",
              "      <th>1</th>\n",
              "      <td>age</td>\n",
              "      <td>0.013919</td>\n",
              "    </tr>\n",
              "    <tr>\n",
              "      <th>41</th>\n",
              "      <td>intelligence_p</td>\n",
              "      <td>0.013902</td>\n",
              "    </tr>\n",
              "    <tr>\n",
              "      <th>20</th>\n",
              "      <td>funny_important</td>\n",
              "      <td>0.013744</td>\n",
              "    </tr>\n",
              "    <tr>\n",
              "      <th>22</th>\n",
              "      <td>shared_interests_important</td>\n",
              "      <td>0.013661</td>\n",
              "    </tr>\n",
              "    <tr>\n",
              "      <th>40</th>\n",
              "      <td>sincere_p</td>\n",
              "      <td>0.013581</td>\n",
              "    </tr>\n",
              "    <tr>\n",
              "      <th>6</th>\n",
              "      <td>pref_o_sincere</td>\n",
              "      <td>0.013526</td>\n",
              "    </tr>\n",
              "    <tr>\n",
              "      <th>45</th>\n",
              "      <td>attractive_m</td>\n",
              "      <td>0.013472</td>\n",
              "    </tr>\n",
              "    <tr>\n",
              "      <th>39</th>\n",
              "      <td>attractive_p</td>\n",
              "      <td>0.013379</td>\n",
              "    </tr>\n",
              "    <tr>\n",
              "      <th>2</th>\n",
              "      <td>age_o</td>\n",
              "      <td>0.013215</td>\n",
              "    </tr>\n",
              "    <tr>\n",
              "      <th>49</th>\n",
              "      <td>ambitous_m</td>\n",
              "      <td>0.013033</td>\n",
              "    </tr>\n",
              "    <tr>\n",
              "      <th>46</th>\n",
              "      <td>sincere_m</td>\n",
              "      <td>0.013026</td>\n",
              "    </tr>\n",
              "    <tr>\n",
              "      <th>27</th>\n",
              "      <td>ambition_partner</td>\n",
              "      <td>0.012997</td>\n",
              "    </tr>\n",
              "    <tr>\n",
              "      <th>3</th>\n",
              "      <td>importance_same_race</td>\n",
              "      <td>0.012973</td>\n",
              "    </tr>\n",
              "    <tr>\n",
              "      <th>50</th>\n",
              "      <td>shared_interests_m</td>\n",
              "      <td>0.012824</td>\n",
              "    </tr>\n",
              "    <tr>\n",
              "      <th>15</th>\n",
              "      <td>ambitous_o</td>\n",
              "      <td>0.012699</td>\n",
              "    </tr>\n",
              "    <tr>\n",
              "      <th>9</th>\n",
              "      <td>pref_o_ambitious</td>\n",
              "      <td>0.012581</td>\n",
              "    </tr>\n",
              "    <tr>\n",
              "      <th>36</th>\n",
              "      <td>age_gap_abs</td>\n",
              "      <td>0.012409</td>\n",
              "    </tr>\n",
              "    <tr>\n",
              "      <th>12</th>\n",
              "      <td>sincere_o</td>\n",
              "      <td>0.012331</td>\n",
              "    </tr>\n",
              "    <tr>\n",
              "      <th>42</th>\n",
              "      <td>funny_p</td>\n",
              "      <td>0.012279</td>\n",
              "    </tr>\n",
              "    <tr>\n",
              "      <th>24</th>\n",
              "      <td>sincere_partner</td>\n",
              "      <td>0.012275</td>\n",
              "    </tr>\n",
              "    <tr>\n",
              "      <th>29</th>\n",
              "      <td>interests_correlate</td>\n",
              "      <td>0.012209</td>\n",
              "    </tr>\n",
              "    <tr>\n",
              "      <th>43</th>\n",
              "      <td>ambitous_p</td>\n",
              "      <td>0.012176</td>\n",
              "    </tr>\n",
              "    <tr>\n",
              "      <th>13</th>\n",
              "      <td>intelligence_o</td>\n",
              "      <td>0.012081</td>\n",
              "    </tr>\n",
              "    <tr>\n",
              "      <th>44</th>\n",
              "      <td>shared_interests_p</td>\n",
              "      <td>0.011833</td>\n",
              "    </tr>\n",
              "    <tr>\n",
              "      <th>56</th>\n",
              "      <td>race_o_Black/AfricanAmerican</td>\n",
              "      <td>0.011501</td>\n",
              "    </tr>\n",
              "    <tr>\n",
              "      <th>51</th>\n",
              "      <td>gender_male</td>\n",
              "      <td>0.011248</td>\n",
              "    </tr>\n",
              "    <tr>\n",
              "      <th>37</th>\n",
              "      <td>same_race</td>\n",
              "      <td>0.008203</td>\n",
              "    </tr>\n",
              "  </tbody>\n",
              "</table>\n",
              "</div>\n",
              "      <button class=\"colab-df-convert\" onclick=\"convertToInteractive('df-92e13a21-38e6-472d-a40b-8e8a66fc2b5f')\"\n",
              "              title=\"Convert this dataframe to an interactive table.\"\n",
              "              style=\"display:none;\">\n",
              "        \n",
              "  <svg xmlns=\"http://www.w3.org/2000/svg\" height=\"24px\"viewBox=\"0 0 24 24\"\n",
              "       width=\"24px\">\n",
              "    <path d=\"M0 0h24v24H0V0z\" fill=\"none\"/>\n",
              "    <path d=\"M18.56 5.44l.94 2.06.94-2.06 2.06-.94-2.06-.94-.94-2.06-.94 2.06-2.06.94zm-11 1L8.5 8.5l.94-2.06 2.06-.94-2.06-.94L8.5 2.5l-.94 2.06-2.06.94zm10 10l.94 2.06.94-2.06 2.06-.94-2.06-.94-.94-2.06-.94 2.06-2.06.94z\"/><path d=\"M17.41 7.96l-1.37-1.37c-.4-.4-.92-.59-1.43-.59-.52 0-1.04.2-1.43.59L10.3 9.45l-7.72 7.72c-.78.78-.78 2.05 0 2.83L4 21.41c.39.39.9.59 1.41.59.51 0 1.02-.2 1.41-.59l7.78-7.78 2.81-2.81c.8-.78.8-2.07 0-2.86zM5.41 20L4 18.59l7.72-7.72 1.47 1.35L5.41 20z\"/>\n",
              "  </svg>\n",
              "      </button>\n",
              "      \n",
              "  <style>\n",
              "    .colab-df-container {\n",
              "      display:flex;\n",
              "      flex-wrap:wrap;\n",
              "      gap: 12px;\n",
              "    }\n",
              "\n",
              "    .colab-df-convert {\n",
              "      background-color: #E8F0FE;\n",
              "      border: none;\n",
              "      border-radius: 50%;\n",
              "      cursor: pointer;\n",
              "      display: none;\n",
              "      fill: #1967D2;\n",
              "      height: 32px;\n",
              "      padding: 0 0 0 0;\n",
              "      width: 32px;\n",
              "    }\n",
              "\n",
              "    .colab-df-convert:hover {\n",
              "      background-color: #E2EBFA;\n",
              "      box-shadow: 0px 1px 2px rgba(60, 64, 67, 0.3), 0px 1px 3px 1px rgba(60, 64, 67, 0.15);\n",
              "      fill: #174EA6;\n",
              "    }\n",
              "\n",
              "    [theme=dark] .colab-df-convert {\n",
              "      background-color: #3B4455;\n",
              "      fill: #D2E3FC;\n",
              "    }\n",
              "\n",
              "    [theme=dark] .colab-df-convert:hover {\n",
              "      background-color: #434B5C;\n",
              "      box-shadow: 0px 1px 3px 1px rgba(0, 0, 0, 0.15);\n",
              "      filter: drop-shadow(0px 1px 2px rgba(0, 0, 0, 0.3));\n",
              "      fill: #FFFFFF;\n",
              "    }\n",
              "  </style>\n",
              "\n",
              "      <script>\n",
              "        const buttonEl =\n",
              "          document.querySelector('#df-92e13a21-38e6-472d-a40b-8e8a66fc2b5f button.colab-df-convert');\n",
              "        buttonEl.style.display =\n",
              "          google.colab.kernel.accessAllowed ? 'block' : 'none';\n",
              "\n",
              "        async function convertToInteractive(key) {\n",
              "          const element = document.querySelector('#df-92e13a21-38e6-472d-a40b-8e8a66fc2b5f');\n",
              "          const dataTable =\n",
              "            await google.colab.kernel.invokeFunction('convertToInteractive',\n",
              "                                                     [key], {});\n",
              "          if (!dataTable) return;\n",
              "\n",
              "          const docLinkHtml = 'Like what you see? Visit the ' +\n",
              "            '<a target=\"_blank\" href=https://colab.research.google.com/notebooks/data_table.ipynb>data table notebook</a>'\n",
              "            + ' to learn more about interactive tables.';\n",
              "          element.innerHTML = '';\n",
              "          dataTable['output_type'] = 'display_data';\n",
              "          await google.colab.output.renderOutput(dataTable, element);\n",
              "          const docLink = document.createElement('div');\n",
              "          docLink.innerHTML = docLinkHtml;\n",
              "          element.appendChild(docLink);\n",
              "        }\n",
              "      </script>\n",
              "    </div>\n",
              "  </div>\n",
              "  "
            ]
          },
          "metadata": {},
          "execution_count": 262
        }
      ]
    },
    {
      "cell_type": "code",
      "source": [
        "plt.figure(figsize=(100, 200))\n",
        "feature_imp.sort_values(by='values', ascending=True).plot(kind='bar')\n",
        "plt.show()"
      ],
      "metadata": {
        "colab": {
          "base_uri": "https://localhost:8080/",
          "height": 305
        },
        "id": "45Du1SOs4Yjn",
        "outputId": "8f44e34d-0f83-458c-ddc5-9deac5039f3c"
      },
      "execution_count": 263,
      "outputs": [
        {
          "output_type": "execute_result",
          "data": {
            "text/plain": [
              "<matplotlib.axes._subplots.AxesSubplot at 0x7f40b3d648e0>"
            ]
          },
          "metadata": {},
          "execution_count": 263
        },
        {
          "output_type": "display_data",
          "data": {
            "text/plain": [
              "<Figure size 7200x14400 with 0 Axes>"
            ]
          },
          "metadata": {}
        },
        {
          "output_type": "display_data",
          "data": {
            "text/plain": [
              "<Figure size 432x288 with 1 Axes>"
            ],
            "image/png": "[encoded data removed]"
          },
          "metadata": {
            "needs_background": "light"
          }
        }
      ]
    },
    {
      "cell_type": "code",
      "source": [
        "plt.figure(figsize=(20, 10))\n",
        "sns.barplot(x='values', y='features',\n",
        "            data= feature_imp.sort_values(by='values', ascending=False))"
      ],
      "metadata": {
        "colab": {
          "base_uri": "https://localhost:8080/",
          "height": 449
        },
        "id": "mMO9c8Aa40kq",
        "outputId": "044b761d-5664-4255-ac4e-4cccf419ce97"
      },
      "execution_count": 264,
      "outputs": [
        {
          "output_type": "execute_result",
          "data": {
            "text/plain": [
              "<matplotlib.axes._subplots.AxesSubplot at 0x7f40b48efa30>"
            ]
          },
          "metadata": {},
          "execution_count": 264
        },
        {
          "output_type": "display_data",
          "data": {
            "text/plain": [
              "<Figure size 1440x720 with 1 Axes>"
            ],
            "image/png": "[encoded data removed]"
          },
          "metadata": {
            "needs_background": "light"
          }
        }
      ]
    },
    {
      "cell_type": "code",
      "source": [
        "plt.figure(figsize=(20, 10))\n",
        "sns.barplot(x='values', y='features',\n",
        "            data= feature_imp.sort_values(by='values', ascending=False).head(10))\n",
        "# 상위 10개 출력"
      ],
      "metadata": {
        "colab": {
          "base_uri": "https://localhost:8080/",
          "height": 466
        },
        "id": "zGzIICR65NWl",
        "outputId": "98b52491-5d95-4ab7-d47e-254adc9c7569"
      },
      "execution_count": 265,
      "outputs": [
        {
          "output_type": "execute_result",
          "data": {
            "text/plain": [
              "<matplotlib.axes._subplots.AxesSubplot at 0x7f40b4b96fd0>"
            ]
          },
          "metadata": {},
          "execution_count": 265
        },
        {
          "output_type": "display_data",
          "data": {
            "text/plain": [
              "<Figure size 1440x720 with 1 Axes>"
            ],
            "image/png": "[encoded data removed]"
          },
          "metadata": {
            "needs_background": "light"
          }
        }
      ]
    },
    {
      "cell_type": "code",
      "source": [],
      "metadata": {
        "id": "mNzxj0MW5V47"
      },
      "execution_count": null,
      "outputs": []
    }
  ]
}